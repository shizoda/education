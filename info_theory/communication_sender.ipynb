{
  "cells": [
    {
      "cell_type": "markdown",
      "metadata": {
        "id": "dwJvB9blvhvS"
      },
      "source": [
        "# 通信シミュレーション（送信側）\n",
        "\n",
        "情報理論における符号化を学ぶため，雑音のある通信路を経由してメッセージを送信してみましょう．\n",
        "\n",
        "## 準備\n",
        "\n",
        "ストレージをマウントします．通信路として使用します．"
      ]
    },
    {
      "cell_type": "code",
      "execution_count": 9,
      "metadata": {
        "colab": {
          "base_uri": "https://localhost:8080/"
        },
        "id": "Vs_VwShuvdcj",
        "outputId": "506751cc-8927-4773-e4f2-a8ba6913d92c"
      },
      "outputs": [
        {
          "name": "stdout",
          "output_type": "stream",
          "text": [
            "Running on Google Colab\n",
            "Drive already mounted at /content/drive; to attempt to forcibly remount, call drive.mount(\"/content/drive\", force_remount=True).\n",
            "Saved directory is set to: /content/drive/MyDrive/info-theory\n",
            "current directory /content\n"
          ]
        }
      ],
      "source": [
        "try:\n",
        "    from google.colab import drive\n",
        "    IN_COLAB = True\n",
        "    print(\"Running on Google Colab\")\n",
        "    drive.mount('/content/drive')\n",
        "    saved_dir = '/content/drive/MyDrive/info-theory'\n",
        "except ImportError:\n",
        "    IN_COLAB = False\n",
        "    print(\"Not running on Google Colab\")\n",
        "    saved_dir = '//nas/info-theory'\n",
        "\n",
        "os.makedirs(saved_dir, exist_ok=True)\n",
        "print(f\"Saved directory is set to: {saved_dir}\")\n",
        "\n",
        "import os\n",
        "print(\"current directory\", os.getcwd())\n",
        "import sys\n",
        "sys.path.append(\"/content/drive/MyDrive\")\n",
        "# GitHubリポジトリのURL\n",
        "# !wget -q https://raw.githubusercontent.com/shizoda/education/main/info_theory/communication_lib.py\n",
        "\n",
        "# 必要なPythonファイルをインポートする\n",
        "import communication_lib"
      ]
    },
    {
      "cell_type": "markdown",
      "metadata": {
        "id": "XNbdX8Q6wrdX"
      },
      "source": [
        "## メッセージ\n",
        "\n",
        "送り主，宛先，メッセージ本文を指定します．\n",
        "\n",
        "なお，サンプルの英文は \"e\"，和文は「静」や「岡」が多用された文になっています．"
      ]
    },
    {
      "cell_type": "code",
      "execution_count": 10,
      "metadata": {
        "colab": {
          "base_uri": "https://localhost:8080/"
        },
        "id": "u7FmqM3LvhMt",
        "outputId": "ae003bc3-9951-42aa-fef9-ff7c9e2c6136"
      },
      "outputs": [
        {
          "name": "stdout",
          "output_type": "stream",
          "text": [
            "メッセージ: Everyone expects excellent experiences every evening. Each evening, Ellie eagerly eats exquisite edibles, enjoying every essence. Evenings envelop Ellie, embracing endless energy. Ellie engages effortlessly, expressing emotions endlessly. Every encounter elevates Ellie's enthusiasm, enriching every experience eternally.\n"
          ]
        }
      ],
      "source": [
        "message_from = \"alice\"\n",
        "message_to   = \"bob\"\n",
        "\n",
        "message = \"Everyone expects excellent experiences every evening. Each evening, Ellie eagerly eats exquisite edibles, enjoying every essence. Evenings envelop Ellie, embracing endless energy. Ellie engages effortlessly, expressing emotions endlessly. Every encounter elevates Ellie's enthusiasm, enriching every experience eternally.\"\n",
        "# message = \"静岡県は静かで美しい場所です。静岡市は県の中心です。静岡には静岡茶や静岡おでんなどの名物があります。静かな山々や岡の風景も楽しめます。\"\n",
        "print(f\"メッセージ: {message}\")"
      ]
    },
    {
      "cell_type": "code",
      "execution_count": null,
      "metadata": {},
      "outputs": [],
      "source": [
        "error_rate=0.2\n",
        "\n",
        "# ファイル名設定\n",
        "data_filename = f\"{saved_dir}/{orig}-{other}.txt\"\n",
        "codebook_filename = f\"{saved_dir}/{orig}-{other}-codebook.json\"\n",
        "padding_filename = f\"{saved_dir}/{orig}-{other}-padding.txt\""
      ]
    },
    {
      "cell_type": "code",
      "execution_count": null,
      "metadata": {},
      "outputs": [],
      "source": [
        "# 正しく並べ替えてください\n",
        "#### ここから\n",
        "\n",
        "print(\"\\n △△△符号化器：ハフマン符号\")\n",
        "encoded_text, codebook, padding_length = huffman_encoding(message)"
      ]
    },
    {
      "cell_type": "code",
      "execution_count": null,
      "metadata": {
        "id": "AmXVgz172ZJg"
      },
      "outputs": [],
      "source": [
        "\n",
        "print(\"\\n 通信路符号化器：ハミング符号\")\n",
        "encoded_data = hamming_encode(encoded_text)"
      ]
    },
    {
      "cell_type": "code",
      "execution_count": null,
      "metadata": {},
      "outputs": [],
      "source": [
        "print(\"\\n 雑音のある通信路から送信\")\n",
        "transmitted_data = introduce_errors(encoded_data, error_rate)\n",
        "\n",
        "#### ここまで"
      ]
    },
    {
      "cell_type": "code",
      "execution_count": null,
      "metadata": {},
      "outputs": [],
      "source": [
        "# 相手に届くビットには雑音が載る（一部の 0 / 1 がひっくり返る）\n",
        "save_to_file(data_filename, transmitted_data)\n",
        "save_codebook(codebook_filename, codebook)\n",
        "save_padding_length(padding_filename, padding_length)"
      ]
    }
  ],
  "metadata": {
    "colab": {
      "provenance": []
    },
    "kernelspec": {
      "display_name": "Python 3",
      "name": "python3"
    },
    "language_info": {
      "name": "python"
    }
  },
  "nbformat": 4,
  "nbformat_minor": 0
}
