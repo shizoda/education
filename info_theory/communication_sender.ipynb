{
  "cells": [
    {
      "cell_type": "markdown",
      "metadata": {
        "id": "view-in-github",
        "colab_type": "text"
      },
      "source": [
        "<a href=\"https://colab.research.google.com/github/shizoda/education/blob/main/info_theory/communication_sender.ipynb\" target=\"_parent\"><img src=\"https://colab.research.google.com/assets/colab-badge.svg\" alt=\"Open In Colab\"/></a>"
      ]
    },
    {
      "cell_type": "markdown",
      "metadata": {
        "id": "dwJvB9blvhvS"
      },
      "source": [
        "# 通信シミュレーション（送信側）\n",
        "\n",
        "情報理論における符号化を学ぶため，雑音のある通信路を経由してメッセージを送信してみましょう．\n",
        "\n",
        "## 準備\n",
        "\n",
        "ストレージをマウントします．通信路として使用します．"
      ]
    },
    {
      "cell_type": "code",
      "execution_count": null,
      "metadata": {
        "colab": {
          "base_uri": "https://localhost:8080/"
        },
        "id": "Vs_VwShuvdcj",
        "outputId": "646f31e4-10ba-48e7-bdfb-00749d34f7c3"
      },
      "outputs": [
        {
          "output_type": "stream",
          "name": "stdout",
          "text": [
            "Running on Google Colab\n",
            "Drive already mounted at /content/drive; to attempt to forcibly remount, call drive.mount(\"/content/drive\", force_remount=True).\n",
            "Saved directory is set to: /content/drive/MyDrive/info-theory\n",
            "current directory /content\n"
          ]
        }
      ],
      "source": [
        "try:\n",
        "    from google.colab import drive\n",
        "    IN_COLAB = True\n",
        "    print(\"Running on Google Colab\")\n",
        "    drive.mount('/content/drive')\n",
        "    saved_dir = '/content/drive/MyDrive/info-theory'\n",
        "except ImportError:\n",
        "    IN_COLAB = False\n",
        "    print(\"Not running on Google Colab\")\n",
        "    saved_dir = '//nas/info-theory'\n",
        "\n",
        "import os\n",
        "os.makedirs(saved_dir, exist_ok=True)\n",
        "print(f\"Saved directory is set to: {saved_dir}\")\n",
        "print(\"current directory\", os.getcwd())\n",
        "\n",
        "import sys\n",
        "sys.path.append(\"/content/drive/MyDrive\")\n",
        "\n",
        "# GitHubリポジトリのURL\n",
        "!wget -q https://raw.githubusercontent.com/shizoda/education/main/info_theory/communication_lib.py\n",
        "\n",
        "# 必要なPythonファイルをインポートする\n",
        "from communication_lib import *"
      ]
    },
    {
      "cell_type": "markdown",
      "metadata": {
        "id": "XNbdX8Q6wrdX"
      },
      "source": [
        "## メッセージ\n",
        "\n",
        "送り主，宛先，メッセージ本文を指定します．\n",
        "\n",
        "なお，サンプルの英文は \"e\"，和文は「静」や「岡」が多用された文になっています．"
      ]
    },
    {
      "cell_type": "code",
      "execution_count": null,
      "metadata": {
        "colab": {
          "base_uri": "https://localhost:8080/"
        },
        "id": "u7FmqM3LvhMt",
        "outputId": "ebb3ae72-d2b4-4ac3-f468-adb1e7a210ca"
      },
      "outputs": [
        {
          "output_type": "stream",
          "name": "stdout",
          "text": [
            "メッセージ: Everyone expects excellent experiences every evening. Each evening, Ellie eagerly eats exquisite edibles, enjoying every essence. Evenings envelop Ellie, embracing endless energy. Ellie engages effortlessly, expressing emotions endlessly. Every encounter elevates Ellie's enthusiasm, enriching every experience eternally.\n"
          ]
        }
      ],
      "source": [
        "message_from = \"alice\"\n",
        "message_to   = \"bob\"\n",
        "\n",
        "message = \"Everyone expects excellent experiences every evening. Each evening, Ellie eagerly eats exquisite edibles, enjoying every essence. Evenings envelop Ellie, embracing endless energy. Ellie engages effortlessly, expressing emotions endlessly. Every encounter elevates Ellie's enthusiasm, enriching every experience eternally.\"\n",
        "# message = \"静岡県は静かで美しい場所です。静岡市は県の中心です。静岡には静岡茶や静岡おでんなどの名物があります。静かな山々や岡の風景も楽しめます。\"\n",
        "print(f\"メッセージ: {message}\")"
      ]
    },
    {
      "cell_type": "code",
      "execution_count": null,
      "metadata": {
        "id": "xjRLcnducL32",
        "outputId": "93134592-82b7-46e7-bb08-4cacdb03625c",
        "colab": {
          "base_uri": "https://localhost:8080/"
        }
      },
      "outputs": [
        {
          "output_type": "stream",
          "name": "stdout",
          "text": [
            "△△△符号化器：ハフマン符号\n",
            "\n",
            "Character Codes: E:69 v:118 e:101 r:114 y:121 o:111 n:110 e:101  :32 e:101 x:120 p:112 e:101 c:99 t:116 s:115  :32 e:101 x:120 c:99 e:101 l:108 l:108 e:101 n:110 t:116  :32 e:101 x:120 p:112 e:101 r:114 i:105 e:101 n:110 c:99 e:101 s:115  :32 e:101 v:118 e:101 r:114 y:121  :32 e:101 v:118 e:101 n:110 i:105 n:110 g:103 .:46  :32 E:69 a:97 c:99 h:104  :32 e:101 v:118 e:101 n:110 i:105 n:110 g:103 ,:44  :32 E:69 l:108 l:108 i:105 e:101  :32 e:101 a:97 g:103 e:101 r:114 l:108 y:121  :32 e:101 a:97 t:116 s:115  :32 e:101 x:120 q:113 u:117 i:105 s:115 i:105 t:116 e:101  :32 e:101 d:100 i:105 b:98 l:108 e:101 s:115 ,:44  :32 e:101 n:110 j:106 o:111 y:121 i:105 n:110 g:103  :32 e:101 v:118 e:101 r:114 y:121  :32 e:101 s:115 s:115 e:101 n:110 c:99 e:101 .:46  :32 E:69 v:118 e:101 n:110 i:105 n:110 g:103 s:115  :32 e:101 n:110 v:118 e:101 l:108 o:111 p:112  :32 E:69 l:108 l:108 i:105 e:101 ,:44  :32 e:101 m:109 b:98 r:114 a:97 c:99 i:105 n:110 g:103  :32 e:101 n:110 d:100 l:108 e:101 s:115 s:115  :32 e:101 n:110 e:101 r:114 g:103 y:121 .:46  :32 E:69 l:108 l:108 i:105 e:101  :32 e:101 n:110 g:103 a:97 g:103 e:101 s:115  :32 e:101 f:102 f:102 o:111 r:114 t:116 l:108 e:101 s:115 s:115 l:108 y:121 ,:44  :32 e:101 x:120 p:112 r:114 e:101 s:115 s:115 i:105 n:110 g:103  :32 e:101 m:109 o:111 t:116 i:105 o:111 n:110 s:115  :32 e:101 n:110 d:100 l:108 e:101 s:115 s:115 l:108 y:121 .:46  :32 E:69 v:118 e:101 r:114 y:121  :32 e:101 n:110 c:99 o:111 u:117 n:110 t:116 e:101 r:114  :32 e:101 l:108 e:101 v:118 a:97 t:116 e:101 s:115  :32 E:69 l:108 l:108 i:105 e:101 ':39 s:115  :32 e:101 n:110 t:116 h:104 u:117 s:115 i:105 a:97 s:115 m:109 ,:44  :32 e:101 n:110 r:114 i:105 c:99 h:104 i:105 n:110 g:103  :32 e:101 v:118 e:101 r:114 y:121  :32 e:101 x:120 p:112 e:101 r:114 i:105 e:101 n:110 c:99 e:101  :32 e:101 t:116 e:101 r:114 n:110 a:97 l:108 l:108 y:121 .:46\n",
            "\n",
            "Codebook:  e:00  :011 i:0101 l:1010 s:1011 n:1110 E:01000 a:01001 c:10000 v:10010 t:10011 y:11000 g:11010 r:11111 p:100010 ,:100011 .:110010 x:110111 o:111100 m:1100110 d:1101100 u:1101101 h:1111010 q:11001110 f:11001111 b:11110110 ':111101110 j:111101111\n",
            "\n",
            "Huffman Encoded: 01000 10010 00 11111 11000 111100 1110 00 011 00 110111 100010 00 10000 10011 10...\n"
          ]
        }
      ],
      "source": [
        "# 正しく並べ替えてください\n",
        "#### ここから\n",
        "\n",
        "print(\"△△△符号化器：ハフマン符号\")\n",
        "encoded_text, codebook, padding_length = huffman_encoding(message)"
      ]
    },
    {
      "cell_type": "code",
      "execution_count": null,
      "metadata": {
        "id": "AmXVgz172ZJg",
        "outputId": "e762dd3b-8e84-4c5d-e296-226b61b18b52",
        "colab": {
          "base_uri": "https://localhost:8080/"
        }
      },
      "outputs": [
        {
          "output_type": "stream",
          "name": "stdout",
          "text": [
            "通信路符号化器：ハミング符号\n",
            "Hamming Input  : 0100 0100 1000 1111 1110 0011 1100 1110 0001 1001 1011 1100 01.. .\n",
            "Hamming Encoded: 1001100 1001100 1110000 1111111 0010110 1000011 0111100 0...\n"
          ]
        }
      ],
      "source": [
        "\n",
        "print(\"通信路符号化器：ハミング符号\")\n",
        "encoded_data = hamming_encode(encoded_text)"
      ]
    },
    {
      "cell_type": "code",
      "execution_count": null,
      "metadata": {
        "id": "D_q1YtqRcL32",
        "outputId": "00199977-58e9-4d06-f769-502e898f3872",
        "colab": {
          "base_uri": "https://localhost:8080/"
        }
      },
      "outputs": [
        {
          "output_type": "stream",
          "name": "stdout",
          "text": [
            "雑音のある通信路から送信\n",
            "\n",
            "雑音のある通信路\n",
            "Transmitted    : 1101100 1001000 1110000 1111011 0010111 1000011 0111100 0...\n"
          ]
        }
      ],
      "source": [
        "print(\"雑音のある通信路から送信\")\n",
        "transmitted_data = introduce_errors(encoded_data, error_rate)\n",
        "\n",
        "#### ここまで"
      ]
    },
    {
      "cell_type": "code",
      "execution_count": null,
      "metadata": {
        "id": "xinTYhZZcL33"
      },
      "outputs": [],
      "source": [
        "# 相手に届くビットには雑音が載る（一部の 0 / 1 がひっくり返る）\n",
        "send_message(saved_dir, message_from, message_to)"
      ]
    }
  ],
  "metadata": {
    "colab": {
      "provenance": [],
      "include_colab_link": true
    },
    "kernelspec": {
      "display_name": "Python 3",
      "name": "python3"
    },
    "language_info": {
      "name": "python"
    }
  },
  "nbformat": 4,
  "nbformat_minor": 0
}