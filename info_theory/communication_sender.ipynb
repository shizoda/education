{
  "cells": [
    {
      "cell_type": "markdown",
      "metadata": {
        "id": "view-in-github",
        "colab_type": "text"
      },
      "source": [
        "<a href=\"https://colab.research.google.com/github/shizoda/education/blob/main/info_theory/communication_sender.ipynb\" target=\"_parent\"><img src=\"https://colab.research.google.com/assets/colab-badge.svg\" alt=\"Open In Colab\"/></a>"
      ]
    },
    {
      "cell_type": "markdown",
      "metadata": {
        "id": "dwJvB9blvhvS"
      },
      "source": [
        "# 通信シミュレーション（送信側）\n",
        "\n",
        "情報理論における符号化を学ぶため，雑音のある通信路を経由してメッセージを送信してみましょう．\n",
        "\n",
        "## 準備\n",
        "\n",
        "ストレージをマウントします．通信路として使用します．"
      ]
    },
    {
      "cell_type": "code",
      "execution_count": 8,
      "metadata": {
        "colab": {
          "base_uri": "https://localhost:8080/"
        },
        "id": "Vs_VwShuvdcj",
        "outputId": "0e879509-075a-4fb3-b770-c92d87bd8901"
      },
      "outputs": [
        {
          "output_type": "stream",
          "name": "stdout",
          "text": [
            "Running on Google Colab\n",
            "Drive already mounted at /content/drive; to attempt to forcibly remount, call drive.mount(\"/content/drive\", force_remount=True).\n",
            "Saved directory is set to: /content/drive/MyDrive/info-theory\n"
          ]
        }
      ],
      "source": [
        "try:\n",
        "    from google.colab import drive\n",
        "    IN_COLAB = True\n",
        "    print(\"Running on Google Colab\")\n",
        "    drive.mount('/content/drive')\n",
        "    saved_dir = '/content/drive/MyDrive/info-theory'\n",
        "except ImportError:\n",
        "    IN_COLAB = False\n",
        "    print(\"Not running on Google Colab\")\n",
        "    saved_dir = '//nas/info-theory'\n",
        "\n",
        "import os\n",
        "os.makedirs(saved_dir, exist_ok=True)\n",
        "print(f\"Saved directory is set to: {saved_dir}\")\n",
        "\n",
        "import sys\n",
        "sys.path.append(saved_dir)\n",
        "\n",
        "# GitHubリポジトリのURL\n",
        "!wget -q -O {saved_dir}/communication_lib.py https://raw.githubusercontent.com/shizoda/education/main/info_theory/communication_lib.py\n",
        "\n",
        "# 必要なPythonファイルをインポートする\n",
        "from communication_lib import *"
      ]
    },
    {
      "cell_type": "markdown",
      "metadata": {
        "id": "XNbdX8Q6wrdX"
      },
      "source": [
        "## メッセージ\n",
        "\n",
        "送り主，宛先，メッセージ本文を指定します．\n",
        "\n",
        "なお，サンプルの英文は \"e\"，和文は「静」や「岡」が多用された文になっています．"
      ]
    },
    {
      "cell_type": "code",
      "execution_count": 2,
      "metadata": {
        "colab": {
          "base_uri": "https://localhost:8080/"
        },
        "id": "u7FmqM3LvhMt",
        "outputId": "70bf2d74-ea02-4524-a9e2-87ccc827445a"
      },
      "outputs": [
        {
          "output_type": "stream",
          "name": "stdout",
          "text": [
            "メッセージ: Everyone expects excellent experiences every evening. Each evening, Ellie eagerly eats exquisite edibles, enjoying every essence. Evenings envelop Ellie, embracing endless energy. Ellie engages effortlessly, expressing emotions endlessly. Every encounter elevates Ellie's enthusiasm, enriching every experience eternally.\n"
          ]
        }
      ],
      "source": [
        "message_from = \"alice\"\n",
        "message_to   = \"bob\"\n",
        "\n",
        "message = \"Everyone expects excellent experiences every evening. Each evening, Ellie eagerly eats exquisite edibles, enjoying every essence. Evenings envelop Ellie, embracing endless energy. Ellie engages effortlessly, expressing emotions endlessly. Every encounter elevates Ellie's enthusiasm, enriching every experience eternally.\"\n",
        "# message = \"静岡県は静かで美しい場所です。静岡市は県の中心です。静岡には静岡茶や静岡おでんなどの名物があります。静かな山々や岡の風景も楽しめます。\"\n",
        "print(f\"メッセージ: {message}\")"
      ]
    },
    {
      "cell_type": "code",
      "execution_count": 3,
      "metadata": {
        "id": "xjRLcnducL32",
        "outputId": "b726852b-13cc-477c-809b-86f75b03dc8f",
        "colab": {
          "base_uri": "https://localhost:8080/"
        }
      },
      "outputs": [
        {
          "output_type": "stream",
          "name": "stdout",
          "text": [
            "△△△符号化器：ハフマン符号\n",
            "\n",
            "Character Codes: E:69 v:118 e:101 r:114 y:121 o:111 n:110 e:101  :32 e:101 x:120 p:112 e:101 c:99 t:116 s:115  :32 e:101 x:120 c:99 e:101 l:108 l:108 e:101 n:110 t:116  :32 e:101 x:120 p:112 e:101 r:114 i:105 e:101 n:110 c:99 e:101 s:115  :32 e:101 v:118 e:101 r:114 y:121  :32 e:101 v:118 e:101 n:110 i:105 n:110 g:103 .:46  :32 E:69 a:97 c:99 h:104  :32 e:101 v:118 e:101 n:110 i:105 n:110 g:103 ,:44  :32 E:69 l:108 l:108 i:105 e:101  :32 e:101 a:97 g:103 e:101 r:114 l:108 y:121  :32 e:101 a:97 t:116 s:115  :32 e:101 x:120 q:113 u:117 i:105 s:115 i:105 t:116 e:101  :32 e:101 d:100 i:105 b:98 l:108 e:101 s:115 ,:44  :32 e:101 n:110 j:106 o:111 y:121 i:105 n:110 g:103  :32 e:101 v:118 e:101 r:114 y:121  :32 e:101 s:115 s:115 e:101 n:110 c:99 e:101 .:46  :32 E:69 v:118 e:101 n:110 i:105 n:110 g:103 s:115  :32 e:101 n:110 v:118 e:101 l:108 o:111 p:112  :32 E:69 l:108 l:108 i:105 e:101 ,:44  :32 e:101 m:109 b:98 r:114 a:97 c:99 i:105 n:110 g:103  :32 e:101 n:110 d:100 l:108 e:101 s:115 s:115  :32 e:101 n:110 e:101 r:114 g:103 y:121 .:46  :32 E:69 l:108 l:108 i:105 e:101  :32 e:101 n:110 g:103 a:97 g:103 e:101 s:115  :32 e:101 f:102 f:102 o:111 r:114 t:116 l:108 e:101 s:115 s:115 l:108 y:121 ,:44  :32 e:101 x:120 p:112 r:114 e:101 s:115 s:115 i:105 n:110 g:103  :32 e:101 m:109 o:111 t:116 i:105 o:111 n:110 s:115  :32 e:101 n:110 d:100 l:108 e:101 s:115 s:115 l:108 y:121 .:46  :32 E:69 v:118 e:101 r:114 y:121  :32 e:101 n:110 c:99 o:111 u:117 n:110 t:116 e:101 r:114  :32 e:101 l:108 e:101 v:118 a:97 t:116 e:101 s:115  :32 E:69 l:108 l:108 i:105 e:101 ':39 s:115  :32 e:101 n:110 t:116 h:104 u:117 s:115 i:105 a:97 s:115 m:109 ,:44  :32 e:101 n:110 r:114 i:105 c:99 h:104 i:105 n:110 g:103  :32 e:101 v:118 e:101 r:114 y:121  :32 e:101 x:120 p:112 e:101 r:114 i:105 e:101 n:110 c:99 e:101  :32 e:101 t:116 e:101 r:114 n:110 a:97 l:108 l:108 y:121 .:46\n",
            "\n",
            "Codebook:  e:00  :011 i:0101 l:1010 s:1011 n:1110 E:01000 a:01001 c:10000 v:10010 t:10011 y:11000 g:11010 r:11111 p:100010 ,:100011 .:110010 x:110111 o:111100 m:1100110 d:1101100 u:1101101 h:1111010 q:11001110 f:11001111 b:11110110 ':111101110 j:111101111\n",
            "\n",
            "Huffman Encoded: 01000 10010 00 11111 11000 111100 1110 00 011 00 110111 100010 00 10000 10011 10...\n"
          ]
        }
      ],
      "source": [
        "# 正しく並べ替えてください\n",
        "#### ここから\n",
        "\n",
        "print(\"△△△符号化器：ハフマン符号\")\n",
        "encoded_text, codebook, padding_length = huffman_encoding(message)"
      ]
    },
    {
      "cell_type": "code",
      "execution_count": 4,
      "metadata": {
        "id": "AmXVgz172ZJg",
        "outputId": "945c7366-8bcc-41ab-bfce-f9c7fe253afc",
        "colab": {
          "base_uri": "https://localhost:8080/"
        }
      },
      "outputs": [
        {
          "output_type": "stream",
          "name": "stdout",
          "text": [
            "通信路符号化器：ハミング符号\n",
            "Hamming Input  : 0100 0100 1000 1111 1110 0011 1100 1110 0001 1001 1011 1100 01.. .\n",
            "Hamming Encoded: 1001100 1001100 1110000 1111111 0010110 1000011 0111100 0...\n"
          ]
        }
      ],
      "source": [
        "print(\"通信路符号化器：ハミング符号\")\n",
        "encoded_data = hamming_encode(encoded_text)"
      ]
    },
    {
      "cell_type": "code",
      "execution_count": 5,
      "metadata": {
        "id": "xinTYhZZcL33",
        "outputId": "53b9e57f-90e0-4271-9afa-955507748db8",
        "colab": {
          "base_uri": "https://localhost:8080/",
          "height": 387
        }
      },
      "outputs": [
        {
          "output_type": "stream",
          "name": "stdout",
          "text": [
            "雑音のある通信路から送信\n"
          ]
        },
        {
          "output_type": "error",
          "ename": "TypeError",
          "evalue": "'<' not supported between instances of 'float' and 'str'",
          "traceback": [
            "\u001b[0;31m---------------------------------------------------------------------------\u001b[0m",
            "\u001b[0;31mTypeError\u001b[0m                                 Traceback (most recent call last)",
            "\u001b[0;32m<ipython-input-5-896dc559cec6>\u001b[0m in \u001b[0;36m<cell line: 3>\u001b[0;34m()\u001b[0m\n\u001b[1;32m      1\u001b[0m \u001b[0;31m# 相手に届くビットには雑音が載る（一部の 0 / 1 がひっくり返る）\u001b[0m\u001b[0;34m\u001b[0m\u001b[0;34m\u001b[0m\u001b[0m\n\u001b[1;32m      2\u001b[0m \u001b[0mprint\u001b[0m\u001b[0;34m(\u001b[0m\u001b[0;34m\"雑音のある通信路から送信\"\u001b[0m\u001b[0;34m)\u001b[0m\u001b[0;34m\u001b[0m\u001b[0;34m\u001b[0m\u001b[0m\n\u001b[0;32m----> 3\u001b[0;31m \u001b[0msend_message\u001b[0m\u001b[0;34m(\u001b[0m\u001b[0msaved_dir\u001b[0m\u001b[0;34m,\u001b[0m \u001b[0mmessage_from\u001b[0m\u001b[0;34m,\u001b[0m \u001b[0mmessage_to\u001b[0m\u001b[0;34m,\u001b[0m \u001b[0mcodebook\u001b[0m\u001b[0;34m,\u001b[0m \u001b[0mencoded_data\u001b[0m\u001b[0;34m)\u001b[0m\u001b[0;34m\u001b[0m\u001b[0;34m\u001b[0m\u001b[0m\n\u001b[0m",
            "\u001b[0;32m/content/drive/MyDrive/info-theory/communication_lib.py\u001b[0m in \u001b[0;36msend_message\u001b[0;34m(saved_dir, message_from, message_to, encoded_data, error_rate)\u001b[0m\n\u001b[1;32m    234\u001b[0m \u001b[0;34m\u001b[0m\u001b[0m\n\u001b[1;32m    235\u001b[0m \u001b[0;32mdef\u001b[0m \u001b[0msend_message\u001b[0m\u001b[0;34m(\u001b[0m\u001b[0msaved_dir\u001b[0m\u001b[0;34m,\u001b[0m \u001b[0mmessage_from\u001b[0m\u001b[0;34m,\u001b[0m \u001b[0mmessage_to\u001b[0m\u001b[0;34m,\u001b[0m \u001b[0mencoded_data\u001b[0m\u001b[0;34m,\u001b[0m \u001b[0merror_rate\u001b[0m\u001b[0;34m=\u001b[0m\u001b[0;36m0.2\u001b[0m\u001b[0;34m)\u001b[0m\u001b[0;34m:\u001b[0m\u001b[0;34m\u001b[0m\u001b[0;34m\u001b[0m\u001b[0m\n\u001b[0;32m--> 236\u001b[0;31m     \u001b[0mtransmitted_data\u001b[0m \u001b[0;34m=\u001b[0m \u001b[0mintroduce_errors\u001b[0m\u001b[0;34m(\u001b[0m\u001b[0mencoded_data\u001b[0m\u001b[0;34m,\u001b[0m \u001b[0merror_rate\u001b[0m\u001b[0;34m)\u001b[0m\u001b[0;34m\u001b[0m\u001b[0;34m\u001b[0m\u001b[0m\n\u001b[0m\u001b[1;32m    237\u001b[0m     \u001b[0;31m# ファイル名設定\u001b[0m\u001b[0;34m\u001b[0m\u001b[0;34m\u001b[0m\u001b[0m\n\u001b[1;32m    238\u001b[0m     \u001b[0mdata_filename\u001b[0m \u001b[0;34m=\u001b[0m \u001b[0;34mf\"{saved_dir}/{message_from}-{message_to}.txt\"\u001b[0m\u001b[0;34m\u001b[0m\u001b[0;34m\u001b[0m\u001b[0m\n",
            "\u001b[0;32m/content/drive/MyDrive/info-theory/communication_lib.py\u001b[0m in \u001b[0;36mintroduce_errors\u001b[0;34m(encoded_data, error_rate)\u001b[0m\n\u001b[1;32m    176\u001b[0m             \u001b[0mflip_prohibited_count\u001b[0m \u001b[0;34m-=\u001b[0m \u001b[0;36m1\u001b[0m\u001b[0;34m\u001b[0m\u001b[0;34m\u001b[0m\u001b[0m\n\u001b[1;32m    177\u001b[0m         \u001b[0;32melse\u001b[0m\u001b[0;34m:\u001b[0m\u001b[0;34m\u001b[0m\u001b[0;34m\u001b[0m\u001b[0m\n\u001b[0;32m--> 178\u001b[0;31m             \u001b[0;32mif\u001b[0m \u001b[0mrandom\u001b[0m\u001b[0;34m.\u001b[0m\u001b[0mrandom\u001b[0m\u001b[0;34m(\u001b[0m\u001b[0;34m)\u001b[0m \u001b[0;34m<\u001b[0m \u001b[0merror_rate\u001b[0m\u001b[0;34m:\u001b[0m\u001b[0;34m\u001b[0m\u001b[0;34m\u001b[0m\u001b[0m\n\u001b[0m\u001b[1;32m    179\u001b[0m                 \u001b[0mflipped_bit\u001b[0m \u001b[0;34m=\u001b[0m \u001b[0;34m'1'\u001b[0m \u001b[0;32mif\u001b[0m \u001b[0mbit\u001b[0m \u001b[0;34m==\u001b[0m \u001b[0;34m'0'\u001b[0m \u001b[0;32melse\u001b[0m \u001b[0;34m'0'\u001b[0m\u001b[0;34m\u001b[0m\u001b[0;34m\u001b[0m\u001b[0m\n\u001b[1;32m    180\u001b[0m                 \u001b[0mresult\u001b[0m\u001b[0;34m.\u001b[0m\u001b[0mappend\u001b[0m\u001b[0;34m(\u001b[0m\u001b[0mflipped_bit\u001b[0m\u001b[0;34m)\u001b[0m\u001b[0;34m\u001b[0m\u001b[0;34m\u001b[0m\u001b[0m\n",
            "\u001b[0;31mTypeError\u001b[0m: '<' not supported between instances of 'float' and 'str'"
          ]
        }
      ],
      "source": [
        "# 相手に届くビットには雑音が載る（一部の 0 / 1 がひっくり返る）\n",
        "print(\"雑音のある通信路から送信\")\n",
        "send_message(saved_dir, message_from, message_to, codebook, encoded_data)"
      ]
    }
  ],
  "metadata": {
    "colab": {
      "provenance": [],
      "include_colab_link": true
    },
    "kernelspec": {
      "display_name": "Python 3",
      "name": "python3"
    },
    "language_info": {
      "name": "python"
    }
  },
  "nbformat": 4,
  "nbformat_minor": 0
}