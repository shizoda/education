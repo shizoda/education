{
  "cells": [
    {
      "cell_type": "markdown",
      "metadata": {
        "id": "view-in-github",
        "colab_type": "text"
      },
      "source": [
        "<a href=\"https://colab.research.google.com/github/shizoda/education/blob/main/info_theory/communication_sender.ipynb\" target=\"_parent\"><img src=\"https://colab.research.google.com/assets/colab-badge.svg\" alt=\"Open In Colab\"/></a>"
      ]
    },
    {
      "cell_type": "markdown",
      "metadata": {
        "id": "dwJvB9blvhvS"
      },
      "source": [
        "# 通信シミュレーション（送信側）\n",
        "\n",
        "このプログラムは，情報理論における符号化を学ぶため，雑音のある通信路を経由してメッセージを送信するためのプログラムです．具体的には，ハフマン符号化とハミング符号化を行い，雑音のある経路からデータの送信を行います．また，今回は情報のやりとりをGoogle Driveを経由して行います．\n",
        "\n",
        "## 準備\n",
        "\n",
        "まず，Google Driveをマウントします．この際，Googleからの警告が出るので，マウントの許可を行ってください．このとき，送信するデータはMyDriveの下に自動で追加されるinfo-theorフォルダに保存されます．\n",
        "\n",
        "使用するライブラリはGithub上に存在するため，wgetで取得し，importを行います．"
      ]
    },
    {
      "cell_type": "code",
      "execution_count": null,
      "metadata": {
        "colab": {
          "base_uri": "https://localhost:8080/"
        },
        "id": "Vs_VwShuvdcj",
        "outputId": "0d8ab6bb-ce83-4fe5-b297-70cc9a5032be"
      },
      "outputs": [
        {
          "output_type": "stream",
          "name": "stdout",
          "text": [
            "Running on Google Colab\n",
            "Drive already mounted at /content/drive; to attempt to forcibly remount, call drive.mount(\"/content/drive\", force_remount=True).\n",
            "Saved directory is set to: /content/drive/MyDrive/info-theory\n"
          ]
        }
      ],
      "source": [
        "try:\n",
        "    from google.colab import drive\n",
        "    IN_COLAB = True\n",
        "    print(\"Running on Google Colab\")\n",
        "    drive.mount('/content/drive')\n",
        "    saved_dir = '/content/drive/MyDrive/info-theory'\n",
        "except ImportError:\n",
        "    IN_COLAB = False\n",
        "    print(\"Not running on Google Colab\")\n",
        "    saved_dir = '//nas/info-theory'\n",
        "\n",
        "import os\n",
        "os.makedirs(saved_dir, exist_ok=True)\n",
        "print(f\"Saved directory is set to: {saved_dir}\")\n",
        "\n",
        "import sys\n",
        "sys.path.append(saved_dir)\n",
        "\n",
        "# GitHubリポジトリのURL\n",
        "!wget -q -O {saved_dir}/communication_lib.py https://raw.githubusercontent.com/shizoda/education/main/info_theory/communication_lib.py\n",
        "\n",
        "# 必要なPythonファイルをインポートする\n",
        "from communication_lib import *"
      ]
    },
    {
      "cell_type": "markdown",
      "metadata": {
        "id": "XNbdX8Q6wrdX"
      },
      "source": [
        "## メッセージ\n",
        "\n",
        "送り主，宛先，メッセージ本文を指定します．以下のコードでは，aliceがデータを送信し，bobが受信します．\n",
        "\n",
        "なお，サンプルの英文は \"e\"，和文は「静」や「岡」が多用された文になっています．これはハフマン符号化を効果的に行うためです．"
      ]
    },
    {
      "cell_type": "code",
      "execution_count": null,
      "metadata": {
        "colab": {
          "base_uri": "https://localhost:8080/"
        },
        "id": "u7FmqM3LvhMt",
        "outputId": "43aeb959-76b9-45cb-f7ff-21b49f668167"
      },
      "outputs": [
        {
          "output_type": "stream",
          "name": "stdout",
          "text": [
            "メッセージ: Everyone expects excellent experiences every evening. Each evening, Ellie eagerly eats exquisite edibles, enjoying every essence. Evenings envelop Ellie, embracing endless energy. Ellie engages effortlessly, expressing emotions endlessly. Every encounter elevates Ellie's enthusiasm, enriching every experience eternally.\n"
          ]
        }
      ],
      "source": [
        "message_from = \"alice\"\n",
        "message_to   = \"bob\"\n",
        "\n",
        "message = \"Everyone expects excellent experiences every evening. Each evening, Ellie eagerly eats exquisite edibles, enjoying every essence. Evenings envelop Ellie, embracing endless energy. Ellie engages effortlessly, expressing emotions endlessly. Every encounter elevates Ellie's enthusiasm, enriching every experience eternally.\"\n",
        "# message = \"静岡県は静かで美しい場所です。静岡市は県の中心です。静岡には静岡茶や静岡おでんなどの名物があります。静かな山々や岡の風景も楽しめます。\"\n",
        "print(f\"メッセージ: {message}\")"
      ]
    },
    {
      "cell_type": "markdown",
      "source": [
        "## 符号化・送信の実施\n",
        "\n",
        "以下ではハフマン符号化，ハミング符号化，雑音のある通信路からの送信を行います．\n",
        "次の説明を参考に，ハフマン符号化，ハミング符号化，雑音のある通信路からの送信を行うセルの順番を正しく入れ替えて，データを送信してください．\n",
        "\n",
        "### ハフマン符号\n",
        "\n",
        "ハフマン符号は，可逆なデータ圧縮のためのアルゴリズムの1つです．基本原理としては，出現頻度の高い文字に対しては短い符号を，頻度の高い文字に対しては長い符号を振り分けることで，すべての文字に同じ長さの符号を振り分けるよりも，全体の符号化後のデータサイズを最小にしています．\n",
        "\n",
        "実際にハフマン符号化を行う際には，文字の出現頻度によって，ハフマン木と呼ばれる木構造を作成します．この木では，葉に近いノードほど出現頻度が低く，根に近いノードほど出現頻度が高くなります．また，自分よりも根に近いノードの数が多ければ多いほど，符号の長さが長くなります．以下のコードでは，ハフマン符号化を行った際に用いたハフマン木も出力されます．\n",
        "\n",
        "### ハミング符号\n",
        "\n",
        "ハミング符号は，データ通信などで誤り検出と訂正を行うための誤り訂正符号の一種です．これにより，通信中や保存中に発生する単一ビット誤りを検出し，訂正することが出来ます．ハミング符号は，データビットとパリティビットを組み合わせて構成されます．データビットは送信したいデータが保存され，パリティビットは特定のデータビットの組み合わせに基づいて計算され，データビットに誤りが生じた際に，その位置を特定し，訂正するために使用されます．\n",
        "\n",
        "ハミング符号は，単一ビットエラーには対応できますが，複数のビットエラーには対応できないため，実用上はより高度なエラー訂正技術と組み合わせて使用されます．\n",
        "\n",
        "以下のコードでは，単一ビットエラーのみが発生することを仮定し，ハミング符号化を行います．\n",
        "\n",
        "### 雑音のある通信路からの送信\n",
        "\n",
        "実際にデータをやりとりする際には，"
      ],
      "metadata": {
        "id": "LjYvEr658fEt"
      }
    },
    {
      "cell_type": "code",
      "execution_count": null,
      "metadata": {
        "id": "xjRLcnducL32",
        "outputId": "d4974dae-7a27-43ba-d9d9-861c23283958",
        "colab": {
          "base_uri": "https://localhost:8080/"
        }
      },
      "outputs": [
        {
          "output_type": "stream",
          "name": "stdout",
          "text": [
            "△△△符号化器：ハフマン符号\n",
            "\n",
            "Character Codes: E:69 v:118 e:101 r:114 y:121 o:111 n:110 e:101  :32 e:101 x:120 p:112 e:101 c:99 t:116 s:115  :32 e:101 x:120 c:99 e:101 l:108 l:108 e:101 n:110 t:116  :32 e:101 x:120 p:112 e:101 r:114 i:105 e:101 n:110 c:99 e:101 s:115  :32 e:101 v:118 e:101 r:114 y:121  :32 e:101 v:118 e:101 n:110 i:105 n:110 g:103 .:46  :32 E:69 a:97 c:99 h:104  :32 e:101 v:118 e:101 n:110 i:105 n:110 g:103 ,:44  :32 E:69 l:108 l:108 i:105 e:101  :32 e:101 a:97 g:103 e:101 r:114 l:108 y:121  :32 e:101 a:97 t:116 s:115  :32 e:101 x:120 q:113 u:117 i:105 s:115 i:105 t:116 e:101  :32 e:101 d:100 i:105 b:98 l:108 e:101 s:115 ,:44  :32 e:101 n:110 j:106 o:111 y:121 i:105 n:110 g:103  :32 e:101 v:118 e:101 r:114 y:121  :32 e:101 s:115 s:115 e:101 n:110 c:99 e:101 .:46  :32 E:69 v:118 e:101 n:110 i:105 n:110 g:103 s:115  :32 e:101 n:110 v:118 e:101 l:108 o:111 p:112  :32 E:69 l:108 l:108 i:105 e:101 ,:44  :32 e:101 m:109 b:98 r:114 a:97 c:99 i:105 n:110 g:103  :32 e:101 n:110 d:100 l:108 e:101 s:115 s:115  :32 e:101 n:110 e:101 r:114 g:103 y:121 .:46  :32 E:69 l:108 l:108 i:105 e:101  :32 e:101 n:110 g:103 a:97 g:103 e:101 s:115  :32 e:101 f:102 f:102 o:111 r:114 t:116 l:108 e:101 s:115 s:115 l:108 y:121 ,:44  :32 e:101 x:120 p:112 r:114 e:101 s:115 s:115 i:105 n:110 g:103  :32 e:101 m:109 o:111 t:116 i:105 o:111 n:110 s:115  :32 e:101 n:110 d:100 l:108 e:101 s:115 s:115 l:108 y:121 .:46  :32 E:69 v:118 e:101 r:114 y:121  :32 e:101 n:110 c:99 o:111 u:117 n:110 t:116 e:101 r:114  :32 e:101 l:108 e:101 v:118 a:97 t:116 e:101 s:115  :32 E:69 l:108 l:108 i:105 e:101 ':39 s:115  :32 e:101 n:110 t:116 h:104 u:117 s:115 i:105 a:97 s:115 m:109 ,:44  :32 e:101 n:110 r:114 i:105 c:99 h:104 i:105 n:110 g:103  :32 e:101 v:118 e:101 r:114 y:121  :32 e:101 x:120 p:112 e:101 r:114 i:105 e:101 n:110 c:99 e:101  :32 e:101 t:116 e:101 r:114 n:110 a:97 l:108 l:108 y:121 .:46\n",
            "\n",
            "Codebook:  e:00  :011 i:0101 l:1010 s:1011 n:1110 E:01000 a:01001 c:10000 v:10010 t:10011 y:11000 g:11010 r:11111 p:100010 ,:100011 .:110010 x:110111 o:111100 m:1100110 d:1101100 u:1101101 h:1111010 q:11001110 f:11001111 b:11110110 ':111101110 j:111101111\n",
            "\n",
            "Huffman Encoded: 01000 10010 00 11111 11000 111100 1110 00 011 00 110111 100010 00 10000 10011 10...\n"
          ]
        }
      ],
      "source": [
        "print(\"△△△符号化器：ハフマン符号\")\n",
        "encoded_text, codebook, padding_length = huffman_encoding(message)"
      ]
    },
    {
      "cell_type": "code",
      "execution_count": null,
      "metadata": {
        "id": "AmXVgz172ZJg",
        "outputId": "9b31cfcf-a43f-4f25-c705-a9bd481dad9a",
        "colab": {
          "base_uri": "https://localhost:8080/"
        }
      },
      "outputs": [
        {
          "output_type": "stream",
          "name": "stdout",
          "text": [
            "通信路符号化器：ハミング符号\n",
            "Hamming Input  : 0100 0100 1000 1111 1110 0011 1100 1110 0001 1001 1011 1100 01.. .\n",
            "Hamming Encoded: 1001100 1001100 1110000 1111111 0010110 1000011 0111100 0...\n"
          ]
        }
      ],
      "source": [
        "print(\"△△△符号化器：ハミング符号\")\n",
        "encoded_data = hamming_encode(encoded_text)"
      ]
    },
    {
      "cell_type": "code",
      "execution_count": null,
      "metadata": {
        "id": "xinTYhZZcL33",
        "outputId": "fa1bc323-c88e-4282-be7a-97bdb69639c8",
        "colab": {
          "base_uri": "https://localhost:8080/"
        }
      },
      "outputs": [
        {
          "output_type": "stream",
          "name": "stdout",
          "text": [
            "雑音のある通信路から送信\n",
            "\n",
            "雑音のある通信路\n",
            "Transmitted    : 1000100 1001000 1110000 1111111 0010111 1000011 0110100 0...\n"
          ]
        }
      ],
      "source": [
        "# 相手に届くビットには雑音が載る（一部の 0 / 1 がひっくり返る）\n",
        "print(\"雑音のある通信路から送信\")\n",
        "send_message(saved_dir, message_from, message_to, encoded_data, codebook, padding_length)"
      ]
    }
  ],
  "metadata": {
    "colab": {
      "provenance": [],
      "include_colab_link": true
    },
    "kernelspec": {
      "display_name": "Python 3",
      "name": "python3"
    },
    "language_info": {
      "name": "python"
    }
  },
  "nbformat": 4,
  "nbformat_minor": 0
}