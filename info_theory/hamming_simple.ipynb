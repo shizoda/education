{
  "nbformat": 4,
  "nbformat_minor": 0,
  "metadata": {
    "colab": {
      "provenance": [],
      "authorship_tag": "ABX9TyNc35Y5OKZ9mIU2jztDoU/C",
      "include_colab_link": true
    },
    "kernelspec": {
      "name": "python3",
      "display_name": "Python 3"
    },
    "language_info": {
      "name": "python"
    }
  },
  "cells": [
    {
      "cell_type": "markdown",
      "metadata": {
        "id": "view-in-github",
        "colab_type": "text"
      },
      "source": [
        "<a href=\"https://colab.research.google.com/github/shizoda/education/blob/main/info_theory/hamming_simple.ipynb\" target=\"_parent\"><img src=\"https://colab.research.google.com/assets/colab-badge.svg\" alt=\"Open In Colab\"/></a>"
      ]
    },
    {
      "cell_type": "code",
      "source": [
        "import numpy as np\n",
        "\n",
        "# 入力４ビット\n",
        "data = np.array([0, 1, 0, 0])"
      ],
      "metadata": {
        "id": "i_guo8i8aPpc"
      },
      "execution_count": 6,
      "outputs": []
    },
    {
      "cell_type": "code",
      "execution_count": 7,
      "metadata": {
        "colab": {
          "base_uri": "https://localhost:8080/"
        },
        "id": "vPFdvDuNQsSs",
        "outputId": "cadfd3b5-d7a8-4068-9f37-a6e3857ea6de"
      },
      "outputs": [
        {
          "output_type": "stream",
          "name": "stdout",
          "text": [
            "生成されたハミング符号       --> [1 0 0 1 1 0 0]\n",
            "4 番目に誤りが加えられました --> [1 0 0 0 1 0 0]\n",
            "このうち検査ビットは             [* *   *      ]\n"
          ]
        }
      ],
      "source": [
        "# 生成行列G\n",
        "G = np.array([\n",
        "    [1, 1, 1, 0, 0, 0, 0],\n",
        "    [1, 0, 0, 1, 1, 0, 0],\n",
        "    [0, 1, 0, 1, 0, 1, 0],\n",
        "    [1, 1, 0, 1, 0, 0, 1]\n",
        "])\n",
        "encoded = (data.dot(G) % 2).astype(int)\n",
        "print(f\"生成されたハミング符号       --> {encoded}\")\n",
        "\n",
        "# どれかひとつ 0 と 1 をひっくり返す\n",
        "inversed = np.random.randint(0, 7)\n",
        "encoded[inversed] = 0 if encoded[inversed] else 1\n",
        "print(f\"{inversed+1} 番目に誤りが加えられました --> {encoded}\")\n",
        "print(\"このうち検査ビットは             [* *   *      ]\")"
      ]
    },
    {
      "cell_type": "code",
      "source": [
        "H = np.array([[1, 0, 0, 1, 0, 1, 1],\n",
        "              [0, 1, 0, 1, 1, 0, 1],\n",
        "              [0, 0, 1, 1, 1, 1, 0]])\n",
        "Hout = (H.dot(encoded) % 2).astype(int)\n",
        "print(f\"検査行列を用いた結果は {Hout}\")\n",
        "inversed = int(input(f\"誤っているビットは何番目 (1-7)？　\"))\n",
        "\n",
        "decoded = encoded\n",
        "decoded[inversed-1] = (0 if decoded[inversed-1] else 1)\n",
        "contents = [decoded[2], decoded[4], decoded[5], decoded[6]]\n",
        "print(f\"そのビットを修正すると {decoded}\")\n",
        "print(f\"検査ビットを取り除くと {contents}\")"
      ],
      "metadata": {
        "colab": {
          "base_uri": "https://localhost:8080/"
        },
        "id": "BYVBq-zHQ-pn",
        "outputId": "c708c28c-830d-45e4-e86a-801289788980"
      },
      "execution_count": 8,
      "outputs": [
        {
          "output_type": "stream",
          "name": "stdout",
          "text": [
            "検査行列を用いた結果は [1 1 1]\n",
            "誤っているビットは何番目 (1-7)？　4\n",
            "そのビットを修正すると [1 0 0 1 1 0 0]\n",
            "検査ビットを取り除くと [0, 1, 0, 0]\n"
          ]
        }
      ]
    }
  ]
}