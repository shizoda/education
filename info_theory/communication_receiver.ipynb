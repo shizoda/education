{
  "cells": [
    {
      "cell_type": "markdown",
      "metadata": {
        "id": "9Xzt7reYLO2E"
      },
      "source": [
        "# 通信シミュレーション（受信側）\n",
        "\n",
        "情報理論における符号化を学ぶため，雑音のある通信路を経由してメッセージを受信してみましょう．\n",
        "\n",
        "## 準備\n",
        "\n",
        "ストレージをマウントします．通信路として使用します．"
      ]
    },
    {
      "cell_type": "code",
      "execution_count": 29,
      "metadata": {
        "colab": {
          "base_uri": "https://localhost:8080/"
        },
        "id": "yQs6_nU-LB5n",
        "outputId": "bc59fe79-38e5-4cfe-e880-b50d4056d628"
      },
      "outputs": [
        {
          "name": "stdout",
          "output_type": "stream",
          "text": [
            "Running on Google Colab\n",
            "Drive already mounted at /content/drive; to attempt to forcibly remount, call drive.mount(\"/content/drive\", force_remount=True).\n",
            "Saved directory is set to: /content/drive/MyDrive/info-theory\n",
            "current directory /content\n"
          ]
        }
      ],
      "source": [
        "try:\n",
        "    from google.colab import drive\n",
        "    IN_COLAB = True\n",
        "    print(\"Running on Google Colab\")\n",
        "    drive.mount('/content/drive')\n",
        "    saved_dir = '/content/drive/MyDrive/info-theory'\n",
        "except ImportError:\n",
        "    IN_COLAB = False\n",
        "    print(\"Not running on Google Colab\")\n",
        "    saved_dir = '//nas/info-theory'\n",
        "\n",
        "os.makedirs(saved_dir, exist_ok=True)\n",
        "print(f\"Saved directory is set to: {saved_dir}\")\n",
        "\n",
        "import os\n",
        "print(\"current directory\", os.getcwd())\n",
        "import sys\n",
        "sys.path.append(\"/content/drive/MyDrive\")\n",
        "# GitHubリポジトリのURL\n",
        "# !wget -q https://raw.githubusercontent.com/shizoda/education/main/info_theory/communication_lib.py\n",
        "\n",
        "# 必要なPythonファイルをインポートする\n",
        "import communication_lib"
      ]
    },
    {
      "cell_type": "markdown",
      "metadata": {
        "id": "Lv-2qrkQLv1z"
      },
      "source": [
        "## メッセージ\n",
        "\n",
        "送り主，宛先，メッセージ本文を指定します．\n",
        "\n",
        "なお，サンプルの英文は \"e\"，和文は「静」や「岡」が多用された文になっています．"
      ]
    },
    {
      "cell_type": "code",
      "execution_count": 30,
      "metadata": {
        "id": "kyIE2DRALyeS"
      },
      "outputs": [],
      "source": [
        "message_from = \"alice\"\n",
        "message_to   = \"bob\""
      ]
    },
    {
      "cell_type": "code",
      "execution_count": null,
      "metadata": {},
      "outputs": [],
      "source": [
        "def receive_message(saved_dir, orig, other):\n",
        "    \n",
        "    # 相手から送信されたビットを受信\n",
        "    data_filename = f\"{saved_dir}/{orig}-{other}.txt\"\n",
        "    codebook_filename = f\"{saved_dir}/{orig}-{other}-codebook.json\"\n",
        "    padding_filename = f\"{saved_dir}/{orig}-{other}-padding.txt\"\n",
        "    codebook = load_codebook(codebook_filename)\n",
        "    padding_length = load_padding_length(padding_filename)\n",
        "    received_data = load_from_file(data_filename, orig, other)\n",
        "    if received_data is None:\n",
        "        return None\n",
        "    \n",
        "    # 正しく並べ替えてください\n",
        "    #### ここから\n",
        "    \n",
        "    print(\"\\n 〇〇〇△△器：□□□□符号\") \n",
        "    hamming_decoded_data = hamming_decode(received_data)\n",
        "    \n",
        "    print(\"\\n 雑音のある通信路から受信\")\n",
        "    print(f\"Received      : {format_binary_string(received_data)}\")\n",
        "    \n",
        "    print(\"\\n 〇〇〇△△器：□□□□符号\")\n",
        "    decoded_message = huffman_decoding(hamming_decoded_data, codebook, padding_length)\n",
        "    \n",
        "    #### ここまで\n",
        "    \n",
        "    return decoded_message"
      ]
    },
    {
      "cell_type": "code",
      "execution_count": null,
      "metadata": {},
      "outputs": [],
      "source": [
        "other = message_from\n",
        "orig = message_to\n",
        "\n",
        "# 相手から送信されたビットを受信\n",
        "data_filename = f\"{saved_dir}/{orig}-{other}.txt\"\n",
        "codebook_filename = f\"{saved_dir}/{orig}-{other}-codebook.json\"\n",
        "padding_filename = f\"{saved_dir}/{orig}-{other}-padding.txt\"\n",
        "codebook = load_codebook(codebook_filename)\n",
        "padding_length = load_padding_length(padding_filename)\n",
        "received_data = load_from_file(data_filename, orig, other)\n",
        "if received_data is None:\n",
        "    return None"
      ]
    },
    {
      "cell_type": "code",
      "execution_count": null,
      "metadata": {},
      "outputs": [],
      "source": [
        "# 正しく並べ替えてください\n",
        "#### ここから\n",
        "\n",
        "print(\"\\n 〇〇〇△△器：□□□□符号\") \n",
        "hamming_decoded_data = hamming_decode(received_data)"
      ]
    },
    {
      "cell_type": "code",
      "execution_count": null,
      "metadata": {},
      "outputs": [],
      "source": [
        "print(\"\\n 雑音のある通信路から受信\")\n",
        "print(f\"Received      : {format_binary_string(received_data)}\")"
      ]
    },
    {
      "cell_type": "code",
      "execution_count": null,
      "metadata": {},
      "outputs": [],
      "source": [
        "print(\"\\n 〇〇〇△△器：□□□□符号\")\n",
        "decoded_message = huffman_decoding(hamming_decoded_data, codebook, padding_length)\n",
        "\n",
        "#### ここまで"
      ]
    },
    {
      "cell_type": "code",
      "execution_count": 31,
      "metadata": {
        "colab": {
          "base_uri": "https://localhost:8080/"
        },
        "id": "8CIFBmOyNghh",
        "outputId": "41bad61d-0ef9-4808-931a-b26d6d88da2b"
      },
      "outputs": [
        {
          "name": "stdout",
          "output_type": "stream",
          "text": [
            "\n",
            " 雑音のある通信路から受信\n",
            "Received      : 0001100 0001100 0110000 0111111 0110110 1000010 0111101 0...\n",
            "\n",
            " 〇〇〇△△器：□□□□符号\n",
            "220 corrections in total.\n",
            "  (Block-0, Bit-0): 0001100 --> 1001100\n",
            "  (Block-1, Bit-0): 0001100 --> 1001100\n",
            "  (Block-2, Bit-0): 0110000 --> 1110000\n",
            "  (Block-3, Bit-0): 0111111 --> 1111111\n",
            "  (Block-4, Bit-1): 0110110 --> 0010110\n",
            "  (Block-5, Bit-6): 1000010 --> 1000011\n",
            "  (Block-6, Bit-6): 0111101 --> 0111100\n",
            "  (Block-8, Bit-3): 1100001 --> 1101001\n",
            "  (Block-9, Bit-4): 0011101 --> 0011001\n",
            "  (Block-10, Bit-5): 0110001 --> 0110011\n",
            "      etc.\n",
            "Received       : 0001100 0001100 0110000 0111111 0110110 1000010 0111101 0...\n",
            "Hamming Decoded: 1001100 1001100 1110000 1111111 0010110 1000011 0111100 0...\n",
            "Hamming Output : 0100 0100 1000 1111 1110 0011 1100 1110 0001 1001 1011 1100 01.. .\n",
            "\n",
            " 〇〇〇△△器：□□□□符号\n",
            "\n",
            "Codebook:  e:00  :011 i:0101 l:1010 s:1011 n:1110 E:01000 a:01001 c:10000 v:10010 t:10011 y:11000 g:11010 r:11111 p:100010 ,:100011 .:110010 x:110111 o:111100 m:1100110 d:1101100 u:1101101 h:1111010 q:11001110 f:11001111 b:11110110 ':111101110 j:111101111\n",
            "\n",
            "Huffman decoded: 01000 10010 00 11111 11000 111100 1110 00 011 00 110111 100010 00 10000 10011 10...\n",
            "Final Decoded Message: Everyone expects excellent experiences every evening. Each evening, Ellie eagerly eats exquisite edibles, enjoying every essence. Evenings envelop Ellie, embracing endless energy. Ellie engages effortlessly, expressing emotions endlessly. Every encounter elevates Ellie's enthusiasm, enriching every experience eternally.\n"
          ]
        }
      ],
      "source": [
        "received_message = decoded_message\n",
        "print(f\"Final Decoded Message: {received_message}\")"
      ]
    },
    {
      "cell_type": "code",
      "execution_count": null,
      "metadata": {
        "id": "JIu9DPo8Qsn1"
      },
      "outputs": [],
      "source": []
    }
  ],
  "metadata": {
    "colab": {
      "provenance": []
    },
    "kernelspec": {
      "display_name": "Python 3",
      "name": "python3"
    },
    "language_info": {
      "name": "python"
    }
  },
  "nbformat": 4,
  "nbformat_minor": 0
}
