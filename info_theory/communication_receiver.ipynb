{
  "cells": [
    {
      "cell_type": "markdown",
      "metadata": {
        "id": "view-in-github",
        "colab_type": "text"
      },
      "source": [
        "<a href=\"https://colab.research.google.com/github/shizoda/education/blob/main/info_theory/communication_receiver.ipynb\" target=\"_parent\"><img src=\"https://colab.research.google.com/assets/colab-badge.svg\" alt=\"Open In Colab\"/></a>"
      ]
    },
    {
      "cell_type": "markdown",
      "metadata": {
        "id": "9Xzt7reYLO2E"
      },
      "source": [
        "# 通信シミュレーション（受信側）\n",
        "\n",
        "情報理論における符号化を学ぶため，雑音のある通信路を経由してメッセージを受信してみましょう．\n",
        "\n",
        "## 準備\n",
        "\n",
        "ストレージをマウントします．通信路として使用します．"
      ]
    },
    {
      "cell_type": "code",
      "execution_count": 3,
      "metadata": {
        "colab": {
          "base_uri": "https://localhost:8080/"
        },
        "id": "yQs6_nU-LB5n",
        "outputId": "dcddbe37-2995-4499-faf1-63e009d1a930"
      },
      "outputs": [
        {
          "output_type": "stream",
          "name": "stdout",
          "text": [
            "Running on Google Colab\n",
            "Drive already mounted at /content/drive; to attempt to forcibly remount, call drive.mount(\"/content/drive\", force_remount=True).\n",
            "Saved directory is set to: /content/drive/MyDrive/info-theory\n",
            "current directory /content\n"
          ]
        }
      ],
      "source": [
        "try:\n",
        "    from google.colab import drive\n",
        "    IN_COLAB = True\n",
        "    print(\"Running on Google Colab\")\n",
        "    drive.mount('/content/drive')\n",
        "    saved_dir = '/content/drive/MyDrive/info-theory'\n",
        "except ImportError:\n",
        "    IN_COLAB = False\n",
        "    print(\"Not running on Google Colab\")\n",
        "    saved_dir = '//nas/info-theory'\n",
        "\n",
        "import os\n",
        "os.makedirs(saved_dir, exist_ok=True)\n",
        "print(f\"Saved directory is set to: {saved_dir}\")\n",
        "\n",
        "print(\"current directory\", os.getcwd())\n",
        "import sys\n",
        "sys.path.append(\"/content/drive/MyDrive\")\n",
        "# GitHubリポジトリのURL\n",
        "!wget -q https://raw.githubusercontent.com/shizoda/education/main/info_theory/communication_lib.py\n",
        "\n",
        "# 必要なPythonファイルをインポートする\n",
        "from communication_lib import  *"
      ]
    },
    {
      "cell_type": "markdown",
      "metadata": {
        "id": "Lv-2qrkQLv1z"
      },
      "source": [
        "## メッセージ\n",
        "\n",
        "送り主，宛先，メッセージ本文を指定します．\n",
        "\n",
        "なお，サンプルの英文は \"e\"，和文は「静」や「岡」が多用された文になっています．"
      ]
    },
    {
      "cell_type": "code",
      "execution_count": 14,
      "metadata": {
        "id": "kyIE2DRALyeS"
      },
      "outputs": [],
      "source": [
        "message_from = \"alice\"\n",
        "message_to   = \"bob\"\n",
        "\n",
        "# 相手から送信されたビットを受信\n",
        "data_filename = f\"{saved_dir}/{message_from}-{message_to}.txt\"\n",
        "codebook_filename = f\"{saved_dir}/{message_from}-{message_to}-codebook.json\"\n",
        "padding_filename = f\"{saved_dir}/{message_from}-{message_to}-padding.txt\""
      ]
    },
    {
      "cell_type": "code",
      "execution_count": 15,
      "metadata": {
        "id": "JQHL0UC7dGgT"
      },
      "outputs": [],
      "source": [
        "\n",
        "try:\n",
        "    codebook = load_codebook(codebook_filename)\n",
        "    padding_length = load_padding_length(padding_filename)\n",
        "    received_data = load_from_file(data_filename, message_from, message_to)\n",
        "except Exception as exc:\n",
        "    print(\"エラー：\", str(exc))\n",
        "    print(f\"{message_from} さんから {message_to} さんへ既にメッセージが送信されたかどうか確認して下さい\")"
      ]
    },
    {
      "cell_type": "code",
      "execution_count": 19,
      "metadata": {
        "id": "kwmrPF4jdGgU",
        "outputId": "a3557142-4fc5-4120-d020-b51a80a43639",
        "colab": {
          "base_uri": "https://localhost:8080/"
        }
      },
      "outputs": [
        {
          "output_type": "stream",
          "name": "stdout",
          "text": [
            "雑音のある通信路から受信\n",
            "Received      : 1101100 1001000 1110000 1111011 0010111 1000011 0111100 0...\n"
          ]
        }
      ],
      "source": [
        "print(\"雑音のある通信路から受信\")\n",
        "print(f\"Received      : {format_binary_string(received_data)}\")"
      ]
    },
    {
      "cell_type": "code",
      "execution_count": 20,
      "metadata": {
        "id": "FQgvDMBPdGgU",
        "outputId": "4b7537fc-8d66-49e3-afa0-28d1ddc7ee0c",
        "colab": {
          "base_uri": "https://localhost:8080/"
        }
      },
      "outputs": [
        {
          "output_type": "stream",
          "name": "stdout",
          "text": [
            "〇〇〇△△器：□□□□符号\n",
            "213 corrections in total.\n",
            "  (Block-0, Bit-1): 1101100 --> 1001100\n",
            "  (Block-1, Bit-4): 1001000 --> 1001100\n",
            "  (Block-3, Bit-4): 1111011 --> 1111111\n",
            "  (Block-4, Bit-6): 0010111 --> 0010110\n",
            "  (Block-8, Bit-1): 1001001 --> 1101001\n",
            "  (Block-10, Bit-2): 0100011 --> 0110011\n",
            "  (Block-12, Bit-2): 1011100 --> 1001100\n",
            "  (Block-13, Bit-2): 1011100 --> 1001100\n",
            "  (Block-14, Bit-2): 0111010 --> 0101010\n",
            "  (Block-17, Bit-6): 0111101 --> 0111100\n",
            "      etc.\n",
            "Received       : 1101100 1001000 1110000 1111011 0010111 1000011 0111100 0...\n",
            "Hamming Decoded: 1001100 1001100 1110000 1111111 0010110 1000011 0111100 0...\n",
            "Hamming Output : 0100 0100 1000 1111 1110 0011 1100 1110 0001 1001 1011 1100 01.. .\n"
          ]
        }
      ],
      "source": [
        "# 正しく並べ替えてください\n",
        "#### ここから\n",
        "\n",
        "print(\"〇〇〇△△器：□□□□符号\")\n",
        "hamming_decoded_data = hamming_decode(received_data)"
      ]
    },
    {
      "cell_type": "code",
      "execution_count": 21,
      "metadata": {
        "id": "1iFyzQxbdGgV",
        "outputId": "fbdfcc8a-8921-4516-d92b-bc8a279eeb07",
        "colab": {
          "base_uri": "https://localhost:8080/"
        }
      },
      "outputs": [
        {
          "output_type": "stream",
          "name": "stdout",
          "text": [
            "〇〇〇△△器：□□□□符号\n",
            "\n",
            "Codebook:  e:00  :011 i:0101 l:1010 s:1011 n:1110 E:01000 a:01001 c:10000 v:10010 t:10011 y:11000 g:11010 r:11111 p:100010 ,:100011 .:110010 x:110111 o:111100 m:1100110 d:1101100 u:1101101 h:1111010 q:11001110 f:11001111 b:11110110 ':111101110 j:111101111\n",
            "\n",
            "Huffman decoded: 01000 10010 00 11111 11000 111100 1110 00 011 00 110111 100010 00 10000 10011 10...\n"
          ]
        }
      ],
      "source": [
        "print(\"〇〇〇△△器：□□□□符号\")\n",
        "decoded_message = huffman_decoding(hamming_decoded_data, codebook, padding_length)\n",
        "\n",
        "#### ここまで"
      ]
    },
    {
      "cell_type": "code",
      "execution_count": 22,
      "metadata": {
        "colab": {
          "base_uri": "https://localhost:8080/"
        },
        "id": "8CIFBmOyNghh",
        "outputId": "a63cee9b-8391-4720-90f0-9d000bb94cdd"
      },
      "outputs": [
        {
          "output_type": "stream",
          "name": "stdout",
          "text": [
            "Final Decoded Message: Everyone expects excellent experiences every evening. Each evening, Ellie eagerly eats exquisite edibles, enjoying every essence. Evenings envelop Ellie, embracing endless energy. Ellie engages effortlessly, expressing emotions endlessly. Every encounter elevates Ellie's enthusiasm, enriching every experience eternally.\n"
          ]
        }
      ],
      "source": [
        "received_message = decoded_message\n",
        "print(f\"Final Decoded Message: {received_message}\")"
      ]
    }
  ],
  "metadata": {
    "colab": {
      "provenance": [],
      "include_colab_link": true
    },
    "kernelspec": {
      "display_name": "Python 3",
      "name": "python3"
    },
    "language_info": {
      "name": "python"
    }
  },
  "nbformat": 4,
  "nbformat_minor": 0
}