{
  "nbformat": 4,
  "nbformat_minor": 0,
  "metadata": {
    "colab": {
      "provenance": [],
      "toc_visible": true,
      "authorship_tag": "ABX9TyMJoYUWR+3/v+05WrI0wCqH",
      "include_colab_link": true
    },
    "kernelspec": {
      "name": "python3",
      "display_name": "Python 3"
    },
    "language_info": {
      "name": "python"
    }
  },
  "cells": [
    {
      "cell_type": "markdown",
      "metadata": {
        "id": "view-in-github",
        "colab_type": "text"
      },
      "source": [
        "<a href=\"https://colab.research.google.com/github/shizoda/education/blob/main/python/Python_Function.ipynb\" target=\"_parent\"><img src=\"https://colab.research.google.com/assets/colab-badge.svg\" alt=\"Open In Colab\"/></a>"
      ]
    },
    {
      "cell_type": "markdown",
      "source": [
        "# 🐍 関数\n",
        "\n",
        "今回は、Pythonで関数を定義し、利用する方法について学びます。\n",
        "\n",
        "関数は、特定の処理をまとめて名前を付け、繰り返し利用できるようにする仕組みです。関数を適切に利用することで、コードの可読性が向上し、保守が容易になります。\n",
        "\n",
        "## 📖 今回学べること\n",
        "* プログラムにおける関数と数学における関数の考え方の違い\n",
        "* 呼び出すだけの関数の定義と呼び出し\n",
        "* 関数に情報を渡すための「引数（ひきすう）」\n",
        "* 関数から処理結果を受け取るための「戻り値（もどりち）」\n",
        "* 引数にあらかじめ値を設定する「デフォルト引数」"
      ],
      "metadata": {
        "id": "zltC7nSqlN62"
      }
    },
    {
      "cell_type": "markdown",
      "source": [
        "## 1. 関数とは\n",
        "\n",
        "### プログラムにおける関数\n",
        "\n",
        "プログラムにおける関数とは、一連の処理をひとまとめにし、名前を付けたものです。\n",
        "\n",
        "例えば、「画面に挨拶を表示する」という処理を `greet` という名前で関数として定義しておくと、必要な場所で `greet()` と呼び出すだけで、その処理を実行できます。同じ処理を何度も書く必要がなくなり、コードが簡潔になります。また、処理の内容を修正したい場合も、関数の定義箇所を修正するだけでよくなります。\n",
        "\n",
        "### 数学の関数との違い\n",
        "\n",
        "「関数」という言葉は数学にも登場しますが、プログラムの関数とは概念が少し異なります。\n",
        "\n",
        "数学における関数 $f(x)$ は、ある入力 $x$ に対して、必ず一つの出力 $y$ が定まる関係（ $y = f(x)$ ）を指します。\n",
        "\n",
        "一方で、プログラムの関数は少し意味合いが違います。\n",
        "\n",
        "1.  **入力（引数）がなくてもよい:** 処理を実行するだけで、外部からの情報を必要としない関数があります。\n",
        "2.  **出力（戻り値）がなくてもよい:** 値を返すのではなく、画面に何かを表示したり、ファイルに書き込んだりするなど、特定の「動作」だけを行う関数があります。\n",
        "3.  **副作用（Side Effect）を持つことがある:** 戻り値を返す以外に、プログラムの状態や外部環境（`print`による画面表示、変数の値の変更、ファイルの操作など）に影響を与えることがあります。\n",
        "\n",
        "このように、プログラムの関数は、数学の関数よりも広い意味で「特定の処理のまとまり」を指すものとして理解されます。"
      ],
      "metadata": {
        "id": "fj_sZz4eleRz"
      }
    },
    {
      "cell_type": "markdown",
      "source": [
        "## 2. 呼び出すだけの関数\n",
        "\n",
        "最も基本的な関数は、引数（入力）も戻り値（出力）も持たず、単に一連の処理を実行するものです。\n",
        "\n",
        "関数は `def` というキーワードで定義します。\n",
        "`def 関数名():` のように書き、次の行からインデント（字下げ）して、関数内で実行したい処理を記述します。\n",
        "\n",
        "定義した関数を呼び出す（実行する）には、`関数名()` と記述します。"
      ],
      "metadata": {
        "id": "d8Q38PzulyOG"
      }
    },
    {
      "cell_type": "code",
      "source": [
        "# 1. 関数の定義\n",
        "def greet():\n",
        "  \"\"\"\n",
        "  挨拶を表示する関数\n",
        "  （この三重引用符で囲まれた部分はドキュメント文字列と呼ばれ、関数の説明を記述します）\n",
        "  \"\"\"\n",
        "  print(\"こんにちは。\")\n",
        "  print(\"Pythonの学習を始めましょう。\")\n",
        "\n",
        "# --- 関数の呼び出し ---\n",
        "print(\"--- 関数を呼び出します ---\")\n",
        "greet()\n",
        "print(\"--- 関数が終了しました ---\")\n",
        "\n",
        "# 関数は何度でも呼び出せます\n",
        "print(\"\\n--- もう一度呼び出します ---\")\n",
        "greet()"
      ],
      "metadata": {
        "id": "WKCkNSj4mL83"
      },
      "execution_count": null,
      "outputs": []
    },
    {
      "cell_type": "markdown",
      "source": [
        "### ✏️ 課題: 簡単な関数を作成してみよう\n",
        "\n",
        "あなたの所属（例: \"経営情報学部\"）と名前（例: \"山田太郎\"）を2行にわたって表示する `show_profile` という名前の関数を定義し、それを呼び出してください。"
      ],
      "metadata": {
        "id": "QpUPI7ITlyh2"
      }
    },
    {
      "cell_type": "code",
      "source": [
        "# 課題: show_profile 関数を定義し、呼び出してください\n",
        "\n",
        "# --- 関数を定義 ---\n",
        "\n",
        "\n",
        "\n",
        "# --- 関数を呼び出し ---\n",
        "\n"
      ],
      "metadata": {
        "id": "c0cSQp9JmQpw"
      },
      "execution_count": null,
      "outputs": []
    },
    {
      "cell_type": "markdown",
      "source": [
        "## 3. 引数のある関数\n",
        "\n",
        "関数は、外部から情報を受け取って動作を変えることができます。この情報を受け取るための窓口を「引数（ひきすう）」と呼びます。\n",
        "\n",
        "`def 関数名(引数名1, 引数名2):` のように、`()` の中に引数名を指定します。\n",
        "引数名は、関数の中で変数として使用できます。\n",
        "\n",
        "呼び出す際は `関数名(値1, 値2)` のように、定義した引数の順番に対応する値を渡します。"
      ],
      "metadata": {
        "id": "P3WL5MEVl3WB"
      }
    },
    {
      "cell_type": "code",
      "source": [
        "# 引数 name を受け取る関数\n",
        "\n",
        "def greet_person(name):\n",
        "  # 指定された名前に対して挨拶する関数\n",
        "  print(f\"{name}さん、こんにちは。\")\n",
        "\n",
        "# --- 関数の呼び出し ---\n",
        "# 引数として \"田中\" を渡す\n",
        "greet_person(\"田中\")\n",
        "\n",
        "# 引数として \"佐藤\" を渡す\n",
        "greet_person(\"佐藤\")\n",
        "\n",
        "# 2つの引数を受け取る関数\n",
        "def add_numbers(a, b):\n",
        "  # 2つの数値を受け取り、その合計を表示する関数\n",
        "  total = a + b\n",
        "  print(f\"{a} + {b} = {total}\")\n",
        "\n",
        "# --- 関数の呼び出し ---\n",
        "add_numbers(5, 3)\n",
        "add_numbers(10, 20)"
      ],
      "metadata": {
        "id": "ay4fUjK0mWf4"
      },
      "execution_count": null,
      "outputs": []
    },
    {
      "cell_type": "markdown",
      "source": [
        "### ✏️ 課題: 引数を使って計算する関数\n",
        "\n",
        "2つの数値 `x` と `y` を引数として受け取り、その積（`x * y`）を `print` で表示する `multiply_numbers` という名前の関数を定義してください。\n",
        "\n",
        "定義した後、適当な数値（例: `7` と `5`）を渡して呼び出してください。"
      ],
      "metadata": {
        "id": "119PpHG2l4fX"
      }
    },
    {
      "cell_type": "code",
      "source": [
        "# 課題: multiply_numbers関数を定義し、呼び出してください\n",
        "\n",
        "# --- 関数を定義 ---\n",
        "\n",
        "\n",
        "\n",
        "# --- 関数を呼び出し ---\n",
        "\n"
      ],
      "metadata": {
        "id": "xhb9OuFcmj-j"
      },
      "execution_count": null,
      "outputs": []
    },
    {
      "cell_type": "markdown",
      "source": [
        "## 4. 引数と戻り値を用いる関数\n",
        "\n",
        "関数は、処理の結果を呼び出し元に返すことができます。この返される値を「戻り値（もどりち）」または「返り値」と呼びます。\n",
        "\n",
        "関数内で `return 値` と記述すると、その時点で関数の実行は終了し、指定された `値` が呼び出し元に返されます。\n",
        "\n",
        "呼び出し側では、戻り値を変数に代入して利用するのが一般的です。"
      ],
      "metadata": {
        "id": "oHvkFC3ol5n8"
      }
    },
    {
      "cell_type": "code",
      "source": [
        "# 引数 name を受け取り、挨拶の文字列を「返す」関数\n",
        "def create_greeting(name):\n",
        "  \"\"\"\n",
        "  指定された名前の挨拶文字列を作成して返す\n",
        "  \"\"\"\n",
        "  message = f\"{name}さん、こんにちは。\"\n",
        "  return message # message 変数の値を戻り値として返す\n",
        "\n",
        "# --- 関数の呼び出し ---\n",
        "# 戻り値を変数 greeting_suzuki に代入する\n",
        "greeting_suzuki = create_greeting(\"鈴木\")\n",
        "\n",
        "print(greeting_suzuki)\n",
        "\n",
        "# 戻り値を変数 greeting_sato に代入する\n",
        "greeting_sato = create_greeting(\"佐藤\")\n",
        "print(greeting_sato)\n",
        "\n",
        "\n",
        "# 2つの数値を受け取り、合計を「返す」関数\n",
        "def add_numbers_return(a, b):\n",
        "  \"\"\"\n",
        "  2つの数値を受け取り、その合計を返す\n",
        "  \"\"\"\n",
        "  total = a + b\n",
        "  return total\n",
        "\n",
        "# --- 関数の呼び出し ---\n",
        "sum_result = add_numbers_return(5, 3)\n",
        "print(f\"5 + 3 の計算結果は {sum_result} です。\")\n",
        "\n",
        "# 戻り値をさらに別の計算に使う\n",
        "further_calculation = sum_result * 10\n",
        "print(f\"計算結果を10倍すると {further_calculation} です。\")"
      ],
      "metadata": {
        "id": "g3h0YSB_m7m3"
      },
      "execution_count": null,
      "outputs": []
    },
    {
      "cell_type": "markdown",
      "source": [
        "### ✏️ 課題: 戻り値を使う関数\n",
        "\n",
        "長方形の幅 `width` と高さ `height` を引数として受け取り、その面積（`width * height`）を計算して「返す」 `calculate_rectangle_area` という名前の関数を定義してください。\n",
        "\n",
        "定義した後、関数を呼び出して戻り値を変数に代入し、その変数を `print` してください。"
      ],
      "metadata": {
        "id": "labQ0PjZl6tu"
      }
    },
    {
      "cell_type": "code",
      "source": [
        "# 課題: calculate_rectangle_area関数を定義し、呼び出してください\n",
        "\n",
        "# --- 関数を定義 ---\n",
        "\n",
        "\n",
        "\n",
        "\n",
        "\n",
        "# --- 関数を呼び出し、戻り値を受け取る ---\n",
        "area1 =\n",
        "print(f\"幅10, 高さ5 の長方形の面積は {area1} です。\")\n",
        "\n",
        "area2 =\n",
        "print(f\"幅7, 高さ3 の長方形の面積は {area2} です。\")"
      ],
      "metadata": {
        "id": "JrNPI-JTmtYh"
      },
      "execution_count": null,
      "outputs": []
    },
    {
      "cell_type": "markdown",
      "source": [
        "## 5. 引数にデフォルトがある関数\n",
        "\n",
        "関数の引数には、あらかじめ値（デフォルト値）を設定しておくことができます。\n",
        "\n",
        "`def 関数名(引数名=デフォルト値):` のように記述します。\n",
        "\n",
        "デフォルト値が設定された引数は、関数を呼び出す際に省略できます。省略された場合、自動的にデフォルト値が使われます。値を渡した場合は、渡された値が優先されます。\n",
        "\n",
        "（注意: デフォルト値を持つ引数は、持たない引数よりも**後ろに**定義する必要があります。）"
      ],
      "metadata": {
        "id": "T0tTr7PSl7v4"
      }
    },
    {
      "cell_type": "code",
      "source": [
        "# 引数 title にデフォルト値を設定\n",
        "def greet_person_default(name, title=\"さん\"):\n",
        "  \"\"\"\n",
        "  指定された名前と敬称で挨拶する\n",
        "  title が省略された場合は \"さん\" を使う\n",
        "  \"\"\"\n",
        "  print(f\"{name}{title}、こんにちは。\")\n",
        "\n",
        "# --- 関数の呼び出し ---\n",
        "\n",
        "# title を省略（デフォルト値 \"さん\" が使われる）\n",
        "greet_person_default(\"鈴木\")\n",
        "\n",
        "# title を指定（指定した \"様\" が使われる）\n",
        "greet_person_default(\"佐藤\", title=\"様\")\n",
        "\n",
        "# デフォルト値を持たない name は省略できません\n",
        "# greet_person_default(title=\"様\") # これはエラーになります\n",
        "\n",
        "# （参考）デフォルト値を持つ引数（title）は、持たない引数（name）より後ろに書く\n",
        "# def greet_person_error(title=\"さん\", name): # これは構文エラーになります\n",
        "#   print(f\"{name}{title}、こんにちは。\")"
      ],
      "metadata": {
        "id": "HkzUQzIZnAW2"
      },
      "execution_count": null,
      "outputs": []
    },
    {
      "cell_type": "markdown",
      "source": [
        "### ✏️ 課題: デフォルト引数を持つ関数\n",
        "\n",
        "商品の価格 `price` と、オプションの税率 `rate` を引数として受け取り、税込み価格（`price * (1 + rate)`）を計算して返す `calculate_tax` という関数を定義してください。\n",
        "\n",
        "`rate` のデフォルト値は `0.1`（10%）に設定してください。\n",
        "\n",
        "定義した後、以下の2パターンで呼び出してください。\n",
        "1. 価格 `1000` だけを渡す（税率10%で計算される）\n",
        "2. 価格 `2000` と 税率 `0.08`（8%）を渡す"
      ],
      "metadata": {
        "id": "Z0As14Vfl8qr"
      }
    },
    {
      "cell_type": "code",
      "source": [
        "# 課題: calculate_tax関数を定義し、呼び出してください\n",
        "\n",
        "\n",
        "\n",
        "\n",
        "# --- 関数の呼び出し ---\n",
        "\n",
        "# 1. 価格 1000 (税率デフォルト)\n",
        "price1 =\n",
        "print(f\"価格1000円 (税率10%) の税込価格: {price1}\")\n",
        "\n",
        "# 2. 価格 2000, 税率 0.08\n",
        "price2 =\n",
        "print(f\"価格2000円 (税率8%) の税込価格: {price2}\")"
      ],
      "metadata": {
        "id": "wQTzhtj6nFDQ"
      },
      "execution_count": null,
      "outputs": []
    },
    {
      "cell_type": "markdown",
      "source": [
        "# 補足\n",
        "\n",
        "## 型ヒント\n",
        "\n",
        "Pythonは動的型付け言語であり、変数や引数の型を宣言する必要はありません。しかし、コードの可読性や開発支援ツールのために、引数や戻り値が「期待される型」を明示する方法が用意されています。これを「型ヒント（Type Hints）」と呼びます。\n",
        "\n",
        "`def 関数名(引数名: 型) -> 戻り値の型:` のように記述します。\n",
        "\n",
        "これはあくまで「ヒント」であり、プログラムの実行時に型が強制されるわけではありませんが、コードの意図を明確にするために利用が推奨される場合があります。"
      ],
      "metadata": {
        "id": "CSrkWEnpmCTS"
      }
    },
    {
      "cell_type": "code",
      "source": [
        "# 型ヒントを使用した関数の定義例\n",
        "\n",
        "def add_numbers_with_hint(a: int, b: int) -> int:\n",
        "  \"\"\"\n",
        "  2つの「整数」を受け取り、その合計の「整数」を返す（という期待）\n",
        "  \"\"\"\n",
        "  return a + b\n",
        "\n",
        "# --- 関数の呼び出し ---\n",
        "result = add_numbers_with_hint(10, 20)\n",
        "print(f\"型ヒントあり関数の結果: {result}\")\n",
        "\n",
        "# 型ヒントと異なる型（例: 文字列）を渡しても、Pythonは実行を試みます\n",
        "# （この場合は文字列の結合が行われる）\n",
        "string_result = add_numbers_with_hint(\"Hello\", \"World\")\n",
        "print(f\"型ヒントと異なる型を渡した場合: {string_result}\")"
      ],
      "metadata": {
        "id": "JiUFERvwnK9T"
      },
      "execution_count": null,
      "outputs": []
    },
    {
      "cell_type": "markdown",
      "source": [
        "### ✏️ 課題: 型ヒント付きの関数\n",
        "\n",
        "課題3で作成した `calculate_rectangle_area` 関数に、型ヒントを追加した `calculate_rectangle_area_hinted` 関数を作成してください。\n",
        "\n",
        "引数 `width` と `height` は両方とも `float`（浮動小数点数）、戻り値も `float` となるようにヒントを記述してください。\n",
        "\n",
        "（`int`（整数）と `float`（浮動小数点数）は計算上互換性があるため、`int` を渡しても動作します）"
      ],
      "metadata": {
        "id": "aOAfQpT4mG1A"
      }
    },
    {
      "cell_type": "code",
      "source": [
        "# 課題: 型ヒント付きの calculate_rectangle_area_hinted 関数を定義し、呼び出してください\n",
        "\n",
        "# --- 関数を定義 ---\n",
        "def calculate_rectangle_area_hinted(width: float, height: float) -> float:\n",
        "  # ここに処理を記述してください\n",
        "  area = width * height\n",
        "  return area\n",
        "\n",
        "\n",
        "# --- 関数の呼び出し ---\n",
        "# 浮動小数点数を渡す\n",
        "area1 = calculate_rectangle_area_hinted(10.5, 5.2)\n",
        "print(f\"幅10.5, 高さ5.2 の面積: {area1}\")\n",
        "\n",
        "# 整数を渡しても計算は実行される\n",
        "area2 = calculate_rectangle_area_hinted(7, 3)\n",
        "print(f\"幅7, 高さ3 の面積: {area2}\")"
      ],
      "metadata": {
        "id": "JSlEiYLknRXs"
      },
      "execution_count": null,
      "outputs": []
    },
    {
      "cell_type": "markdown",
      "source": [
        "\n",
        "## docstring（説明文）に何を書くべきか\n",
        "\n",
        "docstring (`\"\"\"...\"\"\"`) は、関数の「仕様書」または「説明書」の役割を果たします。コードを読む人（将来の自分自身も含む）や、`help()`関数を使った際に、その関数が何をし、どう使えばよいかを理解するために記述します。\n",
        "\n",
        "優れたdocstringには、主に以下の情報が含まれます。\n",
        "\n",
        "### 1. 概要 (Summary)\n",
        "* まず、関数が**何をするのか**を簡潔に（通常は1行で）記述します。\n",
        "* 「（何を）する関数。」「（何を）を計算する。」「（何を）を判定する。」といった、関数の目的を明確に示す動詞で終えるのが一般的です。\n",
        "* （例: `\"\"\"2つの数値の合計を計算する。\"\"\"`）\n",
        "\n",
        "### 2. 引数 (Arguments / Args)\n",
        "* 関数が必要とする**入力**について説明します。\n",
        "* 引数がない場合は、このセクションは不要です。\n",
        "* 引数が複数ある場合は、それぞれについて以下の情報を明確にします。\n",
        "    * **引数名**: `price` や `name` など、引数の名前。\n",
        "    * **型**: 期待されるデータの型 (例: `int`, `float`, `str`, `list`)。\n",
        "    * **説明**: その引数が何を表すのか、どのような値であるべきか (例: `税抜きの価格`, `表示するユーザー名`)。\n",
        "    * **省略可否**: デフォルト値が設定されており、省略可能(optional)であるか。\n",
        "\n",
        "### 3. 戻り値 (Return Value / Returns)\n",
        "* 関数が**何の結果を返すのか**を説明します。\n",
        "* **型**: 返される値のデータ型 (例: `float`, `bool`, `str`)。\n",
        "* **説明**: 戻り値が何を表すのか (例: `計算された税込み価格`, `判定結果 (True/False)`)。\n",
        "* `return` 文を持たず、値を返さない（暗黙的に `None` を返す）関数の場合は、「戻り値: なし」や「Returns: None」と明記するか、このセクション自体を省略します。\n",
        "\n",
        "### 4. 副作用 (Side Effects)\n",
        "* 関数が、戻り値を返す以外に**外部の状態に影響を与えるか**を記述します。\n",
        "* これは、特に `return` を持たない関数（例: `greet()`）において重要です。\n",
        "* （例: `\"\"\"結果をコンソールに出力する。\"\"\"`）\n",
        "* （例: `\"\"\"指定されたファイルにデータを書き込む。\"\"\"`）\n",
        "\n",
        "---\n",
        "**（参考）一般的な記述スタイル例**\n",
        "\n",
        "これらの情報を構造的に記述するために、いくつかの標準的なスタイル（Googleスタイル, NumPyスタイルなど）が存在します。ここでは Google スタイルに基づく例を示します。"
      ],
      "metadata": {
        "id": "88nb2ntgn0K5"
      }
    },
    {
      "cell_type": "code",
      "source": [
        "def calculate_rectangle_area(width: float, height: float) -> float:\n",
        "  \"\"\"\n",
        "  長方形の面積を計算する。\n",
        "\n",
        "  Args:\n",
        "    width (float): 長方形の幅\n",
        "    height (float): 長方形の高さ\n",
        "\n",
        "  Returns:\n",
        "    float: 計算された面積 (width * height)\n",
        "  \"\"\""
      ],
      "metadata": {
        "id": "N-6KOKJpn27X"
      },
      "execution_count": null,
      "outputs": []
    },
    {
      "cell_type": "markdown",
      "source": [
        "## ✅ まとめ\n",
        "\n",
        "今回は、Pythonにおける関数の基本的な定義方法と利用方法を学びました。\n",
        "\n",
        "* **関数**は `def` で定義します。\n",
        "* 関数は、特定の処理をまとめることで、コードの再利用性と可読性を高めます。\n",
        "* **引数**は、関数に情報を渡すためのものです。\n",
        "* **戻り値**は、`return` によって関数の処理結果を呼び出し元に返します。\n",
        "* **デフォルト引数**を使うと引数の省略が可能になります。\n"
      ],
      "metadata": {
        "id": "0I7geXSnmIHF"
      }
    }
  ]
}