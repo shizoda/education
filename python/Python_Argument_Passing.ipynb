{
  "nbformat": 4,
  "nbformat_minor": 0,
  "metadata": {
    "colab": {
      "provenance": [],
      "authorship_tag": "ABX9TyNYAeFZAxJ4UTV+P2/E/Dxo",
      "include_colab_link": true
    },
    "kernelspec": {
      "name": "python3",
      "display_name": "Python 3"
    },
    "language_info": {
      "name": "python"
    }
  },
  "cells": [
    {
      "cell_type": "markdown",
      "metadata": {
        "id": "view-in-github",
        "colab_type": "text"
      },
      "source": [
        "<a href=\"https://colab.research.google.com/github/shizoda/education/blob/main/python/Python_Argument_Passing.ipynb\" target=\"_parent\"><img src=\"https://colab.research.google.com/assets/colab-badge.svg\" alt=\"Open In Colab\"/></a>"
      ]
    },
    {
      "cell_type": "markdown",
      "source": [
        "# 🐍 値渡し・参照渡し\n",
        "\n",
        "今回は、Pythonの関数の基本的な作成方法を復習した上で、「値渡し・参照渡し」の概念、とりわけ関数に引数を渡したときに値がどのように扱われるかについて学びます。予期しない動作を防ぐ上で重要です。\n",
        "\n",
        "## 📖 学べること\n",
        "* （復習）関数の定義と呼び出し方\n",
        "* Pythonにおけるオブジェクト参照と代入の動作（可変/不変オブジェクト）\n",
        "* Pythonにおける関数への引数の受け渡しメカニズム\n",
        "* 不変（Immutable）オブジェクト（数値、文字列など）を渡した場合の動作\n",
        "* 可変（Mutable）オブジェクト（リスト、辞書など）を渡した場合の動作"
      ],
      "metadata": {
        "id": "RsFk40LDPnwo"
      }
    },
    {
      "cell_type": "markdown",
      "source": [
        "## 1. 関数の定義と呼び出し\n",
        "\n",
        "関数は `def` を使って定義します。関数は引数（ひきすう）を受け取り、処理を実行して、結果を `return` で返すことができます。\n",
        "\n",
        "以下の例では、2つの数値を受け取ってその合計を返す簡単な関数 `add_numbers` を定義し、呼び出しています。"
      ],
      "metadata": {
        "id": "ByvLKqA4Ps6e"
      }
    },
    {
      "cell_type": "code",
      "execution_count": null,
      "metadata": {
        "id": "gh86KfWkPlne"
      },
      "outputs": [],
      "source": [
        "# 関数の定義と呼び出しの例\n",
        "# 以下のコードを実行して、関数の動作を確認してください。\n",
        "\n",
        "def add_numbers(a, b):\n",
        "  \"\"\"\n",
        "  2つの数値を受け取り、その合計を返す関数\n",
        "  \"\"\"\n",
        "  print(f\"  関数内: 受け取った引数 a={a}, b={b}\")\n",
        "  total = a + b\n",
        "  print(f\"  関数内: 計算結果 total={total}\")\n",
        "  return total\n",
        "\n",
        "# --- 関数の呼び出し ---\n",
        "num1 = 5\n",
        "num2 = 3\n",
        "\n",
        "print(f\"関数呼び出し前: num1={num1}, num2={num2}\")\n",
        "\n",
        "# add_numbers関数を"
      ]
    },
    {
      "cell_type": "markdown",
      "source": [
        "### ✏️ 課題1: 簡単な関数を作成してみよう\n",
        "\n",
        "文字列を受け取り、その文字列の長さを返す `get_string_length` という名前の関数を作成してください。\n",
        "\n",
        "1.  `def` を使って関数を定義します。引数名は自由に決めてください (例: `text`)。\n",
        "2.  関数の中で、受け取った文字列の長さを `len()` 関数で取得します。\n",
        "3.  取得した長さを `return` で返します。\n",
        "4.  作成した関数を、適当な文字列 (例: `\"Shizuoka\"`) を引数にして呼び出し、結果を表示して確認してください。"
      ],
      "metadata": {
        "id": "9BONIG-eRBLH"
      }
    },
    {
      "cell_type": "code",
      "source": [
        "# 課題1: get_string_length関数を定義し、呼び出してください\n",
        "\n"
      ],
      "metadata": {
        "id": "ySx9Cju2RCCj"
      },
      "execution_count": null,
      "outputs": []
    },
    {
      "cell_type": "markdown",
      "source": [
        "## 2. オブジェクトの参照と可変性 (代入の動作)\n",
        "\n",
        "関数に引数を渡す話の前に、Pythonが変数をどのように扱うかを学んでおきましょう。\n",
        "\n",
        "Pythonでは、変数はデータそのものを保持する「箱」というよりも、メモリ上のどこかにある「オブジェクト」を指し示す「**参照**」（または「名前」「ラベル」）として機能します。\n",
        "\n",
        "この「オブジェクト」がメモリ上のどこにあるかを示す一意の識別子（メモリアドレスのようなもの）は、`id()` 関数を使って確認できます。同じオブジェクトを参照している変数は、同じ `id()` の値を持ちます。\n",
        "\n",
        "`a = [1, 2, 3]`\n",
        "\n",
        "このコードは、`[1, 2, 3]` というリストオブジェクトをメモリ上に作成し、`a` という名前をそのオブジェクトに結びつけます。\n",
        "\n",
        "### 2.1. 可変オブジェクトの代入\n",
        "\n",
        "ここで、`b = a` という代入を行うと何が起こるでしょうか。\n",
        "これはリストのコピーを作成するのではなく、`b` という新しい名前も、`a` と**同じ**リストオブジェクトを参照するように設定します。\n",
        "\n",
        "リストは**可変 (Mutable)** オブジェクト、つまり中身を変更できるオブジェクトです。\n",
        "そのため、`b` を通じてリストの中身を変更すると、`a` を通じて同じリストを見たときにも変更が反映されます。"
      ],
      "metadata": {
        "id": "GUSJ3mLxP1lY"
      }
    },
    {
      "cell_type": "code",
      "source": [
        "# 可変オブジェクト（リスト）の代入\n",
        "# `b = a` とすると、aとbは同じオブジェクトを参照します。\n",
        "\n",
        "a = [1, 2, 3]\n",
        "b = a\n",
        "\n",
        "print(f\"代入直後: a = {a}, id(a) = {id(a)}\")\n",
        "print(f\"代入直後: b = {b}, id(b) = {id(b)}\")\n",
        "\n",
        "# b を変更する\n",
        "print(\"\\n--- b.append(4) を実行 ---\")\n",
        "b.append(4)\n",
        "\n",
        "print(f\"変更後: a = {a}, id(a) = {id(a)}\")\n",
        "print(f\"変更後: b = {b}, id(b) = {id(b)}\")\n",
        "\n",
        "# a と b の中身が両方変わり、idも同じままであることを確認"
      ],
      "metadata": {
        "id": "mZG6Ef4EP5Ds"
      },
      "execution_count": null,
      "outputs": []
    },
    {
      "cell_type": "markdown",
      "source": [
        "### 2.2. 不変オブジェクトの代入\n",
        "\n",
        "一方、数値や文字列、タプルなどは**不変 (Immutable)** オブジェクトです。これらは中身を変更できません。\n",
        "\n",
        "`x = 10`\n",
        "`y = x`\n",
        "\n",
        "この時点では `x` と `y` は同じ `10` というオブジェクトを参照しています。\n",
        "\n",
        "`y = 15`\n",
        "\n",
        "この操作は、`10` のオブジェクトの中身を `15` に変えるわけではありません。\n",
        "`15` という**新しい**オブジェクトが作成され、`y` の参照先がその新しいオブジェクトに切り替わります。`x` の参照先は `10` のまま変わりません。"
      ],
      "metadata": {
        "id": "Owu56pa1RNej"
      }
    },
    {
      "cell_type": "code",
      "source": [
        "# 不変オブジェクト（数値）の代入\n",
        "# 不変オブジェクトは中身を変更できないため、新しい値を代入すると別のオブジェクトへの参照に切り替わります。\n",
        "\n",
        "x = 10\n",
        "y = x\n",
        "\n",
        "print(f\"代入直後: x = {x}, id(x) = {id(x)}\")\n",
        "print(f\"代入直後: y = {y}, id(y) = {id(y)}\")\n",
        "\n",
        "# y に新しい値を代入する\n",
        "print(\"\\n--- y = 15 を実行 ---\")\n",
        "y = 15\n",
        "\n",
        "print(f\"変更後: x = {x}, id(x) = {id(x)}\")\n",
        "print(f\"変更後: y = {y}, id(y) = {id(y)}\")\n",
        "\n",
        "# y の値とidは変わるが、x の値とidは変わらないことを確認"
      ],
      "metadata": {
        "id": "UAAoSK9ARL9p"
      },
      "execution_count": null,
      "outputs": []
    },
    {
      "cell_type": "markdown",
      "source": [
        "### 2.3. リストのリスト（ネスト）\n",
        "\n",
        "この「参照」という概念は、リストのリストのように複雑な構造を扱う際に特に重要です。\n",
        "\n",
        "`list1 = [1, 2]`\n",
        "`nested_list = [list1, 100]`\n",
        "\n",
        "この場合、`nested_list` の0番目の要素は、`list1` が参照している**同じ** `[1, 2]` というリストオブジェクトへの参照を保持しています。\n",
        "\n",
        "したがって、元の `list1` を変更すると、`nested_list` の中身も変更されます。"
      ],
      "metadata": {
        "id": "Zqpc20MBd7_6"
      }
    },
    {
      "cell_type": "code",
      "source": [
        "# ネストしたリストの参照\n",
        "# リストの中に別のリストへの参照が含まれている場合の動作\n",
        "\n",
        "list1 = [1, 2]\n",
        "print(f\"作成時: list1 = {list1}, id(list1) = {id(list1)}\")\n",
        "\n",
        "# list1 を要素として持つ新しいリストを作成\n",
        "nested_list = [list1, 100]\n",
        "\n",
        "print(f\"作成時: nested_list = {nested_list}\")\n",
        "print(f\"  nested_list[0]のid = {id(nested_list[0])}\")\n",
        "\n",
        "# 元の list1 を変更する\n",
        "print(\"\\n--- list1.append(3) を実行 ---\")\n",
        "list1.append(3)\n",
        "\n",
        "print(f\"変更後: list1 = {list1}\")\n",
        "print(f\"変更後: nested_list = {nested_list}\")\n",
        "\n",
        "# nested_list の中身も変わっていることを確認"
      ],
      "metadata": {
        "id": "3MAc78nfP6lp"
      },
      "execution_count": null,
      "outputs": []
    },
    {
      "cell_type": "markdown",
      "source": [
        "### 2.4. 参照ではなくコピーを作成する\n",
        "\n",
        "もし、元のオブジェクトに影響を与えずに変更を加えたい場合は、オブジェクトの「コピー」を作成する必要があります。\n",
        "\n",
        "リストの場合、`.copy()` メソッドを使うことで、リストそのもののコピー（**シャローコピー / 浅いコピー**）を作成できます。\n",
        "\n",
        "（注: `.copy()` はリスト自体をコピーしますが、リストの中身がさらにリストである場合、その中のリストは参照のままです。ネストしたリスト全体を完全にコピーするには `copy.deepcopy()` が必要になりますが、ここでは `.copy()` の動作を学びます。）"
      ],
      "metadata": {
        "id": "N96pJ7jRRYgz"
      }
    },
    {
      "cell_type": "code",
      "source": [
        "# リストのコピー (`.copy()`)\n",
        "# .copy() を使うと、新しいリストオブジェクトが作成されます。\n",
        "\n",
        "original = [10, 20, 30]\n",
        "copied = original.copy()\n",
        "\n",
        "print(f\"コピー直後: original = {original}, id(original) = {id(original)}\")\n",
        "print(f\"コピー直後: copied = {copied}, id(copied) = {id(copied)}\")\n",
        "\n",
        "# コピーしたリストを変更する\n",
        "print(\"\\n--- copied.append(40) を実行 ---\")\n",
        "copied.append(40)\n",
        "\n",
        "print(f\"変更後: original = {original}\")\n",
        "print(f\"変更後: copied = {copied}\")\n",
        "\n",
        "# original は変更されていないことを確認 (idも異なる)"
      ],
      "metadata": {
        "id": "ZLT-HxGCRaM4"
      },
      "execution_count": null,
      "outputs": []
    },
    {
      "cell_type": "markdown",
      "source": [
        "### ✏️ 課題2: 可変オブジェクトの代入とコピー\n",
        "\n",
        "`team_a` というリストを作成し、`team_a` をそのまま `team_b` に代入した場合と、`.copy()` を使って `team_c` に代入した場合の動作の違いを確認しましょう。\n",
        "\n",
        "1.  `team_a = ['Tanaka', 'Kobayashi']` を作成します。\n",
        "2.  `team_b = team_a` とします (参照の代入)。\n",
        "3.  `team_c = team_a.copy()` とします (コピーの作成)。\n",
        "4.  `team_b` に `'Sato'` を追加します (`.append()`)。\n",
        "5.  `team_c` に `'Abe'` を追加します (`.append()`)。\n",
        "6.  最後に、`team_a`, `team_b`, `team_c` の3つを `print` して、`team_a` がどのような結果になっているか確認してください。"
      ],
      "metadata": {
        "id": "unfiSxJQz3Y-"
      }
    },
    {
      "cell_type": "code",
      "source": [
        "# 課題2: team_a, team_b, team_c の動作を確認してください\n",
        "\n",
        "team_a = ['Tanaka', 'Kobayashi']\n",
        "print(f\"初期状態: team_a = {team_a}\\n\")\n",
        "\n",
        "# 1. team_b に team_a を代入してください (参照)\n",
        "\n",
        "\n",
        "# 2. team_c に team_a のコピーを代入してください (.copy() を使用)\n",
        "\n",
        "\n",
        "# 3. team_b に 'Sato' を追加してください\n",
        "\n",
        "\n",
        "# 4. team_c に 'Abe' を追加してください\n",
        "\n",
        "\n",
        "# 5. 最終結果の確認 (team_a, team_b, team_c をprintしてください)"
      ],
      "metadata": {
        "id": "K0DhHdwfeE_8"
      },
      "execution_count": null,
      "outputs": []
    },
    {
      "cell_type": "markdown",
      "source": [
        "## 3. 関数に引数を渡す際の動作 (値渡し vs 参照渡し)\n",
        "\n",
        "他のプログラミング言語では、「値渡し」と「参照渡し」という引数の渡し方が明確に区別されることがあります。\n",
        "\n",
        "* **値渡し (Pass-by-Value):** 関数の引数に値のコピーが渡される。関数内で引数の値を変更しても、呼び出し元の変数の値は変わらない。\n",
        "* **参照渡し (Pass-by-Reference):** 関数の引数に変数の参照（メモリ上の場所）が渡される。関数内で引数の値を変更すると、呼び出し元の変数の値も変わる。\n",
        "\n",
        "Pythonでは、これらとは少し異なる **「オブジェクト参照渡し」**（または **「代入による受け渡し / Pass-by-Assignment」** ）という方式を採用しています。\n",
        "\n",
        "これは、第2章で学んだ変数の代入 `b = a` と全く同じ動作が、関数呼び出し時にも起こることを意味します。\n",
        "関数が呼び出されると、関数内の引数名（例: `num`）が、呼び出し元で渡されたオブジェクト（例: `original_number` が参照するオブジェクト）への**参照**として設定されます。\n",
        "\n",
        "この方式は、渡すオブジェクトの種類によって「値渡し」のように見えたり、「参照渡し」のように見えたりします。\n",
        "\n",
        "* **数値、文字列、タプルなど (不変オブジェクト / Immutable):**\n",
        "    これらは中身を変更できないオブジェクトです。関数内で引数に新しい値を代入しようとすると、実際には新しいオブジェクトへの参照に切り替わるため、**呼び出し元の変数には影響しません**（値渡しのように振る舞います）。\n",
        "* **リスト、辞書など (可変オブジェクト / Mutable):**\n",
        "    これらは中身を変更できるオブジェクトです。関数内で引数が参照しているオブジェクトの**中身を変更する操作**（例: リストに要素を追加）を行うと、**呼び出し元の変数にも影響します**（参照渡しのように振る舞います）。ただし、関数内で引数に**全く別のオブジェクトを再代入**した場合は、呼び出し元の変数には影響しません。\n",
        "\n",
        "以下の例で具体的な動作を確認しましょう。"
      ],
      "metadata": {
        "id": "MTJEXIKERdD7"
      }
    },
    {
      "cell_type": "code",
      "source": [
        "# 不変オブジェクト（数値）を引数に渡す例\n",
        "# 数値は不変オブジェクトです。関数内で値を変更しても、元の変数には影響しません。\n",
        "\n",
        "def try_change_number(num):\n",
        "  \"\"\"\n",
        "  受け取った数値に10を加える関数\n",
        "  \"\"\"\n",
        "  print(f\"  関数内 (変更前): num = {num}, id = {id(num)}\")\n",
        "  num = num + 10 # 新しい数値オブジェクトが作られ、numはその参照を持つ\n",
        "  print(f\"  関数内 (変更後): num = {num}, id = {id(num)}\")\n",
        "\n",
        "# --- 関数の呼び出し ---\n",
        "original_number = 5\n",
        "print(f\"関数呼び出し前: original_number = {original_number}, id = {id(original_number)}\")\n",
        "\n",
        "try_change_number(original_number)\n",
        "\n",
        "print(f\"関数呼び出し後: original_number = {original_number}, id = {id(original_number)}\")\n",
        "# 関数内でnumに10を加えるても、original_numberの値は変わらない"
      ],
      "metadata": {
        "id": "Ds__BJZeReYU"
      },
      "execution_count": null,
      "outputs": []
    },
    {
      "cell_type": "code",
      "source": [
        "# 可変オブジェクト（リスト）を引数に渡す例 (再代入)\n",
        "# 関数内で引数に別のリストを再代入しても、元のリストには影響しません。\n",
        "\n",
        "def reassign_list(input_list):\n",
        "  \"\"\"\n",
        "  受け取った引数に、新しいリストを代入する関数\n",
        "  \"\"\"\n",
        "  print(f\"  関数内 (再代入前): input_list = {input_list}, id = {id(input_list)}\")\n",
        "  input_list = ['a', 'b', 'c'] # input_listは新しいリストオブジェクトを参照するようになる\n",
        "  print(f\"  関数内 (再代入後): input_list = {input_list}, id = {id(input_list)}\") # idが変わる\n",
        "\n",
        "# --- 関数の呼び出し ---\n",
        "original_list_2 = [1, 2, 3]\n",
        "print(f\"関数呼び出し前: original_list_2 = {original_list_2}, id = {id(original_list_2)}\")\n",
        "\n",
        "reassign_list(original_list_2)\n",
        "\n",
        "print(f\"関数呼び出し後: original_list_2 = {original_list_2}, id = {id(original_list_2)}\")\n",
        "# 関数内でinput_listに別のリストが代入されても、original_list_2は変わらない (idも元のまま)"
      ],
      "metadata": {
        "id": "U2Cv-5DYx0QM"
      },
      "execution_count": null,
      "outputs": []
    },
    {
      "cell_type": "markdown",
      "source": [
        "### ✏️ 課題3: 不変オブジェクト（文字列）で試してみよう\n",
        "\n",
        "文字列も不変オブジェクトです。数値の場合と同様に、関数内で文字列を変更（再代入）しても元の変数に影響しないことを確認しましょう。\n",
        "\n",
        "1.  文字列を受け取り、その末尾に `\", Japan\"` を追加する `add_japan` という関数を作成してください。\n",
        "2.  関数内で、引数に新しい文字列を代入するようにします (例: `location = location + \", Japan\"`)。\n",
        "3.  関数を呼び出す前と後で、元の文字列変数 (`original_city`) の値が変わらないことを `print` で確認してください。"
      ],
      "metadata": {
        "id": "-hcmoyqkxqLx"
      }
    },
    {
      "cell_type": "code",
      "source": [
        "# 課題3: add_japan関数を定義し、元の変数が変わらないことを確認してください\n",
        "\n",
        "original_city = \"Shizuoka\"\n",
        "\n",
        "# --- add_japan関数を定義 ---\n",
        "\n",
        "\n",
        "# --- 関数の呼び出しと確認 ---\n",
        "\n"
      ],
      "metadata": {
        "id": "K9G4eurOxs4y"
      },
      "execution_count": null,
      "outputs": []
    },
    {
      "cell_type": "markdown",
      "source": [
        "### ✏️ 課題4: 可変オブジェクト（辞書）で試してみよう\n",
        "\n",
        "辞書も可変オブジェクトです。関数内で辞書の中身（キーと値のペア）を変更すると、元の辞書にも影響することを確認しましょう。\n",
        "\n",
        "1.  辞書を受け取り、`'country'` というキーに `'Japan'` という値を追加する `add_country_info` という関数を作成してください。\n",
        "2.  関数内で、`input_dict['country'] = 'Japan'` のようにして辞書の中身を変更します。\n",
        "3.  関数を呼び出す前と後で、元の辞書変数 (`original_info`) の中身が変更されていることを `print` で確認してください。"
      ],
      "metadata": {
        "id": "qIFRK9-zP-ev"
      }
    },
    {
      "cell_type": "code",
      "source": [
        "# 課題4: add_country_info関数を定義し、元の辞書が変わることを確認してください\n",
        "\n",
        "original_info = {'city': 'Shizuoka', 'population': 700000}\n",
        "\n",
        "# --- add_country_info関数を定義 ---\n",
        "\n",
        "\n",
        "# --- 関数の呼び出しと確認 ---"
      ],
      "metadata": {
        "id": "PKUu0MwZxyxA"
      },
      "execution_count": null,
      "outputs": []
    },
    {
      "cell_type": "markdown",
      "source": [
        "### ✏️ 課題5: 中身の変更と再代入の違いを確認しよう\n",
        "\n",
        "リストの中身を変更する操作 (`.append()` など) と、リスト自体を別のものに再代入する操作 (`=`) の違いをもう一度確認しましょう。\n",
        "\n",
        "1.  リストを受け取る `modify_and_reassign` という関数を作成してください。\n",
        "2.  関数の中で、まず受け取ったリストに要素 `999` を追加します (`.append(999)`)。\n",
        "3.  **その後**、同じ引数に全く新しいリスト `['x', 'y', 'z']` を再代入します (`= ['x', 'y', 'z']`)。\n",
        "4.  関数を呼び出す前と後で、元のリスト変数 (`test_list`) の値がどのように変化するかを `print` で確認してください。\n",
        "    * `.append(999)` の影響は残るでしょうか？\n",
        "    * `= ['x', 'y', 'z']` の影響はあるでしょうか？"
      ],
      "metadata": {
        "id": "ZBjBdw1Rx1bm"
      }
    },
    {
      "cell_type": "code",
      "source": [
        "# 課題5: modify_and_reassign関数を定義し、元のリストの変化を確認してください\n",
        "\n",
        "test_list = [10, 20, 30]\n",
        "\n",
        "# --- modify_and_reassign関数を定義 ---\n",
        "\n",
        "\n",
        "# --- 関数の呼び出しと確認 ---\n",
        "\n"
      ],
      "metadata": {
        "id": "t2HDDUdLx19X"
      },
      "execution_count": null,
      "outputs": []
    },
    {
      "cell_type": "markdown",
      "source": [
        "---\n",
        "## ✅ まとめ\n",
        "\n",
        "今回は、Python の変数の参照モデルと、それが関数の引数にどう影響するかを学びました。\n",
        "\n",
        "* Pythonの変数は**オブジェクトへの参照**です。`b = a` はコピーではなく、同じオブジェクトへの参照を作成します。\n",
        "* リストや辞書などの**可変 (Mutable) オブジェクト**は、参照を通じて中身を変更できます。`b = a` の後 `b.append(1)` を実行すると `a` も変わります。\n",
        "* この動作を避けるには `b = a.copy()` のように明示的にコピーを作成します。\n",
        "* Pythonの関数引数は**オブジェクト参照渡し**（Pass-by-Assignment）です。関数呼び出しは、変数の代入と同じ動作をします。\n",
        "* 数値や文字列などの**不変 (Immutable) オブジェクト**を渡した場合、関数内で引数自体に再代入しても、元の変数には影響せず、**値渡し**のように振る舞います。\n",
        "* リストや辞書などの**可変 (Mutable) オブジェクト**を渡した場合、関数内でそのオブジェクトの**中身を変更すると、元の変数にも影響し、参照渡し**のように振るまいます。\n",
        "* ただし、可変オブジェクトであっても、関数内で引数に**全く別のオブジェクトを再代入**した場合は、元の変数には影響しません。\n",
        "\n",
        "このオブジェクトの「可変性（Mutability）」と「参照」の概念が理解できると、値渡し・参照渡しもすんなり理解できると思います。"
      ],
      "metadata": {
        "id": "fap1XBukx3uW"
      }
    }
  ]
}