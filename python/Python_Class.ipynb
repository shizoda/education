{
  "nbformat": 4,
  "nbformat_minor": 0,
  "metadata": {
    "colab": {
      "provenance": [],
      "authorship_tag": "ABX9TyPWHbOzG1npSnF+EKWzLQ7a",
      "include_colab_link": true
    },
    "kernelspec": {
      "name": "python3",
      "display_name": "Python 3"
    },
    "language_info": {
      "name": "python"
    }
  },
  "cells": [
    {
      "cell_type": "markdown",
      "metadata": {
        "id": "view-in-github",
        "colab_type": "text"
      },
      "source": [
        "<a href=\"https://colab.research.google.com/github/shizoda/education/blob/main/python/Python_Class.ipynb\" target=\"_parent\"><img src=\"https://colab.research.google.com/assets/colab-badge.svg\" alt=\"Open In Colab\"/></a>"
      ]
    },
    {
      "cell_type": "markdown",
      "source": [
        "# 🐍 Python における「クラス」\n",
        "\n",
        "今回は､Pythonにおける「クラス」の基本的な概念を実践的に学びます。これまで文字列や整数などの組み込み型データを使ってきましたが、ここでは自分たちで設計したオリジナルの「データの型」を作ります。\n",
        "\n",
        "コンピュータプログラムでは、関連するデータ（属性）と処理（メソッド）を一つにまとめることで、コードを整理し、再利用しやすくするのが一般的です。このまとまりを作るための設計図が「クラス」です。\n",
        "\n",
        "## 📖 このノートブックで学べること\n",
        "* クラスの定義方法\n",
        "* クラスから実体（インスタンス）を作成する方法\n",
        "* データ（属性）と処理（メソッド）の概念\n",
        "* 既存のクラスの機能を拡張する「継承」の基本"
      ],
      "metadata": {
        "id": "CbJvg4jDZw2N"
      }
    },
    {
      "cell_type": "markdown",
      "source": [
        "## 1. クラスの定義とインスタンスの作成\n",
        "\n",
        "まず、最も基本的なクラスを作成してみましょう。ここでは、人物の情報を扱う`Person`というクラスを定義します。クラスは、その「設計図」がどのようなデータ（属性）を持ち、どのような操作（メソッド）ができるかを記述したものです。\n",
        "\n",
        "**用語の整理:**\n",
        "* **クラス (Class):** オブジェクトの設計図。例えば「人間」という概念そのもの。\n",
        "* **インスタンス (Instance) / オブジェクト (Object):** クラスという設計図に基づいて作成された実体。例えば「Aさん」「Bさん」といった具体的な個人。\n",
        "* **属性 (Attribute):** インスタンスが持つデータ。`name`や`age`など。\n",
        "* **メソッド (Method):** インスタンスが実行できる処理（関数）。自己紹介をする`introduce()`など。\n",
        "\n",
        "以下のコードでは、`__init__`という特別なメソッドを定義します。これは「コンストラクタ」と呼ばれ、インスタンスが作成されるときに自動的に呼び出され、初期設定を行う役割を持ちます。`self`はインスタンス自身を指す特別な変数です。"
      ],
      "metadata": {
        "id": "nztfAtu3bIJ3"
      }
    },
    {
      "cell_type": "code",
      "source": [
        "# @markdown ### Personクラスの定義と実行\n",
        "# @markdown 以下のコードを実行して、クラスからインスタンスが作成され、メソッドが呼び出されることを確認してください。\n",
        "\n",
        "class Person:\n",
        "  \"\"\"\n",
        "  人物の情報を扱うクラス\n",
        "  \"\"\"\n",
        "  def __init__(self, name, age):\n",
        "    \"\"\"\n",
        "    インスタンス作成時に呼び出される初期化メソッド（コンストラクタ）\n",
        "    nameとageという属性（データ）を設定します。\n",
        "    \"\"\"\n",
        "    self.name = name\n",
        "    self.age = age\n",
        "    print(f\"{self.name}のインスタンスが作成されました。\")\n",
        "\n",
        "  def introduce(self):\n",
        "    \"\"\"\n",
        "    自己紹介を行うメソッド（処理）\n",
        "    \"\"\"\n",
        "    return f\"私の名前は{self.name}です。年齢は{self.age}歳です。\"\n",
        "\n",
        "# --- ここからがクラスの利用 ---\n",
        "\n",
        "# Personクラスからインスタンスを作成\n",
        "person1 = Person(\"田中\", 30)\n",
        "\n",
        "# 属性にアクセスして情報を表示\n",
        "print(f\"person1の名前: {person1.name}\")\n",
        "\n",
        "# メソッドを呼び出して自己紹介文を取得・表示\n",
        "introduction_message = person1.introduce()\n",
        "print(introduction_message)"
      ],
      "metadata": {
        "id": "s7qqhonEbKoL"
      },
      "execution_count": null,
      "outputs": []
    },
    {
      "cell_type": "markdown",
      "source": [
        "### ✏️ 課題1: 新しいクラスを作成してみよう\n",
        "\n",
        "例題とは別に、新しく`Car`（車）クラスを作成してみましょう。\n",
        "\n",
        "1.  下のコードセルに、`Car`クラスの雛形を記述しました。\n",
        "2.  コンストラクタ(`__init__`)に、`color`（色）という属性を新しく追加してください。インスタンス作成時に`model_name`と`color`の両方を受け取るようにします。\n",
        "3.  `drive`という新しいメソッドを追加してください。このメソッドは、「{self.color}の{self.model_name}が走行しています。」という文字列を返します。\n",
        "4.  `Car`クラスから、好きなモデル名と色でインスタンスを作成し、`drive`メソッドを呼び出して結果が表示されることを確認してください。"
      ],
      "metadata": {
        "id": "9KOgUMWjbNJi"
      }
    },
    {
      "cell_type": "code",
      "source": [
        "# 課題1: Carクラスを完成させてください\n",
        "\n",
        "class Car:\n",
        "  def __init__(self, model_name):\n",
        "    self.model_name = model_name\n",
        "    # ここに color 属性を追加する処理を記述\n",
        "\n",
        "  def get_info(self):\n",
        "    return f\"この車のモデル名は{self.model_name}です。\"\n",
        "\n",
        "  # ここに drive メソッドを定義\n",
        "\n",
        "\n",
        "# --- 動作確認 ---\n",
        "# Carクラスからインスタンスを作成し、driveメソッドを呼び出してください"
      ],
      "metadata": {
        "id": "u3wfV-NObQpi"
      },
      "execution_count": null,
      "outputs": []
    },
    {
      "cell_type": "markdown",
      "source": [
        "## 2. 継承：クラスの機能を拡張する\n",
        "\n",
        "次に、「継承」という概念を学びます。継承とは、あるクラス（親クラス）の機能を引き継いで、新しいクラス（子クラス）を作成する仕組みのことです。\n",
        "\n",
        "これにより、共通の機能を何度も書く必要がなくなり、機能の追加や変更が容易になります。例えば、「学生」は「人間」の一種ですが、所属学部という「学生」特有のデータを持ちます。このような関係性をコードで表現するのが継承です。\n",
        "\n",
        "* **親クラス (Parent Class / Superclass):** 機能を引き継がせる元のクラス。（例：`Person`）\n",
        "* **子クラス (Child Class / Subclass):** 機能を引き継ぐ新しいクラス。（例：`Student`）\n",
        "\n",
        "子クラスでは、親クラスのメソッドをそのまま利用できるほか、新しいメソッドを追加したり、親のメソッドを上書き（オーバーライド）して独自の処理を定義したりすることもできます。"
      ],
      "metadata": {
        "id": "wPP8ckU6bWtY"
      }
    },
    {
      "cell_type": "code",
      "source": [
        "# @markdown ### Studentクラス（継承）の定義と実行\n",
        "# @markdown `Person`クラスを継承して`Student`クラスを定義します。\n",
        "\n",
        "# 継承するためには、Personクラスが定義済みである必要があります。\n",
        "# もしまだ実行していない場合は、最初のコードセルを実行してください。\n",
        "class Student(Person):\n",
        "  \"\"\"\n",
        "  Personクラスを継承した学生クラス\n",
        "  \"\"\"\n",
        "  def __init__(self, name, age, faculty):\n",
        "    \"\"\"\n",
        "    Studentクラスのコンストラクタ\n",
        "    \"\"\"\n",
        "    # super().__init__() を使って、親クラス(Person)のコンストラクタを呼び出す\n",
        "    super().__init__(name, age)\n",
        "    self.faculty = faculty # Studentクラス独自の属性を追加\n",
        "    print(f\"所属学部は{self.faculty}です。\")\n",
        "\n",
        "  def study(self):\n",
        "    \"\"\"\n",
        "    Studentクラス独自のメソッド\n",
        "    \"\"\"\n",
        "    return f\"{self.name}は勉強しています。\"\n",
        "\n",
        "  def introduce(self):\n",
        "    \"\"\"\n",
        "    親クラスのintroduceメソッドをオーバーライド（上書き）\n",
        "    \"\"\"\n",
        "    # 親クラスのintroduceメソッドを呼び出し、その結果に情報を追加する\n",
        "    basic_intro = super().introduce()\n",
        "    return f\"{basic_intro} {self.faculty}に所属しています。\"\n",
        "\n",
        "\n",
        "# --- ここからが継承したクラスの利用 ---\n",
        "\n",
        "# Studentクラスからインスタンスを作成\n",
        "student1 = Student(\"佐藤\", 20, \"経営情報学部\")\n",
        "\n",
        "# オーバーライドしたintroduceメソッドを呼び出す\n",
        "print(student1.introduce())"
      ],
      "metadata": {
        "id": "S2h3k-JibYTt"
      },
      "execution_count": null,
      "outputs": []
    },
    {
      "cell_type": "markdown",
      "source": [
        "### ✏️ 課題2: 継承を使って新しいクラスを作成してみよう\n",
        "\n",
        "今度は、`Animal`（動物）という親クラスを継承して、`Dog`（犬）クラスを作成してみましょう。\n",
        "\n",
        "1.  下のセルに`Animal`クラスが定義されています。このクラスは`name`という属性と、`speak`というメソッドを持っています。\n",
        "2.  `Animal`クラスを継承した`Dog`クラスを作成してください。\n",
        "3.  `Dog`クラスのコンストラクタ(`__init__`)では、親クラスの`__init__`を呼び出してください。\n",
        "4.  `speak`メソッドを**オーバーライド**して、`\"ワン！\"`という文字列を返すように処理を変更してください。\n",
        "5.  `Dog`クラスからインスタンスを作成し、`speak`メソッドを呼び出して`\"ワン！\"`と表示されることを確認してください。（親クラスの`speak`メソッドが上書きされていることを確認します）"
      ],
      "metadata": {
        "id": "zjTB316qbaf3"
      }
    },
    {
      "cell_type": "code",
      "source": [
        "# 課題2: Animalクラスを継承してDogクラスを作成してください\n",
        "\n",
        "class Animal:\n",
        "  def __init__(self, name):\n",
        "    self.name = name\n",
        "\n",
        "  def speak(self):\n",
        "    return \"...\" # 親クラスでは特定の鳴き声を定義しない\n",
        "\n",
        "# --- ここにDogクラスを定義 ---\n",
        "\n",
        "\n",
        "\n",
        "# --- 動作確認 ---\n",
        "# Dogクラスからインスタンスを作成し、speakメソッドを呼び出してください"
      ],
      "metadata": {
        "id": "_rNoR_eZbcaU"
      },
      "execution_count": null,
      "outputs": []
    },
    {
      "cell_type": "markdown",
      "source": [
        "---\n",
        "## ✅ まとめと総合課題\n",
        "\n",
        "このノートブックでは、Pythonのクラスに関する基本的な概念を学びました。\n",
        "\n",
        "* `class`キーワードを使って、データ（属性）と処理（メソッド）の設計図である**クラス**を定義しました。\n",
        "* クラスから`()`を使って、その実体である**インスタンス**を作成しました。\n",
        "* `__init__`メソッドでインスタンスの初期化を行い、`self`を使ってインスタンス自身の属性にアクセスしました。\n",
        "* あるクラスの機能を別のクラスに引き継がせる**継承**の仕組みを学び、`super()`を使って親クラスのメソッドを呼び出しました。\n",
        "\n",
        "クラスを使うことで、複雑なプログラムを整理し、部品として再利用可能な形で構造化することができます。これは、小規模なスクリプトから大規模なアプリケーション開発まで、あらゆる場面で役立つ重要な考え方です。\n",
        "\n",
        "---\n",
        "\n",
        "### 🚀 総合課題\n",
        "\n",
        "最後に、`Book`（本）とその子クラスである`Textbook`（教科書）を作成してみましょう。\n",
        "\n",
        "1.  **`Book`クラス（親クラス）**\n",
        "    * `__init__`で`title`（タイトル）と`author`（著者）を属性として持つようにします。\n",
        "    * `get_info`というメソッドを定義し、「『{self.title}』(著者: {self.author})」という文字列を返すようにします。\n",
        "\n",
        "2.  **`Textbook`クラス（子クラス）**\n",
        "    * `Book`クラスを継承します。\n",
        "    * `__init__`メソッドで、`title`と`author`に加えて`subject`（科目）という属性も受け取るようにします。親の`__init__`を忘れずに呼び出してください。\n",
        "    * `get_info`メソッドを**オーバーライド**します。親の`get_info`メソッドの結果を利用し、「『{self.title}』(著者: {self.author}) - 科目: {self.subject}」という形式の文字列を返すように変更します。\n",
        "\n",
        "3.  **実行**\n",
        "    * `Book`クラスと`Textbook`クラスからそれぞれインスタンスを作成します。\n",
        "    * それぞれのインスタンスで`get_info`メソッドを呼び出し、意図した通りの情報が表示されることを確認してください。"
      ],
      "metadata": {
        "id": "iiUbvZZbbeSB"
      }
    }
  ]
}