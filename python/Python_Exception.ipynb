{
  "nbformat": 4,
  "nbformat_minor": 0,
  "metadata": {
    "colab": {
      "provenance": [],
      "authorship_tag": "ABX9TyNrgzYnRyjpb1PUUG97VR22",
      "include_colab_link": true
    },
    "kernelspec": {
      "name": "python3",
      "display_name": "Python 3"
    },
    "language_info": {
      "name": "python"
    }
  },
  "cells": [
    {
      "cell_type": "markdown",
      "metadata": {
        "id": "view-in-github",
        "colab_type": "text"
      },
      "source": [
        "<a href=\"https://colab.research.google.com/github/shizoda/education/blob/main/python/Python_Exception.ipynb\" target=\"_parent\"><img src=\"https://colab.research.google.com/assets/colab-badge.svg\" alt=\"Open In Colab\"/></a>"
      ]
    },
    {
      "cell_type": "markdown",
      "source": [
        "# ⚙️ Pythonの例外処理\n",
        "\n",
        "このノートブックでは、Pythonにおける「例外処理」の基本的な使い方を学びます。プログラムを実行していると、予期しないエラーが発生して処理が中断してしまうことがあります。例えば、数値を0で割ろうとしたり、存在しないファイルを開こうとしたりする場合です。\n",
        "\n",
        "このようなエラーを「例外」と呼びます。例外処理は、こうしたエラーが発生した際にプログラムが停止するのを防ぎ、適切に対応するための仕組みです。\n",
        "\n",
        "## 📖 このノートブックで学べること\n",
        "* `try...except`を使った基本的なエラーの捕捉\n",
        "* 特定の例外を指定して処理する方法\n",
        "* エラーがなかった場合に実行される`else`ブロック\n",
        "* 処理の最後に必ず実行される`finally`ブロック\n",
        "* 例外を意図的に発生させる`raise`の使い方"
      ],
      "metadata": {
        "id": "PoqPRrsgdat8"
      }
    },
    {
      "cell_type": "markdown",
      "source": [
        "## 1. `try...except`による基本的なエラー処理\n",
        "\n",
        "最も基本的な例外処理は`try`と`except`ブロックを使います。\n",
        "\n",
        "* **`try`ブロック:** 例外が発生する可能性のあるコードをこのブロック内に記述します。\n",
        "* **`except`ブロック:** `try`ブロック内で例外が発生した場合に、実行されるコードを記述します。例外が発生しなければ、このブロックは無視されます。\n",
        "\n",
        "以下の例では、ゼロ除算（`ZeroDivisionError`）という例外が発生する可能性のある処理を`try`ブロックに記述し、もしエラーが起きた場合の対処を`except`ブロックで定義しています。"
      ],
      "metadata": {
        "id": "awBP06_Fdd2v"
      }
    },
    {
      "cell_type": "code",
      "execution_count": null,
      "metadata": {
        "id": "sSa1_PIcdWQT"
      },
      "outputs": [],
      "source": [
        "# @markdown ### ゼロ除算エラーの例\n",
        "# @markdown 以下のコードを実行して、エラーが捕捉されることを確認してください。\n",
        "\n",
        "print(\"計算を開始します。\")\n",
        "\n",
        "try:\n",
        "  # ゼロで割り算を試みる（ZeroDivisionErrorが発生する可能性がある）\n",
        "  result = 10 / 0\n",
        "  print(f\"計算結果: {result}\") # この行は実行されない\n",
        "\n",
        "except ZeroDivisionError:\n",
        "  # ZeroDivisionErrorが発生した場合に、こちらの処理が実行される\n",
        "  print(\"エラー: 0で割ることはできません。\")\n",
        "\n",
        "print(\"計算を終了します。\")"
      ]
    },
    {
      "cell_type": "markdown",
      "source": [
        "### ✏️ 課題1: `ValueError`を処理してみよう\n",
        "\n",
        "ユーザーからの入力を数値に変換する際、数字以外の文字が入力されると`ValueError`という例外が発生します。この例外を捕捉する処理を書いてみましょう。\n",
        "\n",
        "1.  下のコードセルに、ユーザー入力を受け付けて数値に変換するコードの雛形があります。\n",
        "2.  `try...except`を使って、`int()`関数で`ValueError`が発生した場合に「エラー: 有効な数値を入力してください。」と表示するようにしてください。\n",
        "3.  数字（例: `123`）を入力した場合と、文字（例: `abc`）を入力した場合で、プログラムの動作がどう変わるかを確認してください。"
      ],
      "metadata": {
        "id": "bBjwfMhIdivP"
      }
    },
    {
      "cell_type": "code",
      "source": [
        "# 課題1: ValueErrorを処理するコードを記述してください\n",
        "\n",
        "input_str = input(\"数値を入力してください: \")\n",
        "\n",
        "# --- ここにtry...exceptブロックを記述 ---\n",
        "# tryブロック内で、input_strをint()で整数に変換し、結果を表示する\n",
        "# except ValueErrorブロックで、エラーメッセージを表示する"
      ],
      "metadata": {
        "id": "pQl3VlVEdlNc"
      },
      "execution_count": null,
      "outputs": []
    },
    {
      "cell_type": "markdown",
      "source": [
        "## 2. `else`と`finally`ブロック\n",
        "\n",
        "`try...except`構文には、`else`と`finally`という追加のブロックを記述することができます。\n",
        "\n",
        "* **`else`ブロック:** `try`ブロック内で**例外が発生しなかった場合**にのみ実行されます。処理が成功した後のコードを記述するのに適しています。\n",
        "* **`finally`ブロック:** `try`ブロック内で例外が**発生したかどうかに関わらず**、最後に必ず実行されます。ファイルやネットワーク接続を閉じるなど、後片付けの処理を記述するのに使われます。\n",
        "\n",
        "以下の例は、ファイルを開いて書き込みを行う処理です。それぞれのブロックがどのタイミングで実行されるかを確認しましょう。"
      ],
      "metadata": {
        "id": "O2RkBa5HdngE"
      }
    },
    {
      "cell_type": "code",
      "source": [
        "# @markdown ### elseとfinallyの例\n",
        "# @markdown 以下のコードを実行してください。\n",
        "\n",
        "try:\n",
        "  # 'test.txt'という名前のファイルを書き込みモード('w')で開く\n",
        "  f = open('test.txt', 'w')\n",
        "  # ファイルに文字列を書き込む\n",
        "  f.write('こんにちは、Python！')\n",
        "  print(\"ファイルへの書き込みを試みます。\")\n",
        "\n",
        "except IOError:\n",
        "  # ファイル書き込みでエラーが発生した場合（めったに起きない）\n",
        "  print(\"エラー: ファイルに書き込めませんでした。\")\n",
        "\n",
        "else:\n",
        "  # tryブロックで例外が発生しなかった場合に実行される\n",
        "  print(\"ファイルへの書き込みが成功しました。\")\n",
        "\n",
        "finally:\n",
        "  # 例外の有無にかかわらず、最後に必ず実行される\n",
        "  print(\"ファイル処理を終了します。ファイルを閉じます。\")\n",
        "  f.close()"
      ],
      "metadata": {
        "id": "ueTw95NQdp8k"
      },
      "execution_count": null,
      "outputs": []
    },
    {
      "cell_type": "markdown",
      "source": [
        "### ✏️ 課題2: リストの要素にアクセスする処理\n",
        "\n",
        "リストの範囲外のインデックスを指定すると`IndexError`が発生します。`try...except...else`を使って、安全にリストの要素を取得する処理を書いてみましょう。\n",
        "\n",
        "1.  `my_list`と`index`という変数が定義されています。\n",
        "2.  `try`ブロックで、`my_list`の`index`番目の要素を取得して表示してください。\n",
        "3.  `except IndexError`ブロックで、「エラー: 指定されたインデックスは範囲外です。」と表示してください。\n",
        "4.  `else`ブロックで、「要素の取得が完了しました。」と表示してください。\n",
        "5.  `index`の値を`1`（範囲内）にした場合と、`5`（範囲外）にした場合で、それぞれ実行結果がどう変わるかを確認してください。"
      ],
      "metadata": {
        "id": "r1AvN4ONdsGb"
      }
    },
    {
      "cell_type": "code",
      "source": [
        "# 課題2: IndexErrorを処理するコードを記述してください\n",
        "\n",
        "my_list = ['A', 'B', 'C']\n",
        "index = 1 # この値を 5 に変えて試してください\n",
        "\n",
        "print(f\"インデックス {index} の要素を取得します。\")\n",
        "\n",
        "# --- ここにtry...except...elseブロックを記述 ---"
      ],
      "metadata": {
        "id": "henO_HBfdtmB"
      },
      "execution_count": null,
      "outputs": []
    },
    {
      "cell_type": "markdown",
      "source": [
        "---\n",
        "## ✅ まとめと総合課題\n",
        "\n",
        "このノートブックでは、Pythonの例外処理について基本的な構文を学びました。\n",
        "\n",
        "* `try...except`を使うことで、エラーが発生してもプログラムを停止させずに処理を続けることができます。\n",
        "* `else`ブロックはエラーが発生しなかった場合の処理を、`finally`ブロックは常に実行したい後片付け処理を記述するのに便利です。\n",
        "* `ValueError`や`IndexError`など、発生するエラーの種類に応じた対処が可能です。\n",
        "\n",
        "例外処理を適切に使うことで、予期せぬ入力や状況に対応できる、堅牢なプログラムを作成することができます。\n",
        "\n",
        "---\n",
        "\n",
        "### 🚀 総合課題\n",
        "\n",
        "`raise`を使うと、特定の条件で意図的に例外を発生させることができます。これを利用して、年齢を検証する簡単な関数を作成してみましょう。\n",
        "\n",
        "**課題:** `check_age`という関数を定義してください。\n",
        "\n",
        "1.  この関数は、引数として`age`（年齢）を受け取ります。\n",
        "2.  `try`ブロックの中で、以下の条件分岐を実装します。\n",
        "    * `age`が**0未満**の場合、`raise ValueError(\"年齢に負の値は指定できません。\")`を実行して、`ValueError`を発生させます。\n",
        "    * `age`が**130より大きい**場合、`raise ValueError(\"年齢が大きすぎます。\")`を実行します。\n",
        "3.  `except ValueError as e:`を使って、`raise`で発生させた例外を捕捉します。\n",
        "    * 捕捉したエラーメッセージ（`e`に格納されています）を表示してください。\n",
        "4.  `else`ブロックで、「{age}歳は有効な年齢です。」と表示します。\n",
        "\n",
        "**実行**\n",
        "* `check_age(25)`（正常な値）、`check_age(-5)`（不正な値）、`check_age(150)`（不正な値）をそれぞれ呼び出し、結果を確認してください。"
      ],
      "metadata": {
        "id": "Lx-Xq3M-du8v"
      }
    },
    {
      "cell_type": "code",
      "source": [
        "# 総合課題をここに実装してください\n",
        "\n",
        "def check_age(age):\n",
        "  # --- ここに関数の処理を記述 ---\n",
        "\n",
        "\n",
        "\n",
        "\n",
        "# --- 動作確認 ---\n",
        "check_age(25)\n",
        "print(\"-\" * 20)\n",
        "check_age(-5)\n",
        "print(\"-\" * 20)\n",
        "check_age(150)"
      ],
      "metadata": {
        "id": "nbMtfnFLeXnF"
      },
      "execution_count": null,
      "outputs": []
    }
  ]
}