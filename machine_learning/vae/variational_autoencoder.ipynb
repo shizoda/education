{
  "nbformat": 4,
  "nbformat_minor": 0,
  "metadata": {
    "colab": {
      "provenance": [],
      "gpuType": "T4",
      "authorship_tag": "ABX9TyNPBN3GGCiwamKmVn9IZver",
      "include_colab_link": true
    },
    "kernelspec": {
      "name": "python3",
      "display_name": "Python 3"
    },
    "language_info": {
      "name": "python"
    },
    "accelerator": "GPU"
  },
  "cells": [
    {
      "cell_type": "markdown",
      "metadata": {
        "id": "view-in-github",
        "colab_type": "text"
      },
      "source": [
        "<a href=\"https://colab.research.google.com/github/shizoda/education/blob/main/machine_learning/vae/variational_autoencoder.ipynb\" target=\"_parent\"><img src=\"https://colab.research.google.com/assets/colab-badge.svg\" alt=\"Open In Colab\"/></a>"
      ]
    },
    {
      "cell_type": "markdown",
      "source": [
        "# Variational Autoencoder (VAE)\n",
        "\n",
        "基本の Autoencoder (AE) が分かったところで、VAE について見ていきましょう。"
      ],
      "metadata": {
        "id": "-cAgXJGlQBWL"
      }
    },
    {
      "cell_type": "code",
      "execution_count": 3,
      "metadata": {
        "id": "b7ZX_-YFPoio"
      },
      "outputs": [],
      "source": [
        "import torch\n",
        "import torchvision\n",
        "import torchvision.transforms as transforms\n",
        "import torch.nn.functional as F\n",
        "from torch import nn\n",
        "import matplotlib.pyplot as plt\n",
        "import numpy as np"
      ]
    },
    {
      "cell_type": "code",
      "source": [
        "# データセットの変換処理\n",
        "transform = transforms.Compose([\n",
        "    transforms.ToTensor(),\n",
        "    transforms.Normalize((0.5, 0.5, 0.5), (0.5, 0.5, 0.5))\n",
        "])\n",
        "\n",
        "# CIFAR-10のトレーニングデータセット\n",
        "trainset = torchvision.datasets.CIFAR10(root='./data', train=True,\n",
        "                                        download=True, transform=transform)\n",
        "trainloader = torch.utils.data.DataLoader(trainset, batch_size=64,\n",
        "                                          shuffle=True, num_workers=2)\n",
        "\n",
        "# CIFAR-10のテストデータセット\n",
        "testset = torchvision.datasets.CIFAR10(root='./data', train=False,\n",
        "                                       download=True, transform=transform)\n",
        "testloader = torch.utils.data.DataLoader(testset, batch_size=64,\n",
        "                                         shuffle=False, num_workers=2)"
      ],
      "metadata": {
        "colab": {
          "base_uri": "https://localhost:8080/"
        },
        "id": "YrAnXwo2QA2c",
        "outputId": "42021b78-fc67-447d-e841-bbaa0b7d2dbc"
      },
      "execution_count": 4,
      "outputs": [
        {
          "output_type": "stream",
          "name": "stdout",
          "text": [
            "Downloading https://www.cs.toronto.edu/~kriz/cifar-10-python.tar.gz to ./data/cifar-10-python.tar.gz\n"
          ]
        },
        {
          "output_type": "stream",
          "name": "stderr",
          "text": [
            "100%|██████████| 170498071/170498071 [00:01<00:00, 88379702.74it/s] \n"
          ]
        },
        {
          "output_type": "stream",
          "name": "stdout",
          "text": [
            "Extracting ./data/cifar-10-python.tar.gz to ./data\n",
            "Files already downloaded and verified\n"
          ]
        }
      ]
    },
    {
      "cell_type": "markdown",
      "source": [
        "### エンコーダーとデコーダー\n",
        "\n",
        "AEでは、エンコーダーは入力を直接低次元の潜在空間にマッピングし、デコーダーはその潜在表現を使って入力データを再構成します。\n",
        "\n",
        "それに対してVAEの場合、エンコーダーは入力データから潜在空間の確率分布のパラメータ（平均と分散）を推定し、デコーダーは潜在空間からサンプリングされた値を使って入力データを再構成します。これにより、データ生成プロセスに確率論的な要素が導入されます。"
      ],
      "metadata": {
        "id": "ArFHNf7nQpdo"
      }
    },
    {
      "cell_type": "code",
      "source": [
        "# VAEの定義\n",
        "class VAE(nn.Module):\n",
        "    def __init__(self):\n",
        "        super(VAE, self).__init__()\n",
        "        # エンコーダー\n",
        "        self.conv1 = nn.Conv2d(3, 16, 3, stride=2, padding=1)\n",
        "        self.conv2 = nn.Conv2d(16, 32, 3, stride=2, padding=1)\n",
        "        self.fc1 = nn.Linear(32 * 8 * 8, 400)\n",
        "        self.fc21 = nn.Linear(400, 20)  # muを出力\n",
        "        self.fc22 = nn.Linear(400, 20)  # logvarを出力\n",
        "\n",
        "        # デコーダー\n",
        "        self.fc3 = nn.Linear(20, 400)\n",
        "        self.fc4 = nn.Linear(400, 32 * 8 * 8)\n",
        "        self.convtranspose1 = nn.ConvTranspose2d(32, 16, 4, stride=2, padding=1)\n",
        "        self.convtranspose2 = nn.ConvTranspose2d(16, 3, 4, stride=2, padding=1)\n",
        "\n",
        "    def encode(self, x):\n",
        "        x = F.relu(self.conv1(x))\n",
        "        x = F.relu(self.conv2(x))\n",
        "        x = x.view(-1, 32 * 8 * 8)\n",
        "        x = F.relu(self.fc1(x))\n",
        "        return self.fc21(x), self.fc22(x)\n",
        "\n",
        "    def reparameterize(self, mu, logvar):\n",
        "        std = torch.exp(0.5*logvar)\n",
        "        eps = torch.randn_like(std)\n",
        "        return eps.mul(std).add_(mu)\n",
        "\n",
        "    def decode(self, z):\n",
        "        x = F.relu(self.fc3(z))\n",
        "        x = F.relu(self.fc4(x))\n",
        "        x = x.view(-1, 32, 8, 8)\n",
        "        x = F.relu(self.convtranspose1(x))\n",
        "        x = torch.sigmoid(self.convtranspose2(x))\n",
        "        return x\n",
        "\n",
        "    def forward(self, x):\n",
        "        mu, logvar = self.encode(x)\n",
        "        z = self.reparameterize(mu, logvar)\n",
        "        return self.decode(z), mu, logvar\n"
      ],
      "metadata": {
        "id": "Gqi95WFQQykb"
      },
      "execution_count": 5,
      "outputs": []
    },
    {
      "cell_type": "markdown",
      "source": [
        "### 損失関数\n",
        "\n",
        "AEの損失関数は通常、再構成誤差（例：MSE）のみを考慮します。\n",
        "\n",
        "それに対してVAEでは、再構成誤差とKLダイバージェンス（エンコーダーによって推定された潜在変数の分布と事前分布との間の差異を表す）の和を損失関数として使用します。"
      ],
      "metadata": {
        "id": "tsPva9bBQ-iX"
      }
    },
    {
      "cell_type": "code",
      "source": [
        "# 損失関数\n",
        "def loss_function(recon_x, x, mu, logvar):\n",
        "    MSE = F.mse_loss(recon_x, x, reduction='sum')\n",
        "    KLD = -0.2 * torch.sum(1 + logvar - mu.pow(2) - logvar.exp())\n",
        "    return MSE + KLD"
      ],
      "metadata": {
        "id": "SNzATOtWQ6EG"
      },
      "execution_count": 6,
      "outputs": []
    },
    {
      "cell_type": "code",
      "source": [
        "# モデルのインスタンス化、最適化手法の設定\n",
        "device = \"cuda:0\"\n",
        "model = VAE().to(device)\n",
        "optimizer = torch.optim.Adam(model.parameters(), lr=1e-3)\n",
        "\n",
        "# 訓練ループ\n",
        "def train(epoch):\n",
        "    model.train()\n",
        "    train_loss = 0\n",
        "    for batch_idx, (data, _) in enumerate(trainloader):\n",
        "        optimizer.zero_grad()\n",
        "        data = data.to(device)\n",
        "        recon_batch, mu, logvar = model(data)\n",
        "        loss = loss_function(recon_batch, data, mu, logvar)\n",
        "        loss.backward()\n",
        "        train_loss += loss.item()\n",
        "        optimizer.step()\n",
        "        if batch_idx % 100 == 0:\n",
        "            print(f'Train Epoch: {epoch} [{batch_idx * len(data)}/{len(trainloader.dataset)} ({100. * batch_idx / len(trainloader):.0f}%)]\\tLoss: {loss.item() / len(data):.6f}')\n",
        "\n",
        "    print(f'====> Epoch: {epoch} Average loss: {train_loss / len(trainloader.dataset):.4f}')\n",
        "\n",
        "# 訓練の実行\n",
        "num_epochs = 10\n",
        "for epoch in range(1, num_epochs + 1):\n",
        "    train(epoch)"
      ],
      "metadata": {
        "colab": {
          "base_uri": "https://localhost:8080/"
        },
        "id": "YtYjfH-ORD78",
        "outputId": "211fb7cb-fd59-47ba-f8fe-145d17fb4af4"
      },
      "execution_count": 7,
      "outputs": [
        {
          "output_type": "stream",
          "name": "stdout",
          "text": [
            "Train Epoch: 1 [0/50000 (0%)]\tLoss: 1664.817505\n",
            "Train Epoch: 1 [6400/50000 (13%)]\tLoss: 694.230774\n",
            "Train Epoch: 1 [12800/50000 (26%)]\tLoss: 586.974426\n",
            "Train Epoch: 1 [19200/50000 (38%)]\tLoss: 629.404053\n",
            "Train Epoch: 1 [25600/50000 (51%)]\tLoss: 575.109131\n",
            "Train Epoch: 1 [32000/50000 (64%)]\tLoss: 629.353516\n",
            "Train Epoch: 1 [38400/50000 (77%)]\tLoss: 552.704102\n",
            "Train Epoch: 1 [44800/50000 (90%)]\tLoss: 552.952087\n",
            "====> Epoch: 1 Average loss: 634.0771\n",
            "Train Epoch: 2 [0/50000 (0%)]\tLoss: 617.078979\n",
            "Train Epoch: 2 [6400/50000 (13%)]\tLoss: 605.918091\n",
            "Train Epoch: 2 [12800/50000 (26%)]\tLoss: 559.636353\n",
            "Train Epoch: 2 [19200/50000 (38%)]\tLoss: 603.212891\n",
            "Train Epoch: 2 [25600/50000 (51%)]\tLoss: 550.917725\n",
            "Train Epoch: 2 [32000/50000 (64%)]\tLoss: 470.710114\n",
            "Train Epoch: 2 [38400/50000 (77%)]\tLoss: 596.798218\n",
            "Train Epoch: 2 [44800/50000 (90%)]\tLoss: 549.558716\n",
            "====> Epoch: 2 Average loss: 543.2047\n",
            "Train Epoch: 3 [0/50000 (0%)]\tLoss: 476.958893\n",
            "Train Epoch: 3 [6400/50000 (13%)]\tLoss: 588.948059\n",
            "Train Epoch: 3 [12800/50000 (26%)]\tLoss: 540.927734\n",
            "Train Epoch: 3 [19200/50000 (38%)]\tLoss: 527.414856\n",
            "Train Epoch: 3 [25600/50000 (51%)]\tLoss: 535.290710\n",
            "Train Epoch: 3 [32000/50000 (64%)]\tLoss: 482.465210\n",
            "Train Epoch: 3 [38400/50000 (77%)]\tLoss: 599.477844\n",
            "Train Epoch: 3 [44800/50000 (90%)]\tLoss: 529.434692\n",
            "====> Epoch: 3 Average loss: 532.6652\n",
            "Train Epoch: 4 [0/50000 (0%)]\tLoss: 483.654877\n",
            "Train Epoch: 4 [6400/50000 (13%)]\tLoss: 539.254578\n",
            "Train Epoch: 4 [12800/50000 (26%)]\tLoss: 602.876648\n",
            "Train Epoch: 4 [19200/50000 (38%)]\tLoss: 496.850769\n",
            "Train Epoch: 4 [25600/50000 (51%)]\tLoss: 600.514771\n",
            "Train Epoch: 4 [32000/50000 (64%)]\tLoss: 604.819397\n",
            "Train Epoch: 4 [38400/50000 (77%)]\tLoss: 568.141418\n",
            "Train Epoch: 4 [44800/50000 (90%)]\tLoss: 520.890381\n",
            "====> Epoch: 4 Average loss: 528.7142\n",
            "Train Epoch: 5 [0/50000 (0%)]\tLoss: 511.409546\n",
            "Train Epoch: 5 [6400/50000 (13%)]\tLoss: 559.271545\n",
            "Train Epoch: 5 [12800/50000 (26%)]\tLoss: 438.216278\n",
            "Train Epoch: 5 [19200/50000 (38%)]\tLoss: 494.311432\n",
            "Train Epoch: 5 [25600/50000 (51%)]\tLoss: 614.831787\n",
            "Train Epoch: 5 [32000/50000 (64%)]\tLoss: 563.001648\n",
            "Train Epoch: 5 [38400/50000 (77%)]\tLoss: 485.659027\n",
            "Train Epoch: 5 [44800/50000 (90%)]\tLoss: 484.514954\n",
            "====> Epoch: 5 Average loss: 526.3292\n",
            "Train Epoch: 6 [0/50000 (0%)]\tLoss: 512.844177\n",
            "Train Epoch: 6 [6400/50000 (13%)]\tLoss: 517.198425\n",
            "Train Epoch: 6 [12800/50000 (26%)]\tLoss: 535.448669\n",
            "Train Epoch: 6 [19200/50000 (38%)]\tLoss: 529.068542\n",
            "Train Epoch: 6 [25600/50000 (51%)]\tLoss: 502.213867\n",
            "Train Epoch: 6 [32000/50000 (64%)]\tLoss: 538.214722\n",
            "Train Epoch: 6 [38400/50000 (77%)]\tLoss: 540.317444\n",
            "Train Epoch: 6 [44800/50000 (90%)]\tLoss: 547.634888\n",
            "====> Epoch: 6 Average loss: 524.7338\n",
            "Train Epoch: 7 [0/50000 (0%)]\tLoss: 548.302856\n",
            "Train Epoch: 7 [6400/50000 (13%)]\tLoss: 588.564148\n",
            "Train Epoch: 7 [12800/50000 (26%)]\tLoss: 504.449127\n",
            "Train Epoch: 7 [19200/50000 (38%)]\tLoss: 496.318970\n",
            "Train Epoch: 7 [25600/50000 (51%)]\tLoss: 529.184021\n",
            "Train Epoch: 7 [32000/50000 (64%)]\tLoss: 486.369690\n",
            "Train Epoch: 7 [38400/50000 (77%)]\tLoss: 509.606903\n",
            "Train Epoch: 7 [44800/50000 (90%)]\tLoss: 516.064392\n",
            "====> Epoch: 7 Average loss: 523.5222\n",
            "Train Epoch: 8 [0/50000 (0%)]\tLoss: 482.397766\n",
            "Train Epoch: 8 [6400/50000 (13%)]\tLoss: 551.267395\n",
            "Train Epoch: 8 [12800/50000 (26%)]\tLoss: 511.975525\n",
            "Train Epoch: 8 [19200/50000 (38%)]\tLoss: 534.681885\n",
            "Train Epoch: 8 [25600/50000 (51%)]\tLoss: 517.739136\n",
            "Train Epoch: 8 [32000/50000 (64%)]\tLoss: 470.018066\n",
            "Train Epoch: 8 [38400/50000 (77%)]\tLoss: 563.608887\n",
            "Train Epoch: 8 [44800/50000 (90%)]\tLoss: 555.569763\n",
            "====> Epoch: 8 Average loss: 522.5715\n",
            "Train Epoch: 9 [0/50000 (0%)]\tLoss: 492.328522\n",
            "Train Epoch: 9 [6400/50000 (13%)]\tLoss: 543.809631\n",
            "Train Epoch: 9 [12800/50000 (26%)]\tLoss: 546.517334\n",
            "Train Epoch: 9 [19200/50000 (38%)]\tLoss: 486.144684\n",
            "Train Epoch: 9 [25600/50000 (51%)]\tLoss: 475.632355\n",
            "Train Epoch: 9 [32000/50000 (64%)]\tLoss: 519.577087\n",
            "Train Epoch: 9 [38400/50000 (77%)]\tLoss: 477.957336\n",
            "Train Epoch: 9 [44800/50000 (90%)]\tLoss: 528.641113\n",
            "====> Epoch: 9 Average loss: 521.7796\n",
            "Train Epoch: 10 [0/50000 (0%)]\tLoss: 494.597351\n",
            "Train Epoch: 10 [6400/50000 (13%)]\tLoss: 505.353180\n",
            "Train Epoch: 10 [12800/50000 (26%)]\tLoss: 496.867950\n",
            "Train Epoch: 10 [19200/50000 (38%)]\tLoss: 501.912628\n",
            "Train Epoch: 10 [25600/50000 (51%)]\tLoss: 516.465088\n",
            "Train Epoch: 10 [32000/50000 (64%)]\tLoss: 502.880249\n",
            "Train Epoch: 10 [38400/50000 (77%)]\tLoss: 471.800842\n",
            "Train Epoch: 10 [44800/50000 (90%)]\tLoss: 540.016541\n",
            "====> Epoch: 10 Average loss: 521.0950\n"
          ]
        }
      ]
    },
    {
      "cell_type": "code",
      "source": [
        "# 訓練が終わったら、いくつかの画像でどのように動作するかを確認\n",
        "dataiter = iter(testloader)\n",
        "images, labels = next(dataiter)\n",
        "\n",
        "output = model(images.cuda())  # CUDAを使用している場合"
      ],
      "metadata": {
        "id": "-wxeqm6Rk6sT"
      },
      "execution_count": 8,
      "outputs": []
    },
    {
      "cell_type": "code",
      "source": [
        "# 訓練が終わったら、いくつかの画像でどのように動作するかを確認\n",
        "dataiter = iter(testloader)\n",
        "images, labels = next(dataiter)\n",
        "\n",
        "output = model(images.to(device))  # CUDAを使用している場合\n",
        "images = images.numpy()\n",
        "output = output[0].detach().cpu().numpy()\n",
        "\n",
        "# 元の画像と再構成された画像を表示\n",
        "fig, axes = plt.subplots(nrows=2, ncols=5, sharex=True, sharey=True, figsize=(12,5))\n",
        "for images, row in zip([images, output], axes):\n",
        "    for img, ax in zip(images, row):\n",
        "        ax.imshow(np.transpose(img, (1, 2, 0)))\n",
        "        ax.get_xaxis().set_visible(False)\n",
        "        ax.get_yaxis().set_visible(False)"
      ],
      "metadata": {
        "colab": {
          "base_uri": "https://localhost:8080/",
          "height": 425
        },
        "id": "prBN1nWwRHqv",
        "outputId": "bd8ca05d-2dbb-430e-df4b-5fed27a4634e"
      },
      "execution_count": 18,
      "outputs": [
        {
          "output_type": "stream",
          "name": "stderr",
          "text": [
            "WARNING:matplotlib.image:Clipping input data to the valid range for imshow with RGB data ([0..1] for floats or [0..255] for integers).\n",
            "WARNING:matplotlib.image:Clipping input data to the valid range for imshow with RGB data ([0..1] for floats or [0..255] for integers).\n",
            "WARNING:matplotlib.image:Clipping input data to the valid range for imshow with RGB data ([0..1] for floats or [0..255] for integers).\n",
            "WARNING:matplotlib.image:Clipping input data to the valid range for imshow with RGB data ([0..1] for floats or [0..255] for integers).\n",
            "WARNING:matplotlib.image:Clipping input data to the valid range for imshow with RGB data ([0..1] for floats or [0..255] for integers).\n"
          ]
        },
        {
          "output_type": "display_data",
          "data": {
            "text/plain": [
              "<Figure size 1200x500 with 10 Axes>"
            ],
            "image/png": "[encoded data removed]"
          },
          "metadata": {}
        }
      ]
    },
    {
      "cell_type": "code",
      "source": [
        "def display_images_with_modification(model, dataloader, index, modification_strength=0.5):\n",
        "    # 指定されたインデックスのデータを取得\n",
        "    for i, data in enumerate(dataloader, 0):\n",
        "        images, _ = data\n",
        "        if i == index // 64:  # 64はバッチサイズ\n",
        "            # 指定されたインデックスの画像を選択\n",
        "            image = images[index % 64].unsqueeze(0)  # バッチ次元を追加\n",
        "            break\n",
        "\n",
        "    # 画像をエンコードしてzを取得し、そのままデコード\n",
        "    mu, logvar = model.encode(image.to(\"cuda:0\"))\n",
        "    z = model.reparameterize(mu, logvar)\n",
        "    reconstructed_image = model.decode(z)\n",
        "\n",
        "    # zに変更を加えてデコード\n",
        "    z_modified = z + modification_strength * torch.randn_like(z)\n",
        "    modified_image = model.decode(z_modified)\n",
        "\n",
        "    # 元の画像、再構成された画像、修正された画像を表示\n",
        "    fig, ax = plt.subplots(1, 3, figsize=(9, 3))\n",
        "    ax[0].imshow(image.detach().cpu().numpy().transpose(1, 2, 0))\n",
        "    ax[0].set_title(\"Original Image\")\n",
        "    ax[1].imshow(reconstructed_image[0].detach().cpu().numpy().transpose(1, 2, 0))\n",
        "    ax[1].set_title(\"Reconstructed Image\")\n",
        "    ax[2].imshow(modified_image[0].detach().cpu().numpy().transpose(1, 2, 0))\n",
        "    ax[2].set_title(\"Modified Image\")\n",
        "\n",
        "    for a in ax:\n",
        "        a.axis('off')\n",
        "    plt.show()\n",
        "\n",
        "# modelがVAEのインスタンス、testloaderがテストデータのDataLoader\n",
        "# 例えば、3番目の画像に対して、変更の強さを0.5として実行\n",
        "display_images_with_modification(model, testloader, 3, 0.5)\n"
      ],
      "metadata": {
        "colab": {
          "base_uri": "https://localhost:8080/",
          "height": 302
        },
        "id": "99Czx-zUi6xm",
        "outputId": "2c840f00-cf01-4f36-9787-9493d6b4b5d5"
      },
      "execution_count": 10,
      "outputs": [
        {
          "output_type": "stream",
          "name": "stderr",
          "text": [
            "WARNING:matplotlib.image:Clipping input data to the valid range for imshow with RGB data ([0..1] for floats or [0..255] for integers).\n"
          ]
        },
        {
          "output_type": "display_data",
          "data": {
            "text/plain": [
              "<Figure size 900x300 with 3 Axes>"
            ],
            "image/png": "[encoded data removed]"
          },
          "metadata": {}
        }
      ]
    },
    {
      "cell_type": "code",
      "source": [
        "# 標準正規分布からzをサンプリング\n",
        "z = torch.randn(1, 20).to(device)  # ここでの1はバッチサイズ、20はzの次元\n",
        "\n",
        "# デコーダーを使ってzから画像を生成\n",
        "generated_image = model.decode(z)\n",
        "\n",
        "# 生成した画像を確認\n",
        "plt.imshow(generated_image.detach().cpu().numpy()[0].transpose(1, 2, 0))\n",
        "plt.show()"
      ],
      "metadata": {
        "colab": {
          "base_uri": "https://localhost:8080/",
          "height": 430
        },
        "id": "GtD-JLPShrQL",
        "outputId": "0d7c1d3f-1c78-42d9-8c9b-9d56b51882ee"
      },
      "execution_count": 17,
      "outputs": [
        {
          "output_type": "display_data",
          "data": {
            "text/plain": [
              "<Figure size 640x480 with 1 Axes>"
            ],
            "image/png": "[encoded data removed]"
          },
          "metadata": {}
        }
      ]
    }
  ]
}