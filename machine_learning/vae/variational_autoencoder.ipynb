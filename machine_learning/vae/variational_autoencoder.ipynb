{
  "nbformat": 4,
  "nbformat_minor": 0,
  "metadata": {
    "colab": {
      "provenance": [],
      "gpuType": "T4",
      "authorship_tag": "ABX9TyNLOt/cCLy6hYTho8cgXnUv",
      "include_colab_link": true
    },
    "kernelspec": {
      "name": "python3",
      "display_name": "Python 3"
    },
    "language_info": {
      "name": "python"
    },
    "accelerator": "GPU"
  },
  "cells": [
    {
      "cell_type": "markdown",
      "metadata": {
        "id": "view-in-github",
        "colab_type": "text"
      },
      "source": [
        "<a href=\"https://colab.research.google.com/github/shizoda/education/blob/main/machine_learning/vae/variational_autoencoder.ipynb\" target=\"_parent\"><img src=\"https://colab.research.google.com/assets/colab-badge.svg\" alt=\"Open In Colab\"/></a>"
      ]
    },
    {
      "cell_type": "markdown",
      "source": [
        "# Variational Autoencoder (VAE)\n",
        "\n",
        "基本の Autoencoder (AE) が分かったところで、VAE について見ていきましょう。"
      ],
      "metadata": {
        "id": "-cAgXJGlQBWL"
      }
    },
    {
      "cell_type": "code",
      "execution_count": 1,
      "metadata": {
        "id": "b7ZX_-YFPoio"
      },
      "outputs": [],
      "source": [
        "import torch\n",
        "import torchvision\n",
        "import torchvision.transforms as transforms\n",
        "import torch.nn.functional as F\n",
        "from torch import nn\n",
        "import matplotlib.pyplot as plt\n",
        "import numpy as np"
      ]
    },
    {
      "cell_type": "code",
      "source": [
        "# データセットの変換処理\n",
        "transform = transforms.Compose([\n",
        "    transforms.ToTensor(),\n",
        "    transforms.Normalize((0.5, 0.5, 0.5), (0.5, 0.5, 0.5))\n",
        "])\n",
        "\n",
        "# CIFAR-10のトレーニングデータセット\n",
        "trainset = torchvision.datasets.CIFAR10(root='./data', train=True,\n",
        "                                        download=True, transform=transform)\n",
        "trainloader = torch.utils.data.DataLoader(trainset, batch_size=64,\n",
        "                                          shuffle=True, num_workers=2)\n",
        "\n",
        "# CIFAR-10のテストデータセット\n",
        "testset = torchvision.datasets.CIFAR10(root='./data', train=False,\n",
        "                                       download=True, transform=transform)\n",
        "testloader = torch.utils.data.DataLoader(testset, batch_size=64,\n",
        "                                         shuffle=False, num_workers=2)"
      ],
      "metadata": {
        "colab": {
          "base_uri": "https://localhost:8080/"
        },
        "id": "YrAnXwo2QA2c",
        "outputId": "525eae87-3f4a-4d09-cac4-f7917b44022f"
      },
      "execution_count": 2,
      "outputs": [
        {
          "output_type": "stream",
          "name": "stdout",
          "text": [
            "Downloading https://www.cs.toronto.edu/~kriz/cifar-10-python.tar.gz to ./data/cifar-10-python.tar.gz\n"
          ]
        },
        {
          "output_type": "stream",
          "name": "stderr",
          "text": [
            "100%|██████████| 170498071/170498071 [00:02<00:00, 76341050.15it/s]\n"
          ]
        },
        {
          "output_type": "stream",
          "name": "stdout",
          "text": [
            "Extracting ./data/cifar-10-python.tar.gz to ./data\n",
            "Files already downloaded and verified\n"
          ]
        }
      ]
    },
    {
      "cell_type": "markdown",
      "source": [
        "### エンコーダーとデコーダー\n",
        "\n",
        "AEでは、エンコーダーは入力を直接低次元の潜在空間にマッピングし、デコーダーはその潜在表現を使って入力データを再構成します。\n",
        "\n",
        "それに対してVAEの場合、エンコーダーは入力データから潜在空間の確率分布のパラメータ（平均と分散）を推定し、デコーダーは潜在空間からサンプリングされた値を使って入力データを再構成します。これにより、データ生成プロセスに確率論的な要素が導入されます。"
      ],
      "metadata": {
        "id": "ArFHNf7nQpdo"
      }
    },
    {
      "cell_type": "code",
      "source": [
        "# VAEの定義\n",
        "class VAE(nn.Module):\n",
        "    def __init__(self):\n",
        "        super(VAE, self).__init__()\n",
        "        # エンコーダー\n",
        "        self.conv1 = nn.Conv2d(3, 16, 3, stride=2, padding=1)\n",
        "        self.conv2 = nn.Conv2d(16, 32, 3, stride=2, padding=1)\n",
        "        self.fc1 = nn.Linear(32 * 8 * 8, 400)\n",
        "        self.fc21 = nn.Linear(400, 20)  # muを出力\n",
        "        self.fc22 = nn.Linear(400, 20)  # logvarを出力\n",
        "\n",
        "        # デコーダー\n",
        "        self.fc3 = nn.Linear(20, 400)\n",
        "        self.fc4 = nn.Linear(400, 32 * 8 * 8)\n",
        "        self.convtranspose1 = nn.ConvTranspose2d(32, 16, 4, stride=2, padding=1)\n",
        "        self.convtranspose2 = nn.ConvTranspose2d(16, 3, 4, stride=2, padding=1)\n",
        "\n",
        "    def encode(self, x):\n",
        "        x = F.relu(self.conv1(x))\n",
        "        x = F.relu(self.conv2(x))\n",
        "        x = x.view(-1, 32 * 8 * 8)\n",
        "        x = F.relu(self.fc1(x))\n",
        "        return self.fc21(x), self.fc22(x)\n",
        "\n",
        "    def reparameterize(self, mu, logvar):\n",
        "        std = torch.exp(0.5*logvar)\n",
        "        eps = torch.randn_like(std)\n",
        "        return eps.mul(std).add_(mu)\n",
        "\n",
        "    def decode(self, z):\n",
        "        x = F.relu(self.fc3(z))\n",
        "        x = F.relu(self.fc4(x))\n",
        "        x = x.view(-1, 32, 8, 8)\n",
        "        x = F.relu(self.convtranspose1(x))\n",
        "        x = torch.sigmoid(self.convtranspose2(x))\n",
        "        return x\n",
        "\n",
        "    def forward(self, x):\n",
        "        mu, logvar = self.encode(x)\n",
        "        z = self.reparameterize(mu, logvar)\n",
        "        return self.decode(z), mu, logvar\n"
      ],
      "metadata": {
        "id": "Gqi95WFQQykb"
      },
      "execution_count": 3,
      "outputs": []
    },
    {
      "cell_type": "markdown",
      "source": [
        "### 損失関数\n",
        "\n",
        "AEの損失関数は通常、再構成誤差（例：MSE）のみを考慮します。\n",
        "\n",
        "それに対してVAEでは、再構成誤差とKLダイバージェンス（エンコーダーによって推定された潜在変数の分布と事前分布との間の差異を表す）の和を損失関数として使用します。"
      ],
      "metadata": {
        "id": "tsPva9bBQ-iX"
      }
    },
    {
      "cell_type": "code",
      "source": [
        "# 損失関数\n",
        "def loss_function(recon_x, x, mu, logvar):\n",
        "    MSE = F.mse_loss(recon_x, x, reduction='sum')\n",
        "    KLD = -0.5 * torch.sum(1 + logvar - mu.pow(2) - logvar.exp())\n",
        "    return MSE + KLD"
      ],
      "metadata": {
        "id": "SNzATOtWQ6EG"
      },
      "execution_count": 4,
      "outputs": []
    },
    {
      "cell_type": "code",
      "source": [
        "# モデルのインスタンス化、最適化手法の設定\n",
        "model = VAE().to(\"cuda:0\")\n",
        "optimizer = torch.optim.Adam(model.parameters(), lr=1e-3)\n",
        "\n",
        "# 訓練ループ\n",
        "def train(epoch):\n",
        "    model.train()\n",
        "    train_loss = 0\n",
        "    for batch_idx, (data, _) in enumerate(trainloader):\n",
        "        optimizer.zero_grad()\n",
        "        data = data.to(\"cuda:0\")\n",
        "        recon_batch, mu, logvar = model(data)\n",
        "        loss = loss_function(recon_batch, data, mu, logvar)\n",
        "        loss.backward()\n",
        "        train_loss += loss.item()\n",
        "        optimizer.step()\n",
        "        if batch_idx % 100 == 0:\n",
        "            print(f'Train Epoch: {epoch} [{batch_idx * len(data)}/{len(trainloader.dataset)} ({100. * batch_idx / len(trainloader):.0f}%)]\\tLoss: {loss.item() / len(data):.6f}')\n",
        "\n",
        "    print(f'====> Epoch: {epoch} Average loss: {train_loss / len(trainloader.dataset):.4f}')\n",
        "\n",
        "# 訓練の実行\n",
        "num_epochs = 10\n",
        "for epoch in range(1, num_epochs + 1):\n",
        "    train(epoch)"
      ],
      "metadata": {
        "colab": {
          "base_uri": "https://localhost:8080/"
        },
        "id": "YtYjfH-ORD78",
        "outputId": "6a0cf353-40f0-468d-e565-9909f001a35e"
      },
      "execution_count": 11,
      "outputs": [
        {
          "output_type": "stream",
          "name": "stdout",
          "text": [
            "Train Epoch: 1 [0/50000 (0%)]\tLoss: 1684.742676\n",
            "Train Epoch: 1 [6400/50000 (13%)]\tLoss: 683.508850\n",
            "Train Epoch: 1 [12800/50000 (26%)]\tLoss: 682.225708\n",
            "Train Epoch: 1 [19200/50000 (38%)]\tLoss: 622.484253\n",
            "Train Epoch: 1 [25600/50000 (51%)]\tLoss: 684.630249\n",
            "Train Epoch: 1 [32000/50000 (64%)]\tLoss: 571.952942\n",
            "Train Epoch: 1 [38400/50000 (77%)]\tLoss: 652.044495\n",
            "Train Epoch: 1 [44800/50000 (90%)]\tLoss: 585.006165\n",
            "====> Epoch: 1 Average loss: 666.8191\n",
            "Train Epoch: 2 [0/50000 (0%)]\tLoss: 548.071655\n",
            "Train Epoch: 2 [6400/50000 (13%)]\tLoss: 589.804443\n",
            "Train Epoch: 2 [12800/50000 (26%)]\tLoss: 507.498108\n",
            "Train Epoch: 2 [19200/50000 (38%)]\tLoss: 611.091064\n",
            "Train Epoch: 2 [25600/50000 (51%)]\tLoss: 560.356689\n",
            "Train Epoch: 2 [32000/50000 (64%)]\tLoss: 559.680969\n",
            "Train Epoch: 2 [38400/50000 (77%)]\tLoss: 614.783813\n",
            "Train Epoch: 2 [44800/50000 (90%)]\tLoss: 537.753052\n",
            "====> Epoch: 2 Average loss: 573.7426\n",
            "Train Epoch: 3 [0/50000 (0%)]\tLoss: 524.134460\n",
            "Train Epoch: 3 [6400/50000 (13%)]\tLoss: 667.841980\n",
            "Train Epoch: 3 [12800/50000 (26%)]\tLoss: 526.210815\n",
            "Train Epoch: 3 [19200/50000 (38%)]\tLoss: 537.686829\n",
            "Train Epoch: 3 [25600/50000 (51%)]\tLoss: 558.766724\n",
            "Train Epoch: 3 [32000/50000 (64%)]\tLoss: 567.459656\n",
            "Train Epoch: 3 [38400/50000 (77%)]\tLoss: 555.984375\n",
            "Train Epoch: 3 [44800/50000 (90%)]\tLoss: 540.143066\n",
            "====> Epoch: 3 Average loss: 556.6331\n",
            "Train Epoch: 4 [0/50000 (0%)]\tLoss: 515.755676\n",
            "Train Epoch: 4 [6400/50000 (13%)]\tLoss: 613.746094\n",
            "Train Epoch: 4 [12800/50000 (26%)]\tLoss: 552.281860\n",
            "Train Epoch: 4 [19200/50000 (38%)]\tLoss: 549.772522\n",
            "Train Epoch: 4 [25600/50000 (51%)]\tLoss: 550.230469\n",
            "Train Epoch: 4 [32000/50000 (64%)]\tLoss: 476.027588\n",
            "Train Epoch: 4 [38400/50000 (77%)]\tLoss: 481.781281\n",
            "Train Epoch: 4 [44800/50000 (90%)]\tLoss: 510.921021\n",
            "====> Epoch: 4 Average loss: 552.5733\n",
            "Train Epoch: 5 [0/50000 (0%)]\tLoss: 589.578430\n",
            "Train Epoch: 5 [6400/50000 (13%)]\tLoss: 569.281799\n",
            "Train Epoch: 5 [12800/50000 (26%)]\tLoss: 542.521179\n",
            "Train Epoch: 5 [19200/50000 (38%)]\tLoss: 496.915894\n",
            "Train Epoch: 5 [25600/50000 (51%)]\tLoss: 539.839722\n",
            "Train Epoch: 5 [32000/50000 (64%)]\tLoss: 541.143921\n",
            "Train Epoch: 5 [38400/50000 (77%)]\tLoss: 571.560913\n",
            "Train Epoch: 5 [44800/50000 (90%)]\tLoss: 611.520020\n",
            "====> Epoch: 5 Average loss: 549.8078\n",
            "Train Epoch: 6 [0/50000 (0%)]\tLoss: 475.416199\n",
            "Train Epoch: 6 [6400/50000 (13%)]\tLoss: 551.225037\n",
            "Train Epoch: 6 [12800/50000 (26%)]\tLoss: 542.389160\n",
            "Train Epoch: 6 [19200/50000 (38%)]\tLoss: 569.105408\n",
            "Train Epoch: 6 [25600/50000 (51%)]\tLoss: 573.012939\n",
            "Train Epoch: 6 [32000/50000 (64%)]\tLoss: 577.027466\n",
            "Train Epoch: 6 [38400/50000 (77%)]\tLoss: 544.502869\n",
            "Train Epoch: 6 [44800/50000 (90%)]\tLoss: 573.009155\n",
            "====> Epoch: 6 Average loss: 547.8041\n",
            "Train Epoch: 7 [0/50000 (0%)]\tLoss: 515.445007\n",
            "Train Epoch: 7 [6400/50000 (13%)]\tLoss: 555.368958\n",
            "Train Epoch: 7 [12800/50000 (26%)]\tLoss: 532.552612\n",
            "Train Epoch: 7 [19200/50000 (38%)]\tLoss: 492.432220\n",
            "Train Epoch: 7 [25600/50000 (51%)]\tLoss: 528.658997\n",
            "Train Epoch: 7 [32000/50000 (64%)]\tLoss: 562.524109\n",
            "Train Epoch: 7 [38400/50000 (77%)]\tLoss: 553.309814\n",
            "Train Epoch: 7 [44800/50000 (90%)]\tLoss: 583.455322\n",
            "====> Epoch: 7 Average loss: 546.5046\n",
            "Train Epoch: 8 [0/50000 (0%)]\tLoss: 517.317993\n",
            "Train Epoch: 8 [6400/50000 (13%)]\tLoss: 498.319061\n",
            "Train Epoch: 8 [12800/50000 (26%)]\tLoss: 528.862793\n",
            "Train Epoch: 8 [19200/50000 (38%)]\tLoss: 585.788513\n",
            "Train Epoch: 8 [25600/50000 (51%)]\tLoss: 533.636658\n",
            "Train Epoch: 8 [32000/50000 (64%)]\tLoss: 586.017883\n",
            "Train Epoch: 8 [38400/50000 (77%)]\tLoss: 541.473694\n",
            "Train Epoch: 8 [44800/50000 (90%)]\tLoss: 481.795197\n",
            "====> Epoch: 8 Average loss: 545.4353\n",
            "Train Epoch: 9 [0/50000 (0%)]\tLoss: 569.243408\n",
            "Train Epoch: 9 [6400/50000 (13%)]\tLoss: 523.467896\n",
            "Train Epoch: 9 [12800/50000 (26%)]\tLoss: 577.021179\n",
            "Train Epoch: 9 [19200/50000 (38%)]\tLoss: 503.688477\n",
            "Train Epoch: 9 [25600/50000 (51%)]\tLoss: 563.801208\n",
            "Train Epoch: 9 [32000/50000 (64%)]\tLoss: 564.971924\n",
            "Train Epoch: 9 [38400/50000 (77%)]\tLoss: 531.447205\n",
            "Train Epoch: 9 [44800/50000 (90%)]\tLoss: 545.382263\n",
            "====> Epoch: 9 Average loss: 544.7366\n",
            "Train Epoch: 10 [0/50000 (0%)]\tLoss: 537.493835\n",
            "Train Epoch: 10 [6400/50000 (13%)]\tLoss: 462.640381\n",
            "Train Epoch: 10 [12800/50000 (26%)]\tLoss: 561.822083\n",
            "Train Epoch: 10 [19200/50000 (38%)]\tLoss: 508.462616\n",
            "Train Epoch: 10 [25600/50000 (51%)]\tLoss: 544.621277\n",
            "Train Epoch: 10 [32000/50000 (64%)]\tLoss: 514.981934\n",
            "Train Epoch: 10 [38400/50000 (77%)]\tLoss: 546.528870\n",
            "Train Epoch: 10 [44800/50000 (90%)]\tLoss: 596.825195\n",
            "====> Epoch: 10 Average loss: 543.9012\n"
          ]
        }
      ]
    },
    {
      "cell_type": "code",
      "source": [
        "# 訓練が終わったら、いくつかの画像でどのように動作するかを確認\n",
        "dataiter = iter(testloader)\n",
        "images, labels = next(dataiter)\n",
        "\n",
        "output = model(images.cuda())  # CUDAを使用している場合"
      ],
      "metadata": {
        "id": "-wxeqm6Rk6sT",
        "outputId": "7fb29a1d-84be-4fcd-e64b-c5a70156372c",
        "colab": {
          "base_uri": "https://localhost:8080/"
        }
      },
      "execution_count": 16,
      "outputs": [
        {
          "output_type": "execute_result",
          "data": {
            "text/plain": [
              "tensor([[[[5.0585e-04, 4.0338e-05, 5.5028e-05,  ..., 2.4921e-16,\n",
              "           3.0536e-17, 1.0068e-13],\n",
              "          [8.9867e-05, 1.2356e-05, 3.9283e-05,  ..., 3.2597e-19,\n",
              "           5.9672e-19, 1.1356e-14],\n",
              "          [2.5721e-04, 3.7724e-05, 9.8280e-05,  ..., 1.2815e-18,\n",
              "           6.3119e-20, 1.0680e-15],\n",
              "          ...,\n",
              "          [1.2486e-04, 1.5809e-05, 3.9980e-05,  ..., 6.7873e-17,\n",
              "           1.7493e-16, 5.1636e-13],\n",
              "          [1.7116e-04, 3.3905e-06, 6.5252e-07,  ..., 6.3855e-15,\n",
              "           3.4266e-15, 2.8685e-12],\n",
              "          [1.9485e-03, 4.3033e-05, 3.5252e-06,  ..., 4.3158e-10,\n",
              "           1.9070e-11, 3.4274e-09]],\n",
              "\n",
              "         [[7.9990e-03, 6.6174e-04, 8.5418e-05,  ..., 4.9568e-10,\n",
              "           8.6779e-13, 4.5553e-11],\n",
              "          [6.6988e-04, 1.1292e-04, 8.7991e-05,  ..., 6.3044e-14,\n",
              "           4.5000e-14, 2.6781e-11],\n",
              "          [5.4083e-05, 9.7389e-06, 1.2747e-04,  ..., 4.5648e-19,\n",
              "           2.3503e-14, 9.5659e-10],\n",
              "          ...,\n",
              "          [3.3523e-04, 5.8094e-05, 4.5175e-05,  ..., 6.5499e-13,\n",
              "           1.7693e-13, 4.0220e-11],\n",
              "          [1.6934e-05, 1.6288e-06, 1.3068e-05,  ..., 1.1693e-15,\n",
              "           9.3182e-12, 2.6621e-08],\n",
              "          [3.4612e-04, 2.8377e-05, 5.2783e-05,  ..., 5.4664e-11,\n",
              "           8.1749e-09, 1.3568e-05]],\n",
              "\n",
              "         [[2.8338e-03, 2.6921e-04, 1.4449e-04,  ..., 1.6675e-09,\n",
              "           6.6867e-10, 2.1970e-07],\n",
              "          [2.8078e-04, 3.8970e-05, 3.2384e-05,  ..., 1.0445e-13,\n",
              "           1.9769e-13, 1.5003e-10],\n",
              "          [8.1702e-05, 6.5870e-06, 1.3741e-05,  ..., 5.0831e-18,\n",
              "           4.0042e-16, 2.5120e-12],\n",
              "          ...,\n",
              "          [2.2808e-05, 1.4115e-06, 6.6368e-07,  ..., 2.3816e-13,\n",
              "           8.1531e-13, 4.8938e-10],\n",
              "          [5.3162e-06, 1.5096e-07, 1.3838e-07,  ..., 9.2238e-15,\n",
              "           1.8105e-12, 1.7389e-09],\n",
              "          [3.1183e-05, 6.2605e-07, 7.3364e-07,  ..., 1.2032e-12,\n",
              "           4.4386e-10, 2.2210e-07]]],\n",
              "\n",
              "\n",
              "        [[[6.9827e-01, 7.2461e-01, 7.0937e-01,  ..., 8.0822e-01,\n",
              "           8.0450e-01, 7.1319e-01],\n",
              "          [7.3217e-01, 7.6106e-01, 7.4635e-01,  ..., 8.2277e-01,\n",
              "           8.2550e-01, 8.0430e-01],\n",
              "          [7.4392e-01, 7.6091e-01, 7.5904e-01,  ..., 8.1300e-01,\n",
              "           8.1721e-01, 8.0525e-01],\n",
              "          ...,\n",
              "          [4.8150e-09, 4.6410e-14, 3.2301e-17,  ..., 2.2771e-01,\n",
              "           2.2592e-01, 1.9435e-01],\n",
              "          [4.7554e-07, 5.2867e-11, 5.2766e-14,  ..., 1.7113e-01,\n",
              "           1.5275e-01, 1.4741e-01],\n",
              "          [1.5916e-04, 2.8574e-07, 1.0759e-09,  ..., 1.5763e-01,\n",
              "           1.3534e-01, 1.7915e-01]],\n",
              "\n",
              "         [[7.4528e-01, 8.1253e-01, 8.0830e-01,  ..., 8.5217e-01,\n",
              "           8.5291e-01, 7.6734e-01],\n",
              "          [8.0190e-01, 8.4747e-01, 8.3817e-01,  ..., 8.7185e-01,\n",
              "           8.7650e-01, 8.3947e-01],\n",
              "          [8.1213e-01, 8.4020e-01, 8.5206e-01,  ..., 8.5944e-01,\n",
              "           8.6939e-01, 8.3379e-01],\n",
              "          ...,\n",
              "          [3.7703e-06, 1.1519e-09, 6.4432e-13,  ..., 2.6249e-01,\n",
              "           2.6219e-01, 2.1803e-01],\n",
              "          [1.1398e-07, 5.6133e-10, 1.1427e-09,  ..., 1.9100e-01,\n",
              "           1.8801e-01, 1.9900e-01],\n",
              "          [2.4346e-05, 7.0816e-07, 1.2331e-06,  ..., 1.7962e-01,\n",
              "           1.7307e-01, 2.1424e-01]],\n",
              "\n",
              "         [[7.9359e-01, 8.6744e-01, 8.6949e-01,  ..., 8.8735e-01,\n",
              "           8.8904e-01, 8.0946e-01],\n",
              "          [8.6699e-01, 9.0964e-01, 9.0696e-01,  ..., 9.1500e-01,\n",
              "           9.1472e-01, 8.7382e-01],\n",
              "          [8.7147e-01, 9.0741e-01, 9.1133e-01,  ..., 8.9948e-01,\n",
              "           9.1011e-01, 8.6845e-01],\n",
              "          ...,\n",
              "          [6.1680e-06, 6.2306e-09, 2.7988e-11,  ..., 2.1314e-01,\n",
              "           2.0864e-01, 1.7701e-01],\n",
              "          [2.1209e-06, 4.4709e-09, 3.8214e-10,  ..., 1.6905e-01,\n",
              "           1.5776e-01, 1.4199e-01],\n",
              "          [1.6279e-05, 2.0937e-07, 1.2878e-07,  ..., 1.4114e-01,\n",
              "           1.4114e-01, 1.5392e-01]]],\n",
              "\n",
              "\n",
              "        [[[6.2251e-01, 5.4776e-01, 5.0800e-01,  ..., 7.8961e-01,\n",
              "           7.8870e-01, 7.0007e-01],\n",
              "          [5.2716e-01, 4.9028e-01, 4.9330e-01,  ..., 7.9757e-01,\n",
              "           7.9256e-01, 7.7506e-01],\n",
              "          [4.7081e-01, 4.5697e-01, 4.8820e-01,  ..., 7.8028e-01,\n",
              "           7.7502e-01, 7.6426e-01],\n",
              "          ...,\n",
              "          [2.3414e-08, 1.8291e-12, 8.8930e-15,  ..., 1.3514e-15,\n",
              "           1.7256e-14, 5.5184e-11],\n",
              "          [8.9938e-07, 1.6736e-10, 1.5113e-13,  ..., 3.1790e-12,\n",
              "           3.4810e-12, 1.2230e-09],\n",
              "          [1.7229e-04, 2.5883e-07, 6.2387e-10,  ..., 7.5563e-08,\n",
              "           8.6353e-09, 5.0237e-07]],\n",
              "\n",
              "         [[6.9408e-01, 6.9735e-01, 6.7473e-01,  ..., 8.4717e-01,\n",
              "           8.4894e-01, 7.6668e-01],\n",
              "          [6.6438e-01, 6.7178e-01, 6.6460e-01,  ..., 8.5886e-01,\n",
              "           8.6043e-01, 8.2324e-01],\n",
              "          [6.1646e-01, 6.2104e-01, 6.6187e-01,  ..., 8.4301e-01,\n",
              "           8.4892e-01, 8.1002e-01],\n",
              "          ...,\n",
              "          [9.0517e-06, 1.0760e-08, 3.2289e-11,  ..., 1.3973e-10,\n",
              "           9.2406e-11, 1.0186e-08],\n",
              "          [2.0337e-07, 1.4095e-09, 3.3304e-09,  ..., 4.7203e-12,\n",
              "           6.0621e-09, 2.9363e-06],\n",
              "          [2.7937e-05, 7.9298e-07, 1.0948e-06,  ..., 3.1539e-08,\n",
              "           1.4145e-06, 3.8206e-04]],\n",
              "\n",
              "         [[7.7250e-01, 7.9770e-01, 7.8188e-01,  ..., 8.8727e-01,\n",
              "           8.9054e-01, 8.1540e-01],\n",
              "          [7.8740e-01, 8.1252e-01, 8.0262e-01,  ..., 9.1169e-01,\n",
              "           9.1272e-01, 8.7103e-01],\n",
              "          [7.3511e-01, 7.6824e-01, 7.7628e-01,  ..., 8.9393e-01,\n",
              "           9.0353e-01, 8.5946e-01],\n",
              "          ...,\n",
              "          [1.8050e-05, 5.4007e-08, 7.9575e-10,  ..., 1.8227e-09,\n",
              "           5.8651e-09, 6.1164e-07],\n",
              "          [3.4392e-06, 1.1561e-08, 1.4400e-09,  ..., 2.8516e-10,\n",
              "           1.2498e-08, 1.7474e-06],\n",
              "          [1.8300e-05, 2.5308e-07, 1.4824e-07,  ..., 1.2750e-08,\n",
              "           8.2848e-07, 6.1054e-05]]],\n",
              "\n",
              "\n",
              "        ...,\n",
              "\n",
              "\n",
              "        [[[8.0913e-10, 6.5199e-14, 1.7631e-15,  ..., 3.7915e-04,\n",
              "           4.3954e-05, 1.0734e-04],\n",
              "          [2.3787e-12, 1.5761e-16, 3.0009e-17,  ..., 8.4175e-05,\n",
              "           1.9989e-05, 6.2983e-05],\n",
              "          [2.5126e-12, 2.2068e-17, 2.0822e-19,  ..., 5.0927e-05,\n",
              "           9.5818e-06, 4.6639e-05],\n",
              "          ...,\n",
              "          [1.6397e-06, 1.2675e-07, 8.3152e-07,  ..., 4.5005e-01,\n",
              "           3.8888e-01, 3.2232e-01],\n",
              "          [1.1170e-05, 4.4534e-07, 1.0833e-06,  ..., 4.3352e-01,\n",
              "           3.6260e-01, 3.0789e-01],\n",
              "          [4.9667e-04, 3.8979e-05, 1.9363e-05,  ..., 3.6613e-01,\n",
              "           3.1582e-01, 2.9166e-01]],\n",
              "\n",
              "         [[9.1244e-06, 1.9361e-09, 2.5759e-13,  ..., 3.6222e-04,\n",
              "           2.8976e-05, 1.1004e-04],\n",
              "          [6.7662e-10, 2.9790e-13, 1.2990e-14,  ..., 3.9501e-05,\n",
              "           1.5642e-05, 5.9689e-05],\n",
              "          [5.2617e-15, 1.0010e-18, 1.5753e-15,  ..., 3.9219e-06,\n",
              "           1.5167e-05, 1.8419e-04],\n",
              "          ...,\n",
              "          [5.1378e-06, 1.3767e-07, 2.5566e-08,  ..., 2.8900e-01,\n",
              "           2.3054e-01, 1.8051e-01],\n",
              "          [3.3019e-07, 1.9875e-08, 5.2238e-07,  ..., 2.6883e-01,\n",
              "           2.0321e-01, 1.7119e-01],\n",
              "          [3.1972e-05, 2.5555e-06, 1.3876e-05,  ..., 2.0923e-01,\n",
              "           1.8407e-01, 1.7601e-01]],\n",
              "\n",
              "         [[2.6491e-06, 2.9831e-09, 1.2428e-10,  ..., 1.1724e-05,\n",
              "           7.0600e-06, 1.5747e-04],\n",
              "          [8.2183e-10, 5.2219e-13, 3.1939e-14,  ..., 1.5426e-07,\n",
              "           1.4290e-07, 3.5321e-06],\n",
              "          [6.1594e-13, 1.1870e-17, 1.0511e-17,  ..., 3.2901e-09,\n",
              "           9.9918e-09, 3.5226e-07],\n",
              "          ...,\n",
              "          [2.4404e-08, 1.0127e-10, 1.2777e-11,  ..., 2.8312e-02,\n",
              "           2.5451e-02, 3.1634e-02],\n",
              "          [1.4265e-08, 7.4987e-11, 1.0681e-10,  ..., 1.9529e-02,\n",
              "           1.8112e-02, 2.0981e-02],\n",
              "          [4.3097e-07, 2.5138e-09, 9.7532e-09,  ..., 1.9552e-02,\n",
              "           2.1887e-02, 2.8397e-02]]],\n",
              "\n",
              "\n",
              "        [[[6.8284e-16, 3.1574e-25, 1.8873e-32,  ..., 1.9602e-29,\n",
              "           2.4320e-30, 1.5081e-23],\n",
              "          [1.6610e-19, 2.1001e-29, 2.6928e-35,  ..., 4.9209e-34,\n",
              "           1.0978e-32, 1.5629e-24],\n",
              "          [3.5446e-18, 1.1782e-28, 3.8820e-37,  ..., 5.0546e-31,\n",
              "           9.1577e-32, 1.7105e-24],\n",
              "          ...,\n",
              "          [1.8121e-19, 7.2557e-30, 2.4517e-35,  ..., 7.3888e-30,\n",
              "           3.4949e-28, 2.4943e-21],\n",
              "          [1.2127e-14, 2.4274e-23, 1.3368e-29,  ..., 2.5271e-23,\n",
              "           2.1761e-23, 2.4164e-18],\n",
              "          [1.0319e-08, 4.8713e-15, 2.0229e-20,  ..., 1.6269e-14,\n",
              "           1.8466e-16, 4.7224e-13]],\n",
              "\n",
              "         [[2.3227e-08, 7.7515e-16, 3.1448e-25,  ..., 1.3036e-16,\n",
              "           3.5468e-21, 3.3107e-18],\n",
              "          [4.5437e-14, 8.7691e-21, 1.0006e-25,  ..., 8.8695e-23,\n",
              "           1.2803e-22, 1.2061e-17],\n",
              "          [4.4421e-21, 1.7796e-27, 2.7741e-24,  ..., 1.0467e-30,\n",
              "           9.2700e-22, 4.0976e-14],\n",
              "          ...,\n",
              "          [6.7433e-13, 4.7611e-20, 4.4967e-26,  ..., 3.5666e-20,\n",
              "           6.1366e-21, 6.8310e-17],\n",
              "          [9.1501e-17, 7.9121e-22, 4.4337e-20,  ..., 2.5926e-23,\n",
              "           4.9677e-17, 1.3551e-11],\n",
              "          [4.2695e-11, 1.4814e-14, 1.3209e-13,  ..., 1.5318e-15,\n",
              "           4.1901e-12, 3.2982e-07]],\n",
              "\n",
              "         [[2.0292e-08, 1.7722e-13, 1.2719e-16,  ..., 6.1013e-14,\n",
              "           2.1759e-14, 1.8354e-10],\n",
              "          [2.4681e-12, 1.2116e-17, 5.9007e-21,  ..., 8.4698e-20,\n",
              "           4.2060e-19, 1.6255e-14],\n",
              "          [9.1048e-16, 2.8378e-22, 9.5670e-24,  ..., 2.7061e-25,\n",
              "           9.6900e-22, 4.4517e-16],\n",
              "          ...,\n",
              "          [5.9584e-13, 3.5263e-19, 2.6407e-23,  ..., 1.4519e-18,\n",
              "           1.0114e-17, 1.5686e-13],\n",
              "          [3.0134e-14, 2.5588e-20, 1.3446e-21,  ..., 4.0759e-20,\n",
              "           1.0134e-16, 2.9494e-12],\n",
              "          [4.9858e-12, 1.7758e-16, 1.9735e-16,  ..., 1.0507e-16,\n",
              "           6.6500e-13, 4.7180e-09]]],\n",
              "\n",
              "\n",
              "        [[[5.1430e-01, 5.6916e-01, 6.6714e-01,  ..., 2.0122e-03,\n",
              "           7.5682e-05, 1.3793e-04],\n",
              "          [4.5356e-01, 5.1690e-01, 6.6416e-01,  ..., 6.7640e-04,\n",
              "           3.8080e-05, 9.4630e-05],\n",
              "          [3.8500e-01, 4.1479e-01, 5.8225e-01,  ..., 5.6723e-04,\n",
              "           1.4166e-05, 4.5522e-05],\n",
              "          ...,\n",
              "          [1.8712e-01, 2.4706e-01, 3.3012e-01,  ..., 8.8275e-26,\n",
              "           4.3389e-25, 2.1546e-19],\n",
              "          [1.6015e-01, 1.8242e-01, 2.1627e-01,  ..., 1.6922e-20,\n",
              "           8.3174e-21, 1.7618e-16],\n",
              "          [1.4325e-01, 1.5649e-01, 1.7055e-01,  ..., 7.7173e-13,\n",
              "           1.2668e-14, 1.3069e-11]],\n",
              "\n",
              "         [[4.0945e-01, 4.6483e-01, 6.0247e-01,  ..., 3.1423e-03,\n",
              "           1.1213e-04, 2.5880e-04],\n",
              "          [3.2309e-01, 3.6534e-01, 5.4304e-01,  ..., 6.1920e-04,\n",
              "           6.7249e-05, 1.6390e-04],\n",
              "          [2.2606e-01, 2.3042e-01, 4.0987e-01,  ..., 1.4266e-04,\n",
              "           6.0766e-05, 4.1520e-04],\n",
              "          ...,\n",
              "          [7.4196e-02, 7.1368e-02, 1.1901e-01,  ..., 1.7488e-19,\n",
              "           6.2937e-21, 3.9706e-17],\n",
              "          [5.0170e-02, 4.6508e-02, 6.2800e-02,  ..., 1.0083e-21,\n",
              "           1.6244e-16, 1.3728e-11],\n",
              "          [7.6450e-02, 4.9085e-02, 5.6262e-02,  ..., 1.8690e-14,\n",
              "           1.5814e-11, 4.6501e-07]],\n",
              "\n",
              "         [[2.0980e-01, 1.9633e-01, 3.0427e-01,  ..., 2.9281e-04,\n",
              "           6.4872e-05, 5.7727e-04],\n",
              "          [1.2156e-01, 1.1306e-01, 2.5625e-01,  ..., 1.5452e-05,\n",
              "           2.6874e-06, 1.8330e-05],\n",
              "          [5.9142e-02, 4.5473e-02, 1.5318e-01,  ..., 8.2457e-07,\n",
              "           2.1268e-07, 2.2531e-06],\n",
              "          ...,\n",
              "          [5.2043e-03, 3.6404e-03, 7.7113e-03,  ..., 7.1050e-20,\n",
              "           2.1473e-19, 6.8783e-15],\n",
              "          [2.5010e-03, 9.3648e-04, 1.9452e-03,  ..., 1.2522e-20,\n",
              "           1.3945e-17, 2.9179e-13],\n",
              "          [6.7880e-03, 1.5349e-03, 2.5954e-03,  ..., 8.0261e-17,\n",
              "           2.3655e-13, 1.3335e-09]]]], device='cuda:0',\n",
              "       grad_fn=<SigmoidBackward0>)"
            ]
          },
          "metadata": {},
          "execution_count": 16
        }
      ]
    },
    {
      "cell_type": "code",
      "source": [
        "# 訓練が終わったら、いくつかの画像でどのように動作するかを確認\n",
        "dataiter = iter(testloader)\n",
        "images, labels = next(dataiter)\n",
        "\n",
        "output = model(images.cuda())  # CUDAを使用している場合\n",
        "images = images.numpy()\n",
        "output = output[0].detach().cpu().numpy()\n",
        "\n",
        "# 元の画像と再構成された画像を表示\n",
        "fig, axes = plt.subplots(nrows=2, ncols=5, sharex=True, sharey=True, figsize=(12,5))\n",
        "for images, row in zip([images, output], axes):\n",
        "    for img, ax in zip(images, row):\n",
        "        ax.imshow(np.transpose(img, (1, 2, 0)))\n",
        "        ax.get_xaxis().set_visible(False)\n",
        "        ax.get_yaxis().set_visible(False)"
      ],
      "metadata": {
        "colab": {
          "base_uri": "https://localhost:8080/",
          "height": 425
        },
        "id": "prBN1nWwRHqv",
        "outputId": "8526b7b5-08b0-4591-c7af-d25ef3ef80d2"
      },
      "execution_count": 19,
      "outputs": [
        {
          "output_type": "stream",
          "name": "stderr",
          "text": [
            "WARNING:matplotlib.image:Clipping input data to the valid range for imshow with RGB data ([0..1] for floats or [0..255] for integers).\n",
            "WARNING:matplotlib.image:Clipping input data to the valid range for imshow with RGB data ([0..1] for floats or [0..255] for integers).\n",
            "WARNING:matplotlib.image:Clipping input data to the valid range for imshow with RGB data ([0..1] for floats or [0..255] for integers).\n",
            "WARNING:matplotlib.image:Clipping input data to the valid range for imshow with RGB data ([0..1] for floats or [0..255] for integers).\n",
            "WARNING:matplotlib.image:Clipping input data to the valid range for imshow with RGB data ([0..1] for floats or [0..255] for integers).\n"
          ]
        },
        {
          "output_type": "display_data",
          "data": {
            "text/plain": [
              "<Figure size 1200x500 with 10 Axes>"
            ],
            "image/png": "[encoded data removed]"
          },
          "metadata": {}
        }
      ]
    },
    {
      "cell_type": "code",
      "source": [
        "def display_images_with_modification(model, dataloader, index, modification_strength=0.5):\n",
        "    # 指定されたインデックスのデータを取得\n",
        "    for i, data in enumerate(dataloader, 0):\n",
        "        images, _ = data\n",
        "        if i == index // 64:  # 64はバッチサイズ\n",
        "            # 指定されたインデックスの画像を選択\n",
        "            image = images[index % 64].unsqueeze(0)  # バッチ次元を追加\n",
        "            break\n",
        "\n",
        "    # 画像をエンコードしてzを取得し、そのままデコード\n",
        "    mu, logvar = model.encode(image.to(\"cuda:0\"))\n",
        "    z = model.reparameterize(mu, logvar)\n",
        "    reconstructed_image = model.decode(z)\n",
        "\n",
        "    # zに変更を加えてデコード\n",
        "    z_modified = z + modification_strength * torch.randn_like(z)\n",
        "    modified_image = model.decode(z_modified)\n",
        "\n",
        "    # 元の画像、再構成された画像、修正された画像を表示\n",
        "    fig, ax = plt.subplots(1, 3, figsize=(9, 3))\n",
        "    ax[0].imshow(image[0].detach().cpu().numpy().transpose(1, 2, 0))\n",
        "    ax[0].set_title(\"Original Image\")\n",
        "    ax[1].imshow(reconstructed_image[0].detach().cpu().numpy().transpose(1, 2, 0))\n",
        "    ax[1].set_title(\"Reconstructed Image\")\n",
        "    ax[2].imshow(modified_image[0].detach().cpu().numpy().transpose(1, 2, 0))\n",
        "    ax[2].set_title(\"Modified Image\")\n",
        "\n",
        "    for a in ax:\n",
        "        a.axis('off')\n",
        "    plt.show()\n",
        "\n",
        "# modelがVAEのインスタンス、testloaderがテストデータのDataLoader\n",
        "# 例えば、3番目の画像に対して、変更の強さを0.5として実行\n",
        "display_images_with_modification(model, testloader, 3, 0.5)\n"
      ],
      "metadata": {
        "id": "99Czx-zUi6xm",
        "outputId": "daf4c21a-2e97-46c5-e277-c9e41dd7d335",
        "colab": {
          "base_uri": "https://localhost:8080/",
          "height": 302
        }
      },
      "execution_count": 24,
      "outputs": [
        {
          "output_type": "stream",
          "name": "stderr",
          "text": [
            "WARNING:matplotlib.image:Clipping input data to the valid range for imshow with RGB data ([0..1] for floats or [0..255] for integers).\n"
          ]
        },
        {
          "output_type": "display_data",
          "data": {
            "text/plain": [
              "<Figure size 900x300 with 3 Axes>"
            ],
            "image/png": "[encoded data removed]"
          },
          "metadata": {}
        }
      ]
    },
    {
      "cell_type": "code",
      "source": [
        "# 標準正規分布からzをサンプリング\n",
        "z = torch.randn(1, 20)  # ここでの1はバッチサイズ、20はzの次元\n",
        "\n",
        "# デコーダーを使ってzから画像を生成\n",
        "generated_image = model.decode(z)\n",
        "\n",
        "# 生成した画像を確認\n",
        "plt.imshow(generated_image.detach().numpy()[0].transpose(1, 2, 0))\n",
        "plt.show()"
      ],
      "metadata": {
        "id": "GtD-JLPShrQL"
      },
      "execution_count": null,
      "outputs": []
    }
  ]
}