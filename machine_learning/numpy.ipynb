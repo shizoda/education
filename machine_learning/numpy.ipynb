{
  "nbformat": 4,
  "nbformat_minor": 0,
  "metadata": {
    "colab": {
      "provenance": [],
      "authorship_tag": "ABX9TyNvJiw/au+bAFjl0v9L+vqh",
      "include_colab_link": true
    },
    "kernelspec": {
      "name": "python3",
      "display_name": "Python 3"
    },
    "language_info": {
      "name": "python"
    }
  },
  "cells": [
    {
      "cell_type": "markdown",
      "metadata": {
        "id": "view-in-github",
        "colab_type": "text"
      },
      "source": [
        "<a href=\"https://colab.research.google.com/github/shizoda/education/blob/main/machine_learning/numpy.ipynb\" target=\"_parent\"><img src=\"https://colab.research.google.com/assets/colab-badge.svg\" alt=\"Open In Colab\"/></a>"
      ]
    },
    {
      "cell_type": "markdown",
      "source": [
        "# numpy\n",
        "\n",
        "<a title=\"Isabela Presedo-Floyd, CC BY-SA 4.0 &lt;https://creativecommons.org/licenses/by-sa/4.0&gt;, via Wikimedia Commons\" href=\"https://commons.wikimedia.org/wiki/File:NumPy_logo_2020.svg\"><img width=\"512\" alt=\"NumPy logo 2020\" src=\"https://upload.wikimedia.org/wikipedia/commons/thumb/3/31/NumPy_logo_2020.svg/512px-NumPy_logo_2020.svg.png?20200723114325\"></a>\n",
        "\n",
        "numpy（ナムパイ，Numerical Python）は、Python で多次元配列を扱うライブラリです．\n",
        "\n",
        "行列計算やデータ処理などに広く使われています。"
      ],
      "metadata": {
        "id": "77MserXBHMWC"
      }
    },
    {
      "cell_type": "code",
      "source": [
        "# numpy を \"np\" という名前に置き換えるのが慣習\n",
        "import numpy as np"
      ],
      "metadata": {
        "id": "ttVtJjLgHk6H"
      },
      "execution_count": null,
      "outputs": []
    },
    {
      "cell_type": "markdown",
      "source": [],
      "metadata": {
        "id": "w7qjAgmdpES1"
      }
    },
    {
      "cell_type": "markdown",
      "source": [
        "### 配列の作成\n",
        "\n",
        "numpy 配列は np.array() 関数を使って作成します。\n"
      ],
      "metadata": {
        "id": "V9DveuAMHP1_"
      }
    },
    {
      "cell_type": "code",
      "source": [
        "array_1d = np.array([1, 2, 3, 4, 5])  # 1次元配列の作成\n",
        "array_2d = np.array([[1, 2, 3],\n",
        "                     [4, 5, 6],\n",
        "                     [7, 8, 9]])  # 2次元配列（行列）の作成"
      ],
      "metadata": {
        "id": "qumVhPBIHT9i"
      },
      "execution_count": null,
      "outputs": []
    },
    {
      "cell_type": "markdown",
      "source": [
        "### インデックスを使ってnumpy配列にアクセス\n",
        "\n",
        "numpy配列の要素にはインデックスを使ってアクセスできます。"
      ],
      "metadata": {
        "id": "5Strr6b_H6ha"
      }
    },
    {
      "cell_type": "code",
      "source": [
        "print(\"Element at (0,0) in array_2d:\", array_2d[0, 0])  # 1を出力\n",
        "print(\"Row at index 1 in array_2d:\", array_2d[1, :])   # [4, 5, 6]を出力"
      ],
      "metadata": {
        "id": "LccsHnfyH2qh"
      },
      "execution_count": null,
      "outputs": []
    },
    {
      "cell_type": "markdown",
      "source": [
        "### 配列の次元数とshape\n",
        "\n",
        "numpy配列の次元数（ndim）は配列の次元の数を、shapeは配列の形状を示します。\n",
        "\n",
        "例えば、array_2dの次元数は2であり、形状は(3, 3)です。"
      ],
      "metadata": {
        "id": "7cwwpV7qIBp4"
      }
    },
    {
      "cell_type": "code",
      "source": [
        "print(\"Dimension of array_2d:\", array_2d.ndim)  # 次元数を出力（2を出力）\n",
        "print(\"Shape of array_2d:\", array_2d.shape)     # 形状を出力（(3, 3)を出力）"
      ],
      "metadata": {
        "id": "uycoz7emIJO7"
      },
      "execution_count": null,
      "outputs": []
    },
    {
      "cell_type": "markdown",
      "source": [
        "### 画像処理へ\n",
        "\n",
        "多次元配列が使えるようになったところで、さっそく [画像処理の演習に進みましょう。](https://github.com/shizoda/education/blob/main/machine_learning/image_proc.ipynb)"
      ],
      "metadata": {
        "id": "Y8QUYFdoooDj"
      }
    }
  ]
}