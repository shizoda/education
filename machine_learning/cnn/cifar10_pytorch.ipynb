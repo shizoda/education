{
  "cells": [
    {
      "cell_type": "markdown",
      "metadata": {
        "id": "view-in-github",
        "colab_type": "text"
      },
      "source": [
        "<a href=\"https://colab.research.google.com/github/shizoda/education/blob/main/machine_learning/cnn/cifar10_pytorch.ipynb\" target=\"_parent\"><img src=\"https://colab.research.google.com/assets/colab-badge.svg\" alt=\"Open In Colab\"/></a>"
      ]
    },
    {
      "cell_type": "markdown",
      "source": [
        "# CNNでの画像分類\n",
        "\n",
        "## CNNとは\n",
        "\n",
        "CNN (Convolutional Neural Network，畳み込みニューラルネットワーク )は、特に画像や映像の認識，解析において高い性能を発揮するディープラーニングの一種です．CNNは，入力データから特徴を自動的に学習し，識別や分類を行う能力を持っています．以下に，CNNの構造，動作原理，主な用途について説明します．\n",
        "\n",
        "<a title=\"Aphex34, CC BY-SA 4.0 &lt;https://creativecommons.org/licenses/by-sa/4.0&gt;, via Wikimedia Commons\" href=\"https://commons.wikimedia.org/wiki/File:Typical_cnn.png\"><img width=\"512\" alt=\"Typical cnn\" src=\"https://upload.wikimedia.org/wikipedia/commons/thumb/6/63/Typical_cnn.png/512px-Typical_cnn.png?20151217030420\"></a>\n",
        "\n",
        "### 主な構成要素\n",
        "CNNはディープラーニングの中でも，畳み込み層やプーリング層といった独自の構造を持っていることが特徴です．以下では主な構成要素について説明します．\n",
        "\n",
        "- 畳み込み層\n",
        "\n",
        "畳み込み層は，画像内の局所的な特徴抽出を行います．隣接するピクセル間におけるエッジや色の変化といった局所的な特徴を検出し，画像内の情報を保持しつつ，高度な特徴抽出を実現します．\n",
        "\n",
        "<a title=\"Michael Plotke, CC BY-SA 3.0 &lt;https://creativecommons.org/licenses/by-sa/3.0&gt;, via Wikimedia Commons\" href=\"https://commons.wikimedia.org/wiki/File:2D_Convolution_Animation.gif\"><img width=\"256\" alt=\"2D Convolution Animation\" src=\"https://upload.wikimedia.org/wikipedia/commons/1/19/2D_Convolution_Animation.gif?20130203224852\"></a>\n",
        "\n",
        "- プーリング層\n",
        "\n",
        "プーリング層では，畳み込み層で抽出された特徴が移動しても影響を受けないようにする役割を担います．畳み込み層から出力される特徴は局所的なものです．対象の特徴を維持しながら位置に関する情報をそぎ落とすことで，重要な情報のみを保持し，特徴量のサイズを小さくすることができます．\n",
        "\n",
        "最大プーリングと平均プーリングが有名です．\n",
        "\n",
        "<a title=\"Muhamad Yani, et al.; Creative Commons Attribution 3.0 Unported &lt;https://creativecommons.org/licenses/by/3.0/&gt;\" href=\"https://www.researchgate.net/figure/Illustration-of-Max-Pooling-and-Average-Pooling-Figure-2-above-shows-an-example-of-max_fig2_333593451\"><img width = \"256\" alt =\"Creative Commons Attribution 3.0 Unported\" src=\"https://www.researchgate.net/publication/333593451/figure/fig2/AS:765890261966848@1559613876098/Illustration-of-Max-Pooling-and-Average-Pooling-Figure-2-above-shows-an-example-of-max.png\"></a>\n",
        "\n",
        "- 全結合層\n",
        "\n",
        "畳み込み層やプーリング層で抽出された特徴を基に，最終的な分類や予測を行う層です．分類であれば，入力データがどのクラスに属するかを決定します．"
      ],
      "metadata": {
        "id": "9KT4XxutH8R6"
      }
    },
    {
      "cell_type": "markdown",
      "metadata": {
        "id": "CymrOWOeRR5o"
      },
      "source": [
        "## CNN での画像分類\n",
        "\n",
        "ここでは単純な CNN モデルを画像分類用にトレーニングし、評価します。\n",
        "\n",
        "データセットとして [CIFAR-10](https://www.cs.toronto.edu/~kriz/cifar.html) を用います．CIFAR-10 は、10 の異なるクラス（飛行機、自動車、鳥、猫など）に属する全 60,000 枚の小さなカラー画像（32x32ピクセル）を含むデータセットです。\n",
        "\n",
        "**実行する場合には、Google Colab の GPU ランタイムをオンにしてください**\n",
        "\n",
        "<img src=\"https://raw.githubusercontent.com/shizoda/education/main/machine_learning/cnn/runtime1.png\" height=\"300\"> <img src=\"https://raw.githubusercontent.com/shizoda/education/main/machine_learning/cnn/runtime2.png\" height=\"300\">"
      ]
    },
    {
      "cell_type": "markdown",
      "source": [
        "### PyTorch のインポート\n",
        "\n",
        "深層学習のための主要なフレームワークとして、Google が開発した TensorFlow と、Meta (Facebook) が開発した PyTorch が有名です。今回は PyTorch を使用します。\n",
        "\n",
        "<a title=\"PyTorch, BSD &lt;http://opensource.org/licenses/bsd-license.php&gt;, via Wikimedia Commons\" href=\"https://commons.wikimedia.org/wiki/File:PyTorch_logo_black.svg\"><img width=\"256\" alt=\"PyTorch logo black\" src=\"https://upload.wikimedia.org/wikipedia/commons/thumb/c/c6/PyTorch_logo_black.svg/256px-PyTorch_logo_black.svg.png?20200318230141\"></a>\n",
        "\n",
        "前述のとおり、高速な並列演算のために GPU を使用します。使用できる状態であることを確認しています。"
      ],
      "metadata": {
        "id": "Uc5NiCEx7XgV"
      }
    },
    {
      "cell_type": "code",
      "execution_count": null,
      "metadata": {
        "id": "m1TTBTvqRR5q"
      },
      "outputs": [],
      "source": [
        "# PyTorch 関連のライブラリをインポートします\n",
        "import torch\n",
        "import torchvision\n",
        "import torchvision.transforms as transforms\n",
        "import torch.nn as nn\n",
        "import torch.nn.functional as F\n",
        "import torch.optim as optim\n",
        "from torch.utils.data import random_split\n",
        "\n",
        "# GPU が利用可能であることを確認\n",
        "if not torch.cuda.is_available():\n",
        "    print(\"GPU is not available. Please change runtime type to 'GPU' in the Runtime menu.\")"
      ]
    },
    {
      "cell_type": "markdown",
      "source": [
        "### データのロード\n",
        "\n",
        "CIFAR-10データセットをダウンロードします。学習・検証・テストの各データセットとなります。\n",
        "\n",
        "- `transforms.Compose` は、データに適用する一連の前処理手順を定義します。この例では、画像をPyTorchテンソルに変換し、正規化を行います。\n",
        "\n",
        "- `DataLoader` は、データのバッチ処理、シャッフル、多重プロセスによるデータの読み込みを扱います。"
      ],
      "metadata": {
        "id": "18allCzL9tHJ"
      }
    },
    {
      "cell_type": "code",
      "source": [
        "transform = transforms.Compose(\n",
        "    [transforms.ToTensor(),\n",
        "     transforms.Normalize((0.5, 0.5, 0.5), (0.5, 0.5, 0.5))])\n",
        "\n",
        "# 学習用データセットをロードし、検証用データセットに分割します。\n",
        "trainset = torchvision.datasets.CIFAR10(root='./data', train=True,\n",
        "                                        download=True, transform=transform)\n",
        "train_size = int(0.8 * len(trainset))\n",
        "validation_size = len(trainset) - train_size\n",
        "train_dataset, validation_dataset = random_split(trainset, [train_size, validation_size])\n",
        "\n",
        "# バッチサイズを100とし、学習用データローダと検証用データローダを定義します。\n",
        "trainloader = torch.utils.data.DataLoader(train_dataset, batch_size=100, shuffle=True)\n",
        "validationloader = torch.utils.data.DataLoader(validation_dataset, batch_size=100, shuffle=False)\n",
        "\n",
        "# テスト用データセットをロードします。\n",
        "testset = torchvision.datasets.CIFAR10(root='./data', train=False,\n",
        "                                       download=True, transform=transform)\n",
        "testloader = torch.utils.data.DataLoader(testset, batch_size=4,\n",
        "                                         shuffle=False, num_workers=2)\n",
        "\n",
        "classes = ('plane', 'car', 'bird', 'cat',\n",
        "           'deer', 'dog', 'frog', 'horse', 'ship', 'truck')\n"
      ],
      "metadata": {
        "id": "FF9tDsRO9dxd"
      },
      "execution_count": null,
      "outputs": []
    },
    {
      "cell_type": "code",
      "execution_count": null,
      "metadata": {
        "id": "g7T1y9MRRR5r"
      },
      "outputs": [],
      "source": [
        "import matplotlib.pyplot as plt\n",
        "import numpy as np\n",
        "\n",
        "# 画像を表示するためのヘルパー関数\n",
        "def imshow(img):\n",
        "    img = img / 2 + 0.5     # 正規化を元に戻す\n",
        "    npimg = img.numpy()\n",
        "    plt.imshow(np.transpose(npimg, (1, 2, 0)))\n",
        "    plt.show()\n",
        "\n",
        "# DataLoader から画像を取得して表示する関数\n",
        "def show_images(dataloader, num_images):\n",
        "    dataiter = iter(dataloader)\n",
        "    images, labels = next(dataiter)  # バッチを一つ取得\n",
        "\n",
        "    # 画像を表示\n",
        "    imshow(torchvision.utils.make_grid(images[:num_images]))\n",
        "    # 正解ラベルを表示\n",
        "    print(' '.join(f'{classes[labels[j]]:5s}' for j in range(num_images)))\n",
        "\n",
        "# 使用例：trainloader から 4 枚の画像を表示\n",
        "show_images(trainloader, 4)\n"
      ]
    },
    {
      "cell_type": "markdown",
      "source": [
        "### CNN モデルの定義\n",
        "\n",
        "`forward` メソッドを１行ずつ確認して、どのような構成になっているか確認してみましょう。\n",
        "\n",
        "畳み込み層の後には ReLu という活性化関数を入れています。[活性化関数って？ (Zenn)](https://zenn.dev/nekoallergy/articles/ml-basic-act-01)"
      ],
      "metadata": {
        "id": "gW1nr-R992We"
      }
    },
    {
      "cell_type": "code",
      "execution_count": null,
      "metadata": {
        "id": "uCBWoA1lRR5r"
      },
      "outputs": [],
      "source": [
        "# Net クラスは、CNNモデルのアーキテクチャを定義します。\n",
        "# モデルは畳み込み層（nn.Conv2d）、プーリング層（nn.MaxPool2d）、全結合層（nn.Linear）から構成されています。\n",
        "# forward メソッドは、ネットワークを通じて入力がどのように進むかを定義します\n",
        "\n",
        "class Net(nn.Module):\n",
        "    def __init__(self):\n",
        "        super(Net, self).__init__()\n",
        "        self.conv1 = nn.Conv2d(3, 6, 5)\n",
        "        self.pool = nn.MaxPool2d(2, 2)\n",
        "        self.conv2 = nn.Conv2d(6, 16, 5)\n",
        "        self.fc1 = nn.Linear(16 * 5 * 5, 120)\n",
        "        self.fc2 = nn.Linear(120, 84)\n",
        "        self.fc3 = nn.Linear(84, 10)\n",
        "\n",
        "    def forward(self, x):\n",
        "\n",
        "        # 畳み込み層１\n",
        "        x = self.conv1(x)\n",
        "        x = F.relu(x) # 活性化関数\n",
        "\n",
        "        # プーリング層\n",
        "        x = self.pool(x)\n",
        "\n",
        "        # 畳み込み層２\n",
        "        x = self.conv2(x)\n",
        "        x = F.relu(x) # 活性化関数\n",
        "\n",
        "        # プーリング層２\n",
        "        x = self.pool(x)\n",
        "\n",
        "        # 全結合層\n",
        "        x = x.view(-1, 16 * 5 * 5)\n",
        "        x = F.relu(self.fc1(x))\n",
        "        x = F.relu(self.fc2(x))\n",
        "        x = self.fc3(x)\n",
        "\n",
        "        return x\n",
        "\n",
        "# インスタンス化。Net クラス（設計図）のオブジェクト（実体）を net とする\n",
        "device = torch.device('cuda:0' if torch.cuda.is_available() else 'cpu')\n",
        "net = Net().to(device)"
      ]
    },
    {
      "cell_type": "markdown",
      "source": [
        "### 3. 損失関数とオプティマイザを定義する\n",
        "\n",
        "誤差関数（nn.CrossEntropyLoss）は、モデルの予測と実際のラベル間の差異を測定します。\n",
        "最適化アルゴリズム（optim.SGD）は、モデルのパラメータを調整するために使用されます。"
      ],
      "metadata": {
        "id": "OXyxfvaJAXyN"
      }
    },
    {
      "cell_type": "code",
      "source": [
        "criterion = nn.CrossEntropyLoss()\n",
        "optimizer = optim.SGD(net.parameters(), lr=0.001, momentum=0.9)"
      ],
      "metadata": {
        "id": "WJLid24gAd2E"
      },
      "execution_count": null,
      "outputs": []
    },
    {
      "cell_type": "markdown",
      "source": [
        "### ネットワークの学習\n",
        "\n",
        "学習データセットから画像をランダムに数枚取り出したミニバッチ (mini-batch) をネットワークに入力すると，何らかの出力が得られます．それを正解と比較し，上記の誤差関数によって評価します．\n",
        "\n",
        "これを繰り返していく中で，毎回少しずつ誤差関数を小さくするようにネットワークの重み（畳み込みに用いるカーネル）を更新していきます．徐々に，画像を入力すると正解が得られるようになってきます．"
      ],
      "metadata": {
        "id": "XhO0vVH2AfVP"
      }
    },
    {
      "cell_type": "code",
      "execution_count": null,
      "metadata": {
        "id": "kNB7FZK6RR5r"
      },
      "outputs": [],
      "source": [
        "# 検証用データセットに対する損失が5エポック連続で改善しない場合、学習を終了します。\n",
        "best_val_loss = float(\"inf\")\n",
        "patience = 5\n",
        "trigger_times = 0\n",
        "\n",
        "train_losses = []\n",
        "val_losses = []\n",
        "\n",
        "for epoch in range(10):  # データセットを複数回ループ\n",
        "    running_loss = 0.0\n",
        "    for i, data in enumerate(trainloader, 0):\n",
        "        inputs, labels = data\n",
        "        inputs = inputs.to(device)\n",
        "        labels = labels.to(device)\n",
        "\n",
        "        optimizer.zero_grad()\n",
        "\n",
        "        outputs = net(inputs)\n",
        "        loss = criterion(outputs, labels)\n",
        "        loss.backward()\n",
        "        optimizer.step()\n",
        "\n",
        "        running_loss += loss.item()\n",
        "        # if i % 2000 == 1999:    # 2000ミニバッチごとに出力\n",
        "        #    print('[%d, %5d] loss: %.3f' %\n",
        "        #          (epoch + 1, i + 1, running_loss / 2000))\n",
        "        #    running_loss = 0.0\n",
        "\n",
        "    # 検証用データセットに対する損失を計算\n",
        "    val_loss = 0.0\n",
        "    net.eval()\n",
        "    with torch.no_grad():\n",
        "        for data in validationloader:\n",
        "            images, labels = data\n",
        "            images = images.to(device)\n",
        "            labels = labels.to(device)\n",
        "\n",
        "            outputs = net(images)\n",
        "            loss = criterion(outputs, labels)\n",
        "            val_loss += loss.item()\n",
        "\n",
        "    train_losses.append(running_loss / len(trainloader))\n",
        "    val_losses.append(val_loss / len(validationloader))\n",
        "\n",
        "    # 損失の値をグラフとして表示\n",
        "    plt.clf()\n",
        "    plt.plot(train_losses, label='Training loss')\n",
        "    plt.plot(val_losses, label='Validation loss')\n",
        "    plt.xlabel('Epochs')\n",
        "    plt.ylabel('Loss')\n",
        "    plt.xlim(left=0)\n",
        "    plt.ylim(bottom=0)\n",
        "    plt.legend()\n",
        "    plt.show()\n",
        "    print(\"Train loss     : \", running_loss / len(trainloader))\n",
        "    print(\"Validation loss: \", val_loss / len(validationloader))\n",
        "\n",
        "    # 検証用データセットに対する損失が改善しないエポックが続いたら学習を終了\n",
        "    if val_loss < best_val_loss:\n",
        "        best_val_loss = val_loss\n",
        "        trigger_times = 0\n",
        "    else:\n",
        "        trigger_times += 1\n",
        "        if trigger_times >= patience:\n",
        "            print(f\"Early stopping at epoch {epoch}\")\n",
        "            break\n",
        "\n",
        "print('Finished Training')"
      ]
    },
    {
      "cell_type": "markdown",
      "source": [
        "### テスト\n",
        "訓練されたモデルを使用してテストデータセット上でのパフォーマンスを評価します。\n",
        "最終的な精度（正確に分類された画像の割合）を求めることができます。"
      ],
      "metadata": {
        "id": "9HBS1ndOBr4c"
      }
    },
    {
      "cell_type": "code",
      "execution_count": null,
      "metadata": {
        "id": "Yyy-1rmURR5s"
      },
      "outputs": [],
      "source": [
        "correct = 0\n",
        "total = 0\n",
        "with torch.no_grad():\n",
        "    for data in testloader:\n",
        "        images, labels = data\n",
        "        images = images.to(device)\n",
        "        labels = labels.to(device)\n",
        "\n",
        "        outputs = net(images)\n",
        "        _, predicted = torch.max(outputs.data, 1)\n",
        "        total += labels.size(0)\n",
        "        correct += (predicted == labels).sum().item()\n",
        "\n",
        "print('Accuracy of the network on the 10000 test images: %d %%' % (\n",
        "    100 * correct / total))"
      ]
    },
    {
      "cell_type": "code",
      "execution_count": null,
      "metadata": {
        "id": "qlN_iIbvRR5s"
      },
      "outputs": [],
      "source": [
        "# テストデータの画像を表示し、正解と推定値を表示する関数\n",
        "def visualize_test_predictions(start_idx, end_idx):\n",
        "    testloader = torch.utils.data.DataLoader(testset, batch_size=1,\n",
        "                                             shuffle=False, num_workers=2)\n",
        "    images, labels = zip(*[(data[0], data[1]) for i, data in enumerate(testloader) if start_idx <= i < end_idx])\n",
        "\n",
        "    # モデルの予測\n",
        "    predicted_labels = []\n",
        "    with torch.no_grad():\n",
        "        for image in images:\n",
        "            image = image.to(device)\n",
        "            outputs = net(image)\n",
        "            _, predicted = torch.max(outputs, 1)\n",
        "            predicted_labels.append(predicted.item())\n",
        "\n",
        "    # 画像とラベルを表示\n",
        "    for i in range(len(images)):\n",
        "        print(f\"Image {start_idx + i}\")\n",
        "        imshow(torchvision.utils.make_grid(images[i]))\n",
        "        print(f\"Correct label: {classes[labels[i]]}\")\n",
        "        print(f\"Predicted label: {classes[predicted_labels[i]]}\\n\")\n",
        "\n",
        "# 例: インデックス範囲 0 から 5 の画像を表示\n",
        "visualize_test_predictions(0, 5)\n"
      ]
    }
  ],
  "metadata": {
    "kernelspec": {
      "display_name": "Python 3",
      "name": "python3"
    },
    "language_info": {
      "codemirror_mode": {
        "name": "ipython",
        "version": 3
      },
      "file_extension": ".py",
      "mimetype": "text/x-python",
      "name": "python",
      "nbconvert_exporter": "python",
      "pygments_lexer": "ipython3",
      "version": "3.8.5"
    },
    "colab": {
      "provenance": [],
      "gpuType": "T4",
      "include_colab_link": true
    },
    "accelerator": "GPU"
  },
  "nbformat": 4,
  "nbformat_minor": 0
}