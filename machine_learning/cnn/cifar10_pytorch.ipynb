{
  "cells": [
    {
      "cell_type": "markdown",
      "metadata": {
        "id": "view-in-github",
        "colab_type": "text"
      },
      "source": [
        "<a href=\"https://colab.research.google.com/github/shizoda/education/blob/main/machine_learning/cnn/cifar10_pytorch.ipynb\" target=\"_parent\"><img src=\"https://colab.research.google.com/assets/colab-badge.svg\" alt=\"Open In Colab\"/></a>"
      ]
    },
    {
      "cell_type": "markdown",
      "source": [
        "# CNNでの画像分類\n",
        "\n",
        "## CNNとは\n",
        "\n",
        "CNN (Convolutional Neural Network，畳み込みニューラルネットワーク )は、特に画像や映像の認識，解析において高い性能を発揮するディープラーニングの一種です．CNNは，入力データから特徴を自動的に学習し，識別や分類を行う能力を持っています．以下に，CNNの構造，動作原理，主な用途について説明します．\n",
        "\n",
        "<a title=\"Aphex34, CC BY-SA 4.0 &lt;https://creativecommons.org/licenses/by-sa/4.0&gt;, via Wikimedia Commons\" href=\"https://commons.wikimedia.org/wiki/File:Typical_cnn.png\"><img width=\"512\" alt=\"Typical cnn\" src=\"https://upload.wikimedia.org/wikipedia/commons/thumb/6/63/Typical_cnn.png/512px-Typical_cnn.png?20151217030420\"></a>\n",
        "\n",
        "### 主な構成要素\n",
        "CNNはディープラーニングの中でも，畳み込み層やプーリング層といった独自の構造を持っていることが特徴です．以下では主な構成要素について説明します．\n",
        "\n",
        "- 畳み込み層\n",
        "\n",
        "畳み込み層は，画像内の局所的な特徴抽出を行います．隣接するピクセル間におけるエッジや色の変化といった局所的な特徴を検出し，画像内の情報を保持しつつ，高度な特徴抽出を実現します．\n",
        "\n",
        "<a title=\"Michael Plotke, CC BY-SA 3.0 &lt;https://creativecommons.org/licenses/by-sa/3.0&gt;, via Wikimedia Commons\" href=\"https://commons.wikimedia.org/wiki/File:2D_Convolution_Animation.gif\"><img width=\"256\" alt=\"2D Convolution Animation\" src=\"https://upload.wikimedia.org/wikipedia/commons/1/19/2D_Convolution_Animation.gif?20130203224852\"></a>\n",
        "\n",
        "- プーリング層\n",
        "\n",
        "プーリング層では，畳み込み層で抽出された特徴が移動しても影響を受けないようにする役割を担います．畳み込み層から出力される特徴は局所的なものです．対象の特徴を維持しながら位置に関する情報をそぎ落とすことで，重要な情報のみを保持し，特徴量のサイズを小さくすることができます．\n",
        "\n",
        "最大プーリングと平均プーリングが有名です．\n",
        "\n",
        "<a title=\"Muhamad Yani, et al.; Creative Commons Attribution 3.0 Unported &lt;https://creativecommons.org/licenses/by/3.0/&gt;\" href=\"https://www.researchgate.net/figure/Illustration-of-Max-Pooling-and-Average-Pooling-Figure-2-above-shows-an-example-of-max_fig2_333593451\"><img width = \"256\" alt =\"Creative Commons Attribution 3.0 Unported\" src=\"https://www.researchgate.net/publication/333593451/figure/fig2/AS:765890261966848@1559613876098/Illustration-of-Max-Pooling-and-Average-Pooling-Figure-2-above-shows-an-example-of-max.png\"></a>\n",
        "\n",
        "- 全結合層\n",
        "\n",
        "畳み込み層やプーリング層で抽出された特徴を基に，最終的な分類や予測を行う層です．分類であれば，入力データがどのクラスに属するかを決定します．"
      ],
      "metadata": {
        "id": "9KT4XxutH8R6"
      }
    },
    {
      "cell_type": "markdown",
      "metadata": {
        "id": "CymrOWOeRR5o"
      },
      "source": [
        "## CNN での画像分類\n",
        "\n",
        "ここでは単純な CNN モデルを画像分類用にトレーニングし、評価します。\n",
        "\n",
        "データセットとして [CIFAR-10](https://www.cs.toronto.edu/~kriz/cifar.html) を用います．CIFAR-10 は、10 の異なるクラス（飛行機、自動車、鳥、猫など）に属する全 60,000 枚の小さなカラー画像（32x32ピクセル）を含むデータセットです。\n",
        "\n",
        "**実行する場合には、Google Colab の GPU ランタイムをオンにしてください**\n",
        "\n",
        "<img src=\"https://raw.githubusercontent.com/shizoda/education/main/machine_learning/cnn/runtime1.png\" height=\"300\"> <img src=\"https://raw.githubusercontent.com/shizoda/education/main/machine_learning/cnn/runtime2.png\" height=\"300\">"
      ]
    },
    {
      "cell_type": "markdown",
      "source": [
        "### PyTorch のインポート\n",
        "\n",
        "深層学習のための主要なフレームワークとして、Google が開発した TensorFlow と、Meta (Facebook) が開発した PyTorch が有名です。今回は PyTorch を使用します。\n",
        "\n",
        "<a title=\"PyTorch, BSD &lt;http://opensource.org/licenses/bsd-license.php&gt;, via Wikimedia Commons\" href=\"https://commons.wikimedia.org/wiki/File:PyTorch_logo_black.svg\"><img width=\"256\" alt=\"PyTorch logo black\" src=\"https://upload.wikimedia.org/wikipedia/commons/thumb/c/c6/PyTorch_logo_black.svg/256px-PyTorch_logo_black.svg.png?20200318230141\"></a>\n",
        "\n",
        "前述のとおり、高速な並列演算のために GPU を使用します。使用できる状態であることを確認しています。"
      ],
      "metadata": {
        "id": "Uc5NiCEx7XgV"
      }
    },
    {
      "cell_type": "code",
      "execution_count": 1,
      "metadata": {
        "id": "m1TTBTvqRR5q"
      },
      "outputs": [],
      "source": [
        "# PyTorch 関連のライブラリをインポートします\n",
        "import torch\n",
        "import torchvision\n",
        "import torchvision.transforms as transforms\n",
        "import torch.nn as nn\n",
        "import torch.nn.functional as F\n",
        "import torch.optim as optim\n",
        "from torch.utils.data import random_split\n",
        "\n",
        "# GPU が利用可能であることを確認\n",
        "assert torch.cuda.is_available(), \"GPU が使えません。ランタイムの設定を確認してください。\"\n"
      ]
    },
    {
      "cell_type": "markdown",
      "source": [
        "### データのロード\n",
        "\n",
        "CIFAR-10データセットをダウンロードします。\n",
        "\n",
        "- 学習に用いる **学習**データセット\n",
        "\n",
        "- 学習中に精度を調べ，早期停止に用いる **検証**データセット\n",
        "\n",
        "- 学習後に精度を調べる **テスト**データセット\n",
        "\n",
        "の各データセットとなります。ちなみに\n",
        "\n",
        "- `transforms.Compose` は、データに適用する一連の前処理手順を定義します。この例では、画像を numpy 配列から「PyTorch テンソル」とよばれる形式に変換して、PyTorch が扱えるようにしています。\n",
        "\n",
        "- `DataLoader` は、大量にあるデータをミニバッチ (mini-batch) という単位で少しずつ取り出せるようにするものです。今回は画像を 100 枚ずつ取り出します。"
      ],
      "metadata": {
        "id": "18allCzL9tHJ"
      }
    },
    {
      "cell_type": "code",
      "source": [
        "transform = transforms.Compose(\n",
        "    [transforms.ToTensor(),\n",
        "     transforms.Normalize((0.5, 0.5, 0.5), (0.5, 0.5, 0.5))])\n",
        "\n",
        "# 学習用データセットをロードし、検証用データセットに分割\n",
        "trainset = torchvision.datasets.CIFAR10(root='./data', train=True,\n",
        "                                        download=True, transform=transform)\n",
        "train_size = int(0.8 * len(trainset))\n",
        "validation_size = len(trainset) - train_size\n",
        "train_dataset, validation_dataset = random_split(trainset, [train_size, validation_size])\n",
        "\n",
        "# ミニバッチ (mini-batch) サイズを100とし、学習用データローダと検証用データローダを定義\n",
        "trainloader = torch.utils.data.DataLoader(train_dataset, batch_size=100, shuffle=True)\n",
        "validationloader = torch.utils.data.DataLoader(validation_dataset, batch_size=100, shuffle=False)\n",
        "\n",
        "# テスト用データセットをロード\n",
        "testset = torchvision.datasets.CIFAR10(root='./data', train=False,\n",
        "                                       download=True, transform=transform)\n",
        "testloader = torch.utils.data.DataLoader(testset, batch_size=4,\n",
        "                                         shuffle=False, num_workers=2)\n",
        "\n",
        "classes = ('plane', 'car', 'bird', 'cat',\n",
        "           'deer', 'dog', 'frog', 'horse', 'ship', 'truck')\n"
      ],
      "metadata": {
        "id": "FF9tDsRO9dxd",
        "colab": {
          "base_uri": "https://localhost:8080/"
        },
        "outputId": "3448836c-abf6-4cc1-b758-a07fc15a0090"
      },
      "execution_count": 2,
      "outputs": [
        {
          "output_type": "stream",
          "name": "stdout",
          "text": [
            "Downloading https://www.cs.toronto.edu/~kriz/cifar-10-python.tar.gz to ./data/cifar-10-python.tar.gz\n"
          ]
        },
        {
          "output_type": "stream",
          "name": "stderr",
          "text": [
            "100%|██████████| 170498071/170498071 [00:21<00:00, 7984856.72it/s]\n"
          ]
        },
        {
          "output_type": "stream",
          "name": "stdout",
          "text": [
            "Extracting ./data/cifar-10-python.tar.gz to ./data\n",
            "Files already downloaded and verified\n"
          ]
        }
      ]
    },
    {
      "cell_type": "markdown",
      "source": [
        "ダウンロードできたところで、いくつか画像を見てみましょう。"
      ],
      "metadata": {
        "id": "M7suQbyWE7WQ"
      }
    },
    {
      "cell_type": "code",
      "execution_count": 3,
      "metadata": {
        "id": "g7T1y9MRRR5r",
        "colab": {
          "base_uri": "https://localhost:8080/",
          "height": 211
        },
        "outputId": "466504cf-0c81-4894-abf6-064912fae353"
      },
      "outputs": [
        {
          "output_type": "display_data",
          "data": {
            "text/plain": [
              "<Figure size 640x480 with 1 Axes>"
            ],
            "image/png": "[encoded data removed]"
          },
          "metadata": {}
        },
        {
          "output_type": "stream",
          "name": "stdout",
          "text": [
            "ship  ship  ship  cat  \n"
          ]
        }
      ],
      "source": [
        "import matplotlib.pyplot as plt\n",
        "import numpy as np\n",
        "\n",
        "# 画像を表示するためのヘルパー関数\n",
        "def imshow(img):\n",
        "    img = img / 2 + 0.5     # 正規化を元に戻す\n",
        "    npimg = img.numpy()\n",
        "    plt.imshow(np.transpose(npimg, (1, 2, 0)))\n",
        "    plt.show()\n",
        "\n",
        "# DataLoader から画像を取得して表示する関数\n",
        "def show_images(dataloader, num_images):\n",
        "    dataiter = iter(dataloader)\n",
        "    images, labels = next(dataiter)  # バッチを一つ取得\n",
        "\n",
        "    # 画像を表示\n",
        "    imshow(torchvision.utils.make_grid(images[:num_images]))\n",
        "    # 正解ラベルを表示\n",
        "    print(' '.join(f'{classes[labels[j]]:5s}' for j in range(num_images)))\n",
        "\n",
        "# 使用例：trainloader から 4 枚の画像を表示\n",
        "show_images(trainloader, 4)\n"
      ]
    },
    {
      "cell_type": "markdown",
      "source": [
        "### CNN モデルの定義\n",
        "\n",
        "`forward` メソッドを１行ずつ確認して、どのような構成になっているか確認してみましょう。\n",
        "\n",
        "畳み込み層の後には ReLu という活性化関数を入れています。[活性化関数って？ (Zenn)](https://zenn.dev/nekoallergy/articles/ml-basic-act-01)"
      ],
      "metadata": {
        "id": "gW1nr-R992We"
      }
    },
    {
      "cell_type": "code",
      "execution_count": 4,
      "metadata": {
        "id": "uCBWoA1lRR5r"
      },
      "outputs": [],
      "source": [
        "# Net クラスは、CNNモデルのアーキテクチャを定義します。\n",
        "# モデルは畳み込み層（nn.Conv2d）、プーリング層（nn.MaxPool2d）、全結合層（nn.Linear）から構成されています。\n",
        "# forward メソッドは、ネットワークを通じて入力がどのように進むかを定義します\n",
        "\n",
        "class Net(nn.Module):\n",
        "    def __init__(self):\n",
        "        super(Net, self).__init__()\n",
        "        self.conv1 = nn.Conv2d(3, 6, 5)\n",
        "        self.pool = nn.MaxPool2d(2, 2)\n",
        "        self.conv2 = nn.Conv2d(6, 16, 5)\n",
        "        self.fc1 = nn.Linear(16 * 5 * 5, 120)\n",
        "        self.fc2 = nn.Linear(120, 84)\n",
        "        self.fc3 = nn.Linear(84, 10)\n",
        "\n",
        "    def forward(self, x):\n",
        "\n",
        "        # 畳み込み層１\n",
        "        x = self.conv1(x)\n",
        "        x = F.relu(x) # 活性化関数\n",
        "\n",
        "        # プーリング層\n",
        "        x = self.pool(x)\n",
        "\n",
        "        # 畳み込み層２\n",
        "        x = self.conv2(x)\n",
        "        x = F.relu(x) # 活性化関数\n",
        "\n",
        "        # プーリング層２\n",
        "        x = self.pool(x)\n",
        "\n",
        "        # 全結合層\n",
        "        x = x.view(-1, 16 * 5 * 5)\n",
        "        x = self.fc1(x)\n",
        "        x = F.relu(x)\n",
        "        x = self.fc2(x)\n",
        "        x = F.relu(x)\n",
        "        x = self.fc3(x)\n",
        "\n",
        "        return x\n",
        "\n",
        "# インスタンス化。Net クラス（設計図）のオブジェクト（実体）を net とする\n",
        "device = torch.device('cuda:0' if torch.cuda.is_available() else 'cpu')\n",
        "net = Net().to(device)"
      ]
    },
    {
      "cell_type": "markdown",
      "source": [
        "### 損失関数とオプティマイザ\n",
        "\n",
        "**損失関数**（誤差関数，ロスともいう）`nn.CrossEntropyLoss` は、モデルの予測と実際のラベル間の差異を測定します。\n",
        "\n",
        "オプティマイザ `optim.SGD` は、モデルのパラメータを調整するために使用されます。ほかに Adam が有名です。"
      ],
      "metadata": {
        "id": "OXyxfvaJAXyN"
      }
    },
    {
      "cell_type": "code",
      "source": [
        "criterion = nn.CrossEntropyLoss()\n",
        "optimizer = optim.SGD(net.parameters(), lr=0.001, momentum=0.9)"
      ],
      "metadata": {
        "id": "WJLid24gAd2E"
      },
      "execution_count": 5,
      "outputs": []
    },
    {
      "cell_type": "markdown",
      "source": [
        "### 学習\n",
        "\n",
        "学習データセットから画像をランダムに数枚取り出した **ミニバッチ** (mini-batch) をネットワークに入力すると，何らかの出力が得られます．上記の損失関数によって出力と正解を比較し，「出力がどれくらい正解に近いか」を評価します．損失の値が小さいほど，正解に近いことを表します．\n",
        "\n",
        "それを繰り返しつつ，少しずつ損失を小さくするようにネットワークの重み（畳み込みに用いるカーネル）を更新していきます．この更新の仕組みは **誤差逆伝播法** (back-propagation) とよばれます．損失が小さくなる様子をグラフで確認してみてください．損失が小さくなっていくということは，画像に対して正解に近い出力が得られるようになってくることを意味します．\n",
        "\n",
        "毎回、学習に使用しない検証データに対しても誤差を計算します。この誤差が一定回数改善しない場合は学習を終了します。学習しすぎると **過学習** を起こすことがあるためです。<br>[機械学習における過学習とは何か？ (TRIETING)](https://www.tryeting.jp/column/6846/)\n",
        "\n",
        "更新はミニバッチごとに行われ，今回はミニバッチ１個あたり100枚の画像となっています（冒頭付近での設定）．それを繰り返して，ひととおり学習データをすべて使い切ることを 1 **エポック** と数えます．今回は最大10エポックの学習を行うこととしています．"
      ],
      "metadata": {
        "id": "XhO0vVH2AfVP"
      }
    },
    {
      "cell_type": "code",
      "execution_count": 6,
      "metadata": {
        "id": "kNB7FZK6RR5r",
        "colab": {
          "base_uri": "https://localhost:8080/",
          "height": 366
        },
        "outputId": "73de588b-8b34-4c2b-baca-b6a0ba6bea39"
      },
      "outputs": [
        {
          "output_type": "error",
          "ename": "TypeError",
          "evalue": "relu() missing 1 required positional argument: 'input'",
          "traceback": [
            "\u001b[0;31m---------------------------------------------------------------------------\u001b[0m",
            "\u001b[0;31mTypeError\u001b[0m                                 Traceback (most recent call last)",
            "\u001b[0;32m<ipython-input-6-63796a499715>\u001b[0m in \u001b[0;36m<cell line: 10>\u001b[0;34m()\u001b[0m\n\u001b[1;32m     19\u001b[0m         \u001b[0moptimizer\u001b[0m\u001b[0;34m.\u001b[0m\u001b[0mzero_grad\u001b[0m\u001b[0;34m(\u001b[0m\u001b[0;34m)\u001b[0m  \u001b[0;31m# 勾配の初期化\u001b[0m\u001b[0;34m\u001b[0m\u001b[0;34m\u001b[0m\u001b[0m\n\u001b[1;32m     20\u001b[0m \u001b[0;34m\u001b[0m\u001b[0m\n\u001b[0;32m---> 21\u001b[0;31m         \u001b[0moutputs\u001b[0m \u001b[0;34m=\u001b[0m \u001b[0mnet\u001b[0m\u001b[0;34m(\u001b[0m\u001b[0minputs\u001b[0m\u001b[0;34m)\u001b[0m  \u001b[0;31m# ネットワークに入力データを渡して出力を取得\u001b[0m\u001b[0;34m\u001b[0m\u001b[0;34m\u001b[0m\u001b[0m\n\u001b[0m\u001b[1;32m     22\u001b[0m         \u001b[0mloss\u001b[0m \u001b[0;34m=\u001b[0m \u001b[0mcriterion\u001b[0m\u001b[0;34m(\u001b[0m\u001b[0moutputs\u001b[0m\u001b[0;34m,\u001b[0m \u001b[0mlabels\u001b[0m\u001b[0;34m)\u001b[0m  \u001b[0;31m# 損失を計算\u001b[0m\u001b[0;34m\u001b[0m\u001b[0;34m\u001b[0m\u001b[0m\n\u001b[1;32m     23\u001b[0m         \u001b[0mloss\u001b[0m\u001b[0;34m.\u001b[0m\u001b[0mbackward\u001b[0m\u001b[0;34m(\u001b[0m\u001b[0;34m)\u001b[0m  \u001b[0;31m# 逆伝播を行い、勾配を計算\u001b[0m\u001b[0;34m\u001b[0m\u001b[0;34m\u001b[0m\u001b[0m\n",
            "\u001b[0;32m/usr/local/lib/python3.10/dist-packages/torch/nn/modules/module.py\u001b[0m in \u001b[0;36m_wrapped_call_impl\u001b[0;34m(self, *args, **kwargs)\u001b[0m\n\u001b[1;32m   1530\u001b[0m             \u001b[0;32mreturn\u001b[0m \u001b[0mself\u001b[0m\u001b[0;34m.\u001b[0m\u001b[0m_compiled_call_impl\u001b[0m\u001b[0;34m(\u001b[0m\u001b[0;34m*\u001b[0m\u001b[0margs\u001b[0m\u001b[0;34m,\u001b[0m \u001b[0;34m**\u001b[0m\u001b[0mkwargs\u001b[0m\u001b[0;34m)\u001b[0m  \u001b[0;31m# type: ignore[misc]\u001b[0m\u001b[0;34m\u001b[0m\u001b[0;34m\u001b[0m\u001b[0m\n\u001b[1;32m   1531\u001b[0m         \u001b[0;32melse\u001b[0m\u001b[0;34m:\u001b[0m\u001b[0;34m\u001b[0m\u001b[0;34m\u001b[0m\u001b[0m\n\u001b[0;32m-> 1532\u001b[0;31m             \u001b[0;32mreturn\u001b[0m \u001b[0mself\u001b[0m\u001b[0;34m.\u001b[0m\u001b[0m_call_impl\u001b[0m\u001b[0;34m(\u001b[0m\u001b[0;34m*\u001b[0m\u001b[0margs\u001b[0m\u001b[0;34m,\u001b[0m \u001b[0;34m**\u001b[0m\u001b[0mkwargs\u001b[0m\u001b[0;34m)\u001b[0m\u001b[0;34m\u001b[0m\u001b[0;34m\u001b[0m\u001b[0m\n\u001b[0m\u001b[1;32m   1533\u001b[0m \u001b[0;34m\u001b[0m\u001b[0m\n\u001b[1;32m   1534\u001b[0m     \u001b[0;32mdef\u001b[0m \u001b[0m_call_impl\u001b[0m\u001b[0;34m(\u001b[0m\u001b[0mself\u001b[0m\u001b[0;34m,\u001b[0m \u001b[0;34m*\u001b[0m\u001b[0margs\u001b[0m\u001b[0;34m,\u001b[0m \u001b[0;34m**\u001b[0m\u001b[0mkwargs\u001b[0m\u001b[0;34m)\u001b[0m\u001b[0;34m:\u001b[0m\u001b[0;34m\u001b[0m\u001b[0;34m\u001b[0m\u001b[0m\n",
            "\u001b[0;32m/usr/local/lib/python3.10/dist-packages/torch/nn/modules/module.py\u001b[0m in \u001b[0;36m_call_impl\u001b[0;34m(self, *args, **kwargs)\u001b[0m\n\u001b[1;32m   1539\u001b[0m                 \u001b[0;32mor\u001b[0m \u001b[0m_global_backward_pre_hooks\u001b[0m \u001b[0;32mor\u001b[0m \u001b[0m_global_backward_hooks\u001b[0m\u001b[0;34m\u001b[0m\u001b[0;34m\u001b[0m\u001b[0m\n\u001b[1;32m   1540\u001b[0m                 or _global_forward_hooks or _global_forward_pre_hooks):\n\u001b[0;32m-> 1541\u001b[0;31m             \u001b[0;32mreturn\u001b[0m \u001b[0mforward_call\u001b[0m\u001b[0;34m(\u001b[0m\u001b[0;34m*\u001b[0m\u001b[0margs\u001b[0m\u001b[0;34m,\u001b[0m \u001b[0;34m**\u001b[0m\u001b[0mkwargs\u001b[0m\u001b[0;34m)\u001b[0m\u001b[0;34m\u001b[0m\u001b[0;34m\u001b[0m\u001b[0m\n\u001b[0m\u001b[1;32m   1542\u001b[0m \u001b[0;34m\u001b[0m\u001b[0m\n\u001b[1;32m   1543\u001b[0m         \u001b[0;32mtry\u001b[0m\u001b[0;34m:\u001b[0m\u001b[0;34m\u001b[0m\u001b[0;34m\u001b[0m\u001b[0m\n",
            "\u001b[0;32m<ipython-input-4-85f603671d9a>\u001b[0m in \u001b[0;36mforward\u001b[0;34m(self, x)\u001b[0m\n\u001b[1;32m     32\u001b[0m         \u001b[0mx\u001b[0m \u001b[0;34m=\u001b[0m \u001b[0mx\u001b[0m\u001b[0;34m.\u001b[0m\u001b[0mview\u001b[0m\u001b[0;34m(\u001b[0m\u001b[0;34m-\u001b[0m\u001b[0;36m1\u001b[0m\u001b[0;34m,\u001b[0m \u001b[0;36m16\u001b[0m \u001b[0;34m*\u001b[0m \u001b[0;36m5\u001b[0m \u001b[0;34m*\u001b[0m \u001b[0;36m5\u001b[0m\u001b[0;34m)\u001b[0m\u001b[0;34m\u001b[0m\u001b[0;34m\u001b[0m\u001b[0m\n\u001b[1;32m     33\u001b[0m         \u001b[0mx\u001b[0m \u001b[0;34m=\u001b[0m \u001b[0mself\u001b[0m\u001b[0;34m.\u001b[0m\u001b[0mfc1\u001b[0m\u001b[0;34m(\u001b[0m\u001b[0mx\u001b[0m\u001b[0;34m)\u001b[0m\u001b[0;34m\u001b[0m\u001b[0;34m\u001b[0m\u001b[0m\n\u001b[0;32m---> 34\u001b[0;31m         \u001b[0mx\u001b[0m \u001b[0;34m=\u001b[0m \u001b[0mF\u001b[0m\u001b[0;34m.\u001b[0m\u001b[0mrelu\u001b[0m\u001b[0;34m(\u001b[0m\u001b[0;34m)\u001b[0m\u001b[0;34m\u001b[0m\u001b[0;34m\u001b[0m\u001b[0m\n\u001b[0m\u001b[1;32m     35\u001b[0m         \u001b[0mx\u001b[0m \u001b[0;34m=\u001b[0m \u001b[0mself\u001b[0m\u001b[0;34m.\u001b[0m\u001b[0mfc2\u001b[0m\u001b[0;34m(\u001b[0m\u001b[0mx\u001b[0m\u001b[0;34m)\u001b[0m\u001b[0;34m\u001b[0m\u001b[0;34m\u001b[0m\u001b[0m\n\u001b[1;32m     36\u001b[0m         \u001b[0mx\u001b[0m \u001b[0;34m=\u001b[0m \u001b[0mF\u001b[0m\u001b[0;34m.\u001b[0m\u001b[0mrelu\u001b[0m\u001b[0;34m(\u001b[0m\u001b[0;34m)\u001b[0m\u001b[0;34m\u001b[0m\u001b[0;34m\u001b[0m\u001b[0m\n",
            "\u001b[0;31mTypeError\u001b[0m: relu() missing 1 required positional argument: 'input'"
          ]
        }
      ],
      "source": [
        "max_epoch = 10     # 最大エポック数\n",
        "patience = 5       # 改善が見られないエポック数の許容回数\n",
        "trigger_times = 0  # 改善が見られないエポック数のカウンター\n",
        "\n",
        "best_val_loss = float(\"inf\")  # 初期値として無限大を設定\n",
        "train_losses = []  # 学習データセットの損失を保存するリスト\n",
        "val_losses = []  # 検証データセットの損失を保存するリスト\n",
        "\n",
        "# エポック数のループ\n",
        "for epoch in range(max_epoch):\n",
        "    running_loss = 0.0\n",
        "\n",
        "    # 学習データセットからミニバッチを得るたびに…\n",
        "    for i, data in enumerate(trainloader, 0):\n",
        "        inputs, labels = data\n",
        "        inputs = inputs.to(device)  # 入力データをGPUに送る\n",
        "        labels = labels.to(device)  # ラベルをGPUに送る\n",
        "\n",
        "        optimizer.zero_grad()  # 勾配の初期化\n",
        "\n",
        "        outputs = net(inputs)  # ネットワークに入力データを渡して出力を取得\n",
        "        loss = criterion(outputs, labels)  # 損失を計算\n",
        "        loss.backward()  # 逆伝播を行い、勾配を計算\n",
        "        optimizer.step()  # パラメータを更新\n",
        "\n",
        "        running_loss += loss.item()  # ミニバッチの損失を累積\n",
        "\n",
        "    # エポックごとの訓練データセットに対する平均損失を計算\n",
        "    train_loss = running_loss / len(trainloader)\n",
        "    train_losses.append(train_loss)\n",
        "\n",
        "    # 検証データセットに対する損失を計算\n",
        "    val_loss = 0.0\n",
        "    net.eval()  # モデルを評価モードに切り替える\n",
        "    with torch.no_grad():\n",
        "\n",
        "        # 検証データセットからミニバッチを得るたびに…\n",
        "        for data in validationloader:\n",
        "            images, labels = data\n",
        "            images = images.to(device)  # 入力データをGPUに送る\n",
        "            labels = labels.to(device)  # ラベルをGPUに送る\n",
        "\n",
        "            outputs = net(images)  # ネットワークに入力データを渡して出力を取得\n",
        "            loss = criterion(outputs, labels)  # 損失を計算\n",
        "            val_loss += loss.item()  # 損失を累積\n",
        "\n",
        "    # エポックごとの検証データセットに対する平均損失を計算\n",
        "    val_loss = val_loss / len(validationloader)\n",
        "    val_losses.append(val_loss)\n",
        "\n",
        "    # 損失の値をグラフで表示\n",
        "    plt.clf()  # 前のグラフをクリア\n",
        "    plt.plot(train_losses, label='Training loss')  # 訓練データセットの損失\n",
        "    plt.plot(val_losses, label='Validation loss')  # 検証データセットの損失をプロット\n",
        "    plt.xlabel('Epoch')  # x軸のラベルを設定\n",
        "    plt.ylabel('Loss')  # y軸のラベルを設定\n",
        "    plt.xlim(left=0)  # x軸の表示範囲を設定\n",
        "    plt.ylim(bottom=0)  # y軸の表示範囲を設定\n",
        "    plt.legend()  # 凡例を表示\n",
        "    plt.show()  # グラフを表示\n",
        "\n",
        "    # エポックごとの損失を出力\n",
        "    print(\"Epoch:\", epoch + 1)\n",
        "    print(\"Train loss     : \", train_loss)\n",
        "    print(\"Validation loss: \", val_loss)\n",
        "\n",
        "    # 検証データセットに対する損失が改善しない場合の処理\n",
        "    if val_loss < best_val_loss:\n",
        "        best_val_loss = val_loss  # 最良の検証データセット損失を更新\n",
        "        trigger_times = 0  # 改善が見られないエポック数をリセット\n",
        "    else:\n",
        "        trigger_times += 1  # 改善が見られないエポック数をカウントアップ\n",
        "        if trigger_times >= patience:  # 許容回数を超えた場合の処理\n",
        "            print(f\"{epoch + 1} エポックで早期終了\")  # 早期終了のメッセージを出力\n",
        "            break  # 学習を終了\n",
        "\n",
        "print('学習終了')"
      ]
    },
    {
      "cell_type": "markdown",
      "source": [
        "### テスト\n",
        "訓練されたモデルを使用してテストデータセット上でのパフォーマンスを評価します。\n",
        "\n",
        "最終的な精度（正確に分類された画像の割合）を求めることができます。"
      ],
      "metadata": {
        "id": "9HBS1ndOBr4c"
      }
    },
    {
      "cell_type": "code",
      "execution_count": null,
      "metadata": {
        "id": "Yyy-1rmURR5s"
      },
      "outputs": [],
      "source": [
        "correct = 0  # 正解数のカウンターを初期化\n",
        "total = 0  # 全体の画像数のカウンターを初期化\n",
        "\n",
        "# 訓練モードでの計算を停止（推論モードに切り替える）\n",
        "with torch.no_grad():\n",
        "    # テストデータセットに対してループ\n",
        "    for data in testloader:\n",
        "        images, labels = data  # ミニバッチごとの画像とラベルを取得\n",
        "        images = images.to(device)  # GPUに画像を送る\n",
        "        labels = labels.to(device)  # GPUにラベルを送る\n",
        "\n",
        "        outputs = net(images)  # ネットワークに画像を入力し、出力を取得\n",
        "        _, predicted = torch.max(outputs.data, 1)  # 出力の中で最大の値を持つクラスを予測として取得\n",
        "        total += labels.size(0)  # ミニバッチ内の画像数を全体の画像数に加算\n",
        "        correct += (predicted == labels).sum().item()  # 予測が正しい場合、正解数をカウントアップ\n",
        "\n",
        "# 精度を計算して表示\n",
        "print('テスト画像における精度 %d %%' % (100 * correct / total))"
      ]
    },
    {
      "cell_type": "markdown",
      "source": [
        "個々の結果も見てみましょう。"
      ],
      "metadata": {
        "id": "DeuYZUrODa8F"
      }
    },
    {
      "cell_type": "code",
      "execution_count": null,
      "metadata": {
        "id": "qlN_iIbvRR5s"
      },
      "outputs": [],
      "source": [
        "# テストデータの画像を表示し、正解と推定値を表示する関数\n",
        "def visualize_test_predictions(start_idx, end_idx):\n",
        "    # テストデータローダーを作成\n",
        "    testloader = torch.utils.data.DataLoader(testset, batch_size=1,\n",
        "                                             shuffle=False, num_workers=2)\n",
        "\n",
        "    # 指定したインデックス範囲の画像とラベルを取得\n",
        "    images, labels = zip(*[(data[0], data[1]) for i, data in enumerate(testloader) if start_idx <= i < end_idx])\n",
        "\n",
        "    # モデルの予測結果を格納するリストを初期化\n",
        "    predicted_labels = []\n",
        "\n",
        "    # 推論モードで計算を停止\n",
        "    with torch.no_grad():\n",
        "        # 画像ごとに予測を行う\n",
        "        for image in images:\n",
        "            image = image.to(device)  # GPUに画像を送る\n",
        "            outputs = net(image)  # ネットワークに画像を入力し、出力を得る\n",
        "            _, predicted = torch.max(outputs, 1)  # 出力の中で最大の値を持つクラスを予測として取得\n",
        "            predicted_labels.append(predicted.item())  # 予測結果をリストに追加\n",
        "\n",
        "    # 画像とラベルを表示\n",
        "    for i in range(len(images)):\n",
        "        print(f\"画像 {start_idx + i}\")\n",
        "        imshow(torchvision.utils.make_grid(images[i]))  # 画像をグリッド形式で表示\n",
        "        print(f\"正解： {classes[labels[i]]}\")  # 正解ラベルを表示\n",
        "        print(f\"推定： {classes[predicted_labels[i]]}\\n\")  # 予測ラベルを表示\n",
        "\n",
        "# 例: インデックス範囲 0 から 5 の画像を表示\n",
        "visualize_test_predictions(0, 5)\n"
      ]
    }
  ],
  "metadata": {
    "kernelspec": {
      "display_name": "Python 3",
      "name": "python3"
    },
    "language_info": {
      "codemirror_mode": {
        "name": "ipython",
        "version": 3
      },
      "file_extension": ".py",
      "mimetype": "text/x-python",
      "name": "python",
      "nbconvert_exporter": "python",
      "pygments_lexer": "ipython3",
      "version": "3.8.5"
    },
    "colab": {
      "provenance": [],
      "gpuType": "T4",
      "include_colab_link": true
    },
    "accelerator": "GPU"
  },
  "nbformat": 4,
  "nbformat_minor": 0
}