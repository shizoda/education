{
  "cells": [
    {
      "cell_type": "markdown",
      "metadata": {
        "id": "view-in-github",
        "colab_type": "text"
      },
      "source": [
        "<a href=\"https://colab.research.google.com/github/shizoda/education/blob/main/machine_learning/text/Work2_Agent_LangChain_OpenRouter_Tavily.ipynb\" target=\"_parent\"><img src=\"https://colab.research.google.com/assets/colab-badge.svg\" alt=\"Open In Colab\"/></a>"
      ]
    },
    {
      "cell_type": "markdown",
      "metadata": {
        "id": "kqTucTGBn3EQ"
      },
      "source": [
        "# 🤖 AIエージェント実践編：LangChainでAIエージェントを作ろう\n",
        "\n",
        "前回の課題 `Work1_LLM_ReAct.ipynb` では、エージェントの思考サイクル（思考→行動→観察）を、私たちがひとつずつ手動で実行しました。AIエージェントの「自律性」が、LLM (大規模言語モデル) の対話能力を外部のツールと連携させるための一連の手順（プロトコル）で実現されていることを見てきました。\n",
        "\n",
        "しかし、手動のプロセスには、LLMへの指示を整形したり、LLMからの応答を解釈したりと、複雑なコードが必要となる処理が多く含まれていました。\n",
        "\n",
        "そこで今回は、AIエージェント開発のためのフレームワーク LangChain https://www.langchain.com を使います。LangChainは、LLM、ツール、プロンプトといったコンポーネントを協調させて動作させるための複雑な手順を自動化し、開発者が「エージェントに何をさせたいか」という目的に集中できるよう設計された有名なツールキットです。\n",
        "\n",
        "今回のゴールは、「最新のWeb情報をもとに旅行プランを提案してくれる AI エージェント」を、LangChainを使って効率的に構築することです。"
      ]
    },
    {
      "cell_type": "markdown",
      "metadata": {
        "id": "5Lg5_3Z1n0VJ"
      },
      "source": [
        "## ⚙️ステップ1：準備\n",
        "\n",
        "まず、必要なライブラリを `pip` でインストールします。\n",
        "\n",
        "AIエージェントが外部のサービス（LLMやWeb検索）を利用するには、認証のためのAPIキーが必要です。今回も2種類の鍵を用意します。\n",
        "\n",
        "- [OpenRouter](https://openrouter.ai/) APIキー: LLM を使うための鍵です。\n",
        "\n",
        "- [Tavily](https://www.tavily.com/) APIキー: Web検索ツールを使うための鍵です。\n",
        "\n",
        "このセルでは、これらのAPIキーをプログラムに読み込ませます。"
      ]
    },
    {
      "cell_type": "code",
      "source": [
        "!pip install langchain langchain-openai langchain-tavily grandalf"
      ],
      "metadata": {
        "id": "UbvynRAQaTxd"
      },
      "execution_count": null,
      "outputs": []
    },
    {
      "cell_type": "code",
      "execution_count": null,
      "metadata": {
        "id": "Rv4EbKbenv7u"
      },
      "outputs": [],
      "source": [
        "import os\n",
        "import asyncio\n",
        "import json\n",
        "from langchain_core.runnables.utils import AddableDict\n",
        "\n",
        "\n",
        "try: # Colab環境の場合\n",
        "    from google.colab import userdata\n",
        "    !pip install langchain langchain-openai langchain-tavily grandalf\n",
        "    openrouter_api_key = userdata.get('OPENROUTER_API_KEY')\n",
        "    tavily_api_key = userdata.get('TAVILY_API_KEY')\n",
        "except (ImportError, ModuleNotFoundError): # ローカル環境の場合\n",
        "    !pip install -U langchain langchain-openai langchain-tavily grandalf\n",
        "    # 直接文字列として設定します\n",
        "    openrouter_api_key = \"sk-or-v1-... 入力してください\"\n",
        "    tavily_api_key     = \"tvly-dev-... 入力してください\"\n",
        "\n",
        "os.environ[\"TAVILY_API_KEY\"] = tavily_api_key\n",
        "if not tavily_api_key or not openrouter_api_key:\n",
        "    print(\"❌ APIキーが設定されていません。OpenRouterとTavilyのサイトで取得して設定してください。\")\n",
        "else:\n",
        "    print(\"✅ APIキーの準備が完了しました！\")\n",
        "\n",
        "# LangSmithへの接続を無効にし、警告を非表示にする\n",
        "os.environ[\"LANGCHAIN_TRACING_V2\"] = \"false\""
      ]
    },
    {
      "cell_type": "markdown",
      "metadata": {
        "id": "svIAKk5KUEVY"
      },
      "source": [
        "### 🎯 演習 1：AIエージェントの「自律性」を理解しよう\n",
        "\n",
        "「自律性」や「創造性」といった魅力的な言葉の裏にある実際の技術を理解することが、AI を適切に開発・活用する第一歩です。\n",
        "\n",
        "📢 架空の宣伝文を読んでみましょう\n",
        "\n",
        "> 🚀 AI 旅行エージェント **TravelGPT Pro** 🌟\n",
        ">\n",
        "> ついに実現！完全自律型AIが、あなたの旅行を完璧にプランニング！\n",
        ">\n",
        "> - ✨ 真の自律性を実現：人間の介入なしで、AIが自ら考え、判断し、最適解を導き出します\n",
        ">\n",
        "> - 🧠 高度な思考能力：複雑な条件を理解し、創造的なアイデアを生み出す知的エージェント\n",
        ">\n",
        "> - 🔍 自発的情報収集：必要な情報を自ら判断して収集し、常に最新データで提案\n",
        ">\n",
        "> - 🎯 独立した意思決定：数千の選択肢から、あなたにとって最良のプランを自律的に選択\n",
        ">\n",
        "> もはや人間のガイドは不要！AIが完全に自律して旅行プランを提案します！\n",
        "\n",
        "🤔 この宣伝文について考え、「AI エージェントの自律性の限界」について、あなたの言葉でまとめてください。\n",
        "\n",
        "> （ヒント）まずは LLM の本質である「入力されたテキストの続きを生成する」という機能と、上記の宣伝文で謳われている能力を比較してみましょう。その上で、エージェントの「Thought:」や「Action:」が行っていることをを振り返ると、この宣伝文のどの部分が実態と異なるのか見えてくるでしょう。"
      ]
    },
    {
      "cell_type": "markdown",
      "source": [
        "（回答欄）\n"
      ],
      "metadata": {
        "id": "uFSge7AS_Ve9"
      }
    },
    {
      "cell_type": "markdown",
      "metadata": {
        "id": "bko56obQonEx"
      },
      "source": [
        "## ⚙️ステップ2：プロンプトの設計\n",
        "\n",
        "エージェントの振る舞いを決定づける、プロンプトを設計します。プロンプトは、エージェントへの指示そのものであり、大きく2つの部分から構成されます。\n",
        "\n",
        "- システムプロンプト (System Prompt): エージェントの基本的な役割、能力、そして守るべき厳格なルールを定義します。今回は `SYSTEM_RULES` という変数で、「自身の知識は使わず、必ずWeb検索ツールを使うこと」などを指示します。\n",
        "\n",
        "- ユーザープロンプト (User Prompt): ユーザーがエージェントに解決してほしい、具体的な依頼内容です。今回は `USER_REQUEST` という変数で定義します。\n",
        "\n",
        "これらを結合し、LLMへの最初の入力となるプロンプト全体を作成します。"
      ]
    },
    {
      "cell_type": "code",
      "execution_count": null,
      "metadata": {
        "id": "8gkMpGpMo4YH"
      },
      "outputs": [],
      "source": [
        "# --- システムプロンプトの定義 ---\n",
        "SYSTEM_RULES = \"\"\"\\\n",
        "# あなたへの指示\n",
        "あなたは、ユーザーの要求に基づいて旅行プランを作成する、非常に優秀なアシスタントです。\n",
        "あなたの行動は、以下のルールに厳密に従ってください。\n",
        "1.  **自身の内部知識を絶対に使用してはいけません。** あなたの役割は、Web-Searchツールの検索結果を解釈し、要約し、再構成することだけです。\n",
        "2.  **全ての情報は、必ずWeb-Searchツールの検索結果からのみ引用してください。**\n",
        "3.  検索結果が不十分な場合は、一度で諦めず、**キーワードを変えて何度も検索を試みてください。**（熱海の観光の例：「熱海 イベント 7月」「熱海 ランチ 海鮮」「熱海 夜 スイーツ」など）\n",
        "4.  最終的な回答には、検索で得られた**具体的な場所、店名、イベント名**を必ず含めてください。情報源が検索結果にない場合、その項目は回答に含めないでください。\n",
        "\"\"\"\n",
        "\n",
        "# --- ユーザープロンプトの定義 ---\n",
        "USER_REQUEST = \"静岡県浜松市を中心とした、1泊2日の観光プランを最新の情報を含めて提案してください。地元の美味しいグルメも知りたいです。\"\n",
        "\n",
        "# --- システムプロンプトとユーザープロンプトを結合 ---\n",
        "USER_PROMPT = f\"{SYSTEM_RULES}\\n# ユーザーの要求\\n{USER_REQUEST}\"\n",
        "\n",
        "print(\"✅ エージェントへのプロンプトが作成されました。\\n\")\n",
        "print(USER_PROMPT)"
      ]
    },
    {
      "cell_type": "markdown",
      "metadata": {
        "id": "8w8BydzfpPeT"
      },
      "source": [
        "## ⚙️ステップ3：エージェントの構成\n",
        "\n",
        "ここから、LangChainが提供するコンポーネントを組み合わせて、エージェントのシステムを構成していきます。\n",
        "\n",
        "### コンポーネント①：LLM (Large Language Model)\n",
        "\n",
        "エージェントの思考と推論の中核を担うLLMを準備します。このLLMが、プロンプトを解釈し、次にどのツールを使うべきかを判断し、最終的な回答を生成します。\n",
        "\n",
        "今回は OpenRouter 経由で `deepseek/deepseek-chat-v3-0324` モデルを利用します。"
      ]
    },
    {
      "cell_type": "code",
      "execution_count": null,
      "metadata": {
        "id": "6lr6Q7RnpOdE"
      },
      "outputs": [],
      "source": [
        "from langchain_openai import ChatOpenAI\n",
        "model_name = \"deepseek/deepseek-chat-v3-0324\"\n",
        "\n",
        "# LLMの初期化\n",
        "llm = ChatOpenAI(\n",
        "    model = model_name,\n",
        "    temperature=0.2,\n",
        "    openai_api_base=\"https://openrouter.ai/api/v1\",\n",
        "    openai_api_key=openrouter_api_key,\n",
        ")\n",
        "print(\"🧠 LLMコンポーネントの準備ができました。\")"
      ]
    },
    {
      "cell_type": "markdown",
      "source": [
        "まずは LLM が正常に応答するかどうか確認してみましょう。"
      ],
      "metadata": {
        "id": "jWhfGRfwm9Gt"
      }
    },
    {
      "cell_type": "code",
      "metadata": {
        "id": "bad34a40"
      },
      "source": [
        "print(\"\\n🤖 LLMによる簡単な会話応答を試します...\")\n",
        "test_message = \"こんにちは、自己紹介をしてください。\"\n",
        "response = llm.invoke(test_message)\n",
        "print(f\"ユーザーからのメッセージ: {test_message}\")\n",
        "print(f\"LLMからの応答:\\n{response.content}\")\n",
        "print(\"🤖 LLMによる会話応答テストが完了しました。\")"
      ],
      "execution_count": null,
      "outputs": []
    },
    {
      "cell_type": "markdown",
      "metadata": {
        "id": "aPkWr7Y1p37a"
      },
      "source": [
        "### コンポーネント②：ツール (Tools)\n",
        "\n",
        "エージェントに、LLMが元々持っていない能力を与えるためのコンポーネントです。今回はTavilySearchというWeb検索ツールを定義します。LLMは、description（ツールの説明）を読んで、どのような場合にこのツールが役立つかを理解します。\n",
        "\n",
        "Tavily は Google 検索と似ていますが、**「AIエージェントのための検索エンジン」**です。私たちが普段使うGoogle検索は人間が見ることを前提に、広告や関連情報など様々な要素が表示されますが、Tavilyは以下の点でAIエージェントに特化しています。\n",
        "\n",
        "- AIが読みやすい形式：検索結果を単に返すだけでなく、AIが理解しやすいように要約・整理してくれます。これにより、LLMは情報の要点を素早く掴むことができます。\n",
        "- ノイズの除去：AIの判断を鈍らせる広告や不要な情報を極力排除し、信頼性の高い情報源を優先します。\n",
        "- ワンストップ処理：単なる検索だけでなく、Webサイトの内容を読み取って（スクレイピング）、関連性の高い情報だけを抽出する処理までを一つのAPIコールで行ってくれます。\n",
        "\n",
        "これらのAIフレンドリーな性質により、エージェントはより正確で効率的な情報収集が可能になります。"
      ]
    },
    {
      "cell_type": "code",
      "execution_count": null,
      "metadata": {
        "id": "nvZqjn8KqUOv"
      },
      "outputs": [],
      "source": [
        "from langchain_tavily import TavilySearch\n",
        "\n",
        "# ツールの初期化\n",
        "tavily_tool = TavilySearch(max_results=5)\n",
        "tavily_tool.name = \"Web-Search\"\n",
        "tavily_tool.description = \"観光スポット、レストラン、イベントなど最新の情報を検索するのに使う\"\n",
        "tools = [tavily_tool]\n",
        "\n",
        "print(\"🔧 ツールコンポーネントの準備ができました。\")"
      ]
    },
    {
      "cell_type": "markdown",
      "metadata": {
        "id": "nPUlegZVqp7J"
      },
      "source": [
        "### プロンプトテンプレート (Prompt Template)\n",
        "\n",
        "ReAct（Reason-Act）という思考フレームワークを実行するための、特殊な形式のプロンプトテンプレートです。LangChain Hubから実績のあるテンプレートを `hub.pull` で取得します。このテンプレートが、LLMに「Thought:（思考）」と「Action:（行動）」の形式で出力を生成するように促します。"
      ]
    },
    {
      "cell_type": "markdown",
      "metadata": {
        "id": "QGu7VKMCzKFj"
      },
      "source": [
        "#### 基本構造\n",
        "\n",
        "- Template:\n",
        "\n",
        "アシスタントの基本的な能力の説明\n",
        "\n",
        "- TOOLS:\n",
        "`{tools}` ← ここに使用可能なツールのリストが挿入される。コンポーネント②参照\n",
        "\n",
        "- フォーマット指示:\n",
        " - **Thought**: Do I need to use a tool? Yes/No\n",
        " - **Action**: ツール名\n",
        " - **Action Input**: ツールへの入力\n",
        " - **Observation**: ツールの実行結果\n",
        "\n",
        "- Previous conversation history: `{chat_history}`  ←過去の会話\n",
        "\n",
        "- New input: `{input}` ← ユーザーからの新しい入力\n",
        "\n",
        "- `{agent_scratchpad}` ← エージェントの思考過程が蓄積される場所"
      ]
    },
    {
      "cell_type": "code",
      "execution_count": null,
      "metadata": {
        "id": "T7bYZrqFrEm3"
      },
      "outputs": [],
      "source": [
        "from langchain import hub\n",
        "\n",
        "# プロンプトテンプレートの取得\n",
        "prompt = hub.pull(\"hwchase17/react-chat\")\n",
        "print(\"📖 プロンプトテンプレートの準備ができました。\\n\")\n",
        "print(\"--- プロンプトテンプレートの構造 ここから ---\")\n",
        "\n",
        "# PromptTemplate の場合は 'template' 属性を直接参照します\n",
        "print(f\"Template:\\n{prompt.template}\\n\")\n",
        "\n",
        "print(\"--- プロンプトテンプレートの構造 ここまで ---\\n以下の警告は無視してください\")"
      ]
    },
    {
      "cell_type": "markdown",
      "metadata": {
        "id": "0GVRoJsSrnda"
      },
      "source": [
        "### コンポーネント④+⑤：エージェント (Agent) と AgentExecutor\n",
        "\n",
        "最後に、これまで準備したコンポーネントを統合し、実際にエージェントを稼働させるための仕組みを構築します。\n",
        "\n",
        "- `create_react_agent`: LLM、ツール、プロンプトテンプレートを結合し、ReActのロジックに従って動作するエージェントを定義します。これはエージェントの振る舞いを定義した、いわば「実行可能なレシピ」です。\n",
        "\n",
        "- `AgentExecutor`: 定義されたエージェントを実際に実行するための**ランタイム（実行環境）**です。AgentExecutorは、ReActの思考サイクル（Thought→Action→Observation）を自律的に回す役割を担います。具体的には、LLMからの出力を解析してツールを実行し、その結果を次のLLMへの入力に含める、といった一連の処理を自動で行います。"
      ]
    },
    {
      "cell_type": "code",
      "execution_count": null,
      "metadata": {
        "id": "XZVwNJuAsF76"
      },
      "outputs": [],
      "source": [
        "# 前のステップで作成したllm, tools, promptを再利用します\n",
        "from langchain_openai import ChatOpenAI\n",
        "from langchain_tavily import TavilySearch\n",
        "from langchain.agents import create_react_agent\n",
        "\n",
        "# エージェントの定義\n",
        "agent = create_react_agent(llm, tools, prompt)\n",
        "print(\"🧑‍🔬 エージェント（設計図）が完成しました。\")\n",
        "\n",
        "# print(\"--- Agentの構造（データフローグラフ） ---\")\n",
        "# agent.get_graph().print_ascii()"
      ]
    },
    {
      "cell_type": "code",
      "execution_count": null,
      "metadata": {
        "id": "DavQzieEwVFy"
      },
      "outputs": [],
      "source": [
        "from langchain.agents import AgentExecutor, create_react_agent\n",
        "\n",
        "# 設計図の作成\n",
        "agent = create_react_agent(llm, tools, prompt)\n",
        "\n",
        "# 運用システムの作成\n",
        "agent_executor = AgentExecutor(agent=agent, tools=tools, verbose=True)\n",
        "print(\"🚀 エージェントの「運用システム」が起動準備完了！\")"
      ]
    },
    {
      "cell_type": "markdown",
      "metadata": {
        "id": "gKBwcyD13uRW"
      },
      "source": [
        "### 完成したプロンプト\n",
        "\n",
        "最終的に以下のような内容のプロンプトが LLM に与えられています。"
      ]
    },
    {
      "cell_type": "code",
      "execution_count": null,
      "metadata": {
        "id": "von05IrT5J6Q"
      },
      "outputs": [],
      "source": [
        "# プロンプトテンプレートに実際の値を入力\n",
        "filled_prompt = prompt.format(\n",
        "    tools=\"\\n\".join([f\"{tool.name}: {tool.description}\" for tool in tools]),\n",
        "    tool_names=\", \".join([tool.name for tool in tools]),\n",
        "    input=USER_PROMPT,\n",
        "    chat_history=\"\",\n",
        "    agent_scratchpad=\"\"\n",
        ")\n",
        "\n",
        "print(\"=\"*80)\n",
        "print(\"🔍 プロンプトテンプレートに実際の値を入力した完全なプロンプト\")\n",
        "print(\"=\"*80)\n",
        "print()\n",
        "print(filled_prompt)\n",
        "print()\n",
        "print(\"=\"*80)\n",
        "print(\"📝 各変数の内容\")\n",
        "print(\"=\"*80)\n",
        "print()\n",
        "print(\"【tools】:\")\n",
        "for tool in tools:\n",
        "    print(f\"  - {tool.name}: {tool.description}\")\n",
        "print()\n",
        "print(\"【tool_names】:\")\n",
        "print(f\"  {', '.join([tool.name for tool in tools])}\")\n",
        "print()\n",
        "print(\"【input】:\")\n",
        "print(f\"  {USER_PROMPT}\")\n",
        "print()\n",
        "print(\"【chat_history】:\")\n",
        "print(\"  (空白 - 新しい会話のため)\")\n",
        "print()\n",
        "print(\"【agent_scratchpad】:\")\n",
        "print(\"  (空白 - まだ思考履歴がないため)\")"
      ]
    },
    {
      "cell_type": "markdown",
      "metadata": {
        "id": "FmtC52ybrPUT"
      },
      "source": [
        "### ⚙️ステップ4：エージェントの実行\n",
        "\n",
        "すべてのコンポーネントが整いました。AgentExecutorに、最初のプロンプト（USER_PROMPT）を渡して、処理を実行してもらいます。\n",
        "\n",
        "エージェントの実行にはainvokeという非同期メソッドを使用します。AgentExecutorのverbose=True設定により、実行中にReActのサイクル（Thought:, Action:, Observation:）がコンソールに出力され、エージェントの思考プロセスをリアルタイムで追跡できます。"
      ]
    },
    {
      "cell_type": "code",
      "execution_count": null,
      "metadata": {
        "id": "q05SDSl4rWQw"
      },
      "outputs": [],
      "source": [
        "# エージェント実行\n",
        "response = await agent_executor.ainvoke({\n",
        "    \"input\": USER_PROMPT,\n",
        "    \"chat_history\": []\n",
        "})\n",
        "\n",
        "print(\"\\n\" + \"=\"*80)\n",
        "print(\"🏁 エージェント実行完了\")\n",
        "print(\"=\"*80)\n",
        "print(\"\\n📋 最終的な観光プラン:\")\n",
        "print(\"-\" * 50)\n",
        "print(response['output'])\n"
      ]
    },
    {
      "cell_type": "markdown",
      "metadata": {
        "id": "Bl8ufG_C-85l"
      },
      "source": [
        "## ✍️ まとめ\n",
        "\n",
        "ここまでLangChainを使って自律型エージェントを動かすことができながら、以下のことを学びました。\n",
        "\n",
        "- **エージェントの仕組み**: LLMの対話能力を、ツールやプロンプトテンプレートといった部品と組み合わせ、明確な手順（プロトコル）に従ってサイクルを回すことで実現されている。\n",
        "\n",
        "- **LangChainの価値**: この複雑なサイクルを管理するために必要な「プロンプト整形」「応答解析」「ツール実行」「状態管理」といった面倒な仕事をすべて肩代わりしてくれる開発基盤である。\n",
        "\n",
        "- **思考の可視化**: エージェントが「何を考え (Thought)」「どんな検索クエリを投げ (Action Input)」「どんな情報を得たのか (Observation)」を具体的に見ることで、その挙動がより深く理解できる。\n",
        "\n",
        "エージェントの基本原理と、それを支えるフレームワークの役割を理解した今、あなたはより複雑なツールや複数のエージェントを組み合わせた、高度なアプリケーション開発に挑戦する準備ができました。\n"
      ]
    },
    {
      "cell_type": "markdown",
      "metadata": {
        "id": "_uGSKQtjAIER"
      },
      "source": [
        "## 🗾 演習2：別の地域の旅行プランを作成する\n",
        "`USER_REQUEST` を以下のようなものに変更して、エージェントがどのような検索を行うか観察してください。\n"
      ]
    },
    {
      "cell_type": "markdown",
      "metadata": {
        "id": "A3luDb0EBzbG"
      },
      "source": [
        "```\n",
        "# 例1\n",
        "長野県軽井沢を中心とした、2泊3日の観光プランを最新の情報を含めて提案してください。アウトドア活動も楽しみたいです。\n",
        "\n",
        "# 例2\n",
        "神奈川県箱根を中心とした、1泊2日の温泉旅行プランを最新の情報を含めて提案してください。季節のイベントも知りたいです。\n",
        "\n",
        "# 例3\n",
        "大阪市内を中心とした日帰り観光プランを最新の情報を含めて提案してください。大阪万博の最新情報もほしいです。\n",
        "```"
      ]
    },
    {
      "cell_type": "markdown",
      "metadata": {
        "id": "_7WDqBOYAuCP"
      },
      "source": [
        "## 🔍 演習3：異なる分野の専門エージェントを作成する\n",
        "`SYSTEM_RULES` と `USER_REQUEST` を変更して、旅行以外の専門エージェントを作ってみましょう。"
      ]
    },
    {
      "cell_type": "markdown",
      "metadata": {
        "id": "IFKOOudmA_MV"
      },
      "source": [
        "```\n",
        "SYSTEM_RULES = \"\"\"\n",
        "# あなたへの指示\n",
        "あなたは、ユーザーの要求に基づいて料理レシピを提案する、非常に優秀なアシスタントです。\n",
        "あなたの行動は、以下のルールに厳密に従ってください。\n",
        "1. **自身の内部知識を絶対に使用してはいけません。** あなたの役割は、Web-Searchツールの検索結果を解釈し、要約し、再構成することだけです。\n",
        "2. **全ての情報は、必ずWeb-Searchツールの検索結果からのみ引用してください。**\n",
        "3. 検索結果が不十分な場合は、一度で諦めず、**キーワードを変えて何度も検索を試みてください。**\n",
        "4. 最終的な回答には、検索で得られた**具体的な材料、調理時間、手順**を必ず含めてください。\n",
        "\"\"\"\n",
        "\n",
        "USER_REQUEST = \"鶏むね肉を使った、簡単で美味しい夕食のレシピを3つ提案してください。調理時間は30分以内でお願いします。\"\n",
        "```"
      ]
    },
    {
      "cell_type": "markdown",
      "metadata": {
        "id": "42CBH3XOBFb5"
      },
      "source": [
        "```\n",
        "SYSTEM_RULES = \"\"\"\n",
        "# あなたへの指示\n",
        "あなたは、ユーザーの要求に基づいて投資情報を調査する、非常に優秀なアシスタントです。\n",
        "あなたの行動は、以下のルールに厳密に従ってください。\n",
        "1. **自身の内部知識を絶対に使用してはいけません。** あなたの役割は、Web-Searchツールの検索結果を解釈し、要約し、再構成することだけです。\n",
        "2. **全ての情報は、必ずWeb-Searchツールの検索結果からのみ引用してください。**\n",
        "3. 検索結果が不十分な場合は、一度で諦めず、**キーワードを変えて何度も検索を試みてください。**\n",
        "4. 最終的な回答には、検索で得られた**具体的な数値、日付、出典**を必ず含めてください。\n",
        "\"\"\"\n",
        "\n",
        "USER_REQUEST = \"トルコの政治動向をもとに、今後のトルコリラの見通しについて調査してください。\"\n",
        "```"
      ]
    },
    {
      "cell_type": "markdown",
      "metadata": {
        "id": "5xaZ_TZ7CKkE"
      },
      "source": [
        "## 💡 エージェントをさらに強化するには\n",
        "\n",
        "ここからはより高度な機能についてご紹介します。演習は行いませんが、どのような改善が可能かを知っておきましょう。\n",
        "\n",
        "### 🛠️ エラーハンドリングの改善\n",
        "今回のNotebookでも出力パースエラーが発生する場合がありました。これは、LLMが期待される形式で出力しない場合に起こります。`AgentExecutor`に`handle_parsing_errors=True`を設定すると、エラー時にエージェントが自動的に再試行してくれるようになります。\n",
        "\n",
        "### 🎯 システムプロンプトの改良\n",
        "より具体的な検索戦略をプロンプトに含めることで、エージェントの性能を向上させることができます。例えば：\n",
        "- 一般的なキーワードから始めて、徐々に具体的に絞り込む戦略\n",
        "- 最新情報のために年月を含めた検索\n",
        "- 実用的な情報（アクセス、料金など）も忘れずに調べる指示\n",
        "\n",
        "### 🔧 複数ツールの組み合わせ\n",
        "Web検索だけでなく、計算ツールや翻訳ツールなど、複数のツールを組み合わせることで、より多様なタスクに対応できるエージェントを作成できます。\n",
        "\n",
        "## 🌐 LangGraphについて知ろう\n",
        "\n",
        "LangChainでエージェントの基本を理解したら、次のステップとして **LangGraph** についても知っておきましょう！\n",
        "\n",
        "### 🤔 LangGraphとは？\n",
        "LangGraphは、より複雑なAIワークフローを構築するためのフレームワークです。LangChainが「1つのエージェントが順番に思考→行動→観察を繰り返す」のに対し、LangGraphでは「複数のステップが複雑に連携するワークフロー」を作ることができます。\n",
        "\n",
        "### 🔄 LangChainとLangGraphの違い\n",
        "\n",
        "**LangChain（今回学んだもの）：**\n",
        "- シンプルな直線的フロー\n",
        "- 1つのエージェントが自律的に動作\n",
        "- ReActのような決まったパターンに従う\n",
        "\n",
        "**LangGraph：**\n",
        "- 複雑な分岐やループを含むワークフロー\n",
        "- 複数のエージェントが協調して動作\n",
        "- 条件に応じて処理の流れを変更可能\n",
        "- 人間の承認を途中で挟むことも可能\n",
        "\n",
        "### 🎯 LangGraphが役立つ場面\n",
        "\n",
        "**例1：マルチエージェント協調** 👥\n",
        "- 研究エージェント：情報収集を担当\n",
        "- 分析エージェント：データを分析\n",
        "- 報告エージェント：結果をまとめる\n",
        "\n",
        "**例2：条件分岐ワークフロー** 🌳\n",
        "- 質問の種類を判定\n",
        "- 技術的質問 → 技術専門エージェント\n",
        "- ビジネス質問 → ビジネス専門エージェント\n",
        "- 一般質問 → 汎用エージェント\n",
        "\n",
        "**例3：人間の承認を含むワークフロー** ✋\n",
        "- AIが提案を作成\n",
        "- 人間が承認・修正\n",
        "- 承認されたら次のステップに進む\n",
        "\n",
        "### 🚀 学習の進め方\n",
        "1. **今回のLangChain**でエージェントの基本を理解\n",
        "2. **演習問題**で実際に手を動かして経験を積む\n",
        "3. **LangGraph**でより複雑なワークフローの構築に挑戦\n",
        "\n",
        "LangGraphは、今回学んだ基礎知識があれば理解しやすくなります。まずは基礎をしっかり固めてから、次のステップに進みましょう。\n"
      ]
    }
  ],
  "metadata": {
    "colab": {
      "provenance": []
    },
    "kernelspec": {
      "display_name": "Python 3 (ipykernel)",
      "language": "python",
      "name": "python3"
    },
    "language_info": {
      "codemirror_mode": {
        "name": "ipython",
        "version": 3
      },
      "file_extension": ".py",
      "mimetype": "text/x-python",
      "name": "python",
      "nbconvert_exporter": "python",
      "pygments_lexer": "ipython3",
      "version": "3.11.9"
    }
  },
  "nbformat": 4,
  "nbformat_minor": 0
}
