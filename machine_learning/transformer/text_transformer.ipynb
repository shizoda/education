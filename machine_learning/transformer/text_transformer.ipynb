{
  "nbformat": 4,
  "nbformat_minor": 0,
  "metadata": {
    "colab": {
      "provenance": [],
      "gpuType": "T4",
      "authorship_tag": "ABX9TyPKepkBUaLznAgocsrEfCh2",
      "include_colab_link": true
    },
    "kernelspec": {
      "name": "python3",
      "display_name": "Python 3"
    },
    "language_info": {
      "name": "python"
    },
    "accelerator": "GPU"
  },
  "cells": [
    {
      "cell_type": "markdown",
      "metadata": {
        "id": "view-in-github",
        "colab_type": "text"
      },
      "source": [
        "<a href=\"https://colab.research.google.com/github/shizoda/education/blob/main/machine_learning/transformer/text_transformer.ipynb\" target=\"_parent\"><img src=\"https://colab.research.google.com/assets/colab-badge.svg\" alt=\"Open In Colab\"/></a>"
      ]
    },
    {
      "cell_type": "code",
      "source": [
        "import torch\n",
        "assert torch.cuda.is_available()\n",
        "\n",
        "# CUDA 利用\n",
        "device = torch.device(\"cuda\" if torch.cuda.is_available() else \"cpu\")\n",
        "\n",
        "import matplotlib.pyplot as plt\n",
        "import seaborn as sns\n",
        "from transformers import AutoTokenizer, AutoModelForSeq2SeqLM\n",
        "\n",
        "# 解説: Hugging Face Transformers ライブラリを使用して、事前学習済みモデルをロードします。\n",
        "# 今回は t5-small モデルを使用します。\n",
        "\n",
        "# 学習済みモデルとトークナイザをロード\n",
        "model_name = \"t5-small\"\n",
        "tokenizer = AutoTokenizer.from_pretrained(model_name)\n",
        "model = AutoModelForSeq2SeqLM.from_pretrained(model_name)\n",
        "model.to(device)"
      ],
      "metadata": {
        "colab": {
          "base_uri": "https://localhost:8080/"
        },
        "id": "7g0Ra_JeEYkH",
        "outputId": "f7be372a-bed1-4143-8b98-b3d03586975b"
      },
      "execution_count": 32,
      "outputs": [
        {
          "output_type": "execute_result",
          "data": {
            "text/plain": [
              "T5ForConditionalGeneration(\n",
              "  (shared): Embedding(32128, 512)\n",
              "  (encoder): T5Stack(\n",
              "    (embed_tokens): Embedding(32128, 512)\n",
              "    (block): ModuleList(\n",
              "      (0): T5Block(\n",
              "        (layer): ModuleList(\n",
              "          (0): T5LayerSelfAttention(\n",
              "            (SelfAttention): T5Attention(\n",
              "              (q): Linear(in_features=512, out_features=512, bias=False)\n",
              "              (k): Linear(in_features=512, out_features=512, bias=False)\n",
              "              (v): Linear(in_features=512, out_features=512, bias=False)\n",
              "              (o): Linear(in_features=512, out_features=512, bias=False)\n",
              "              (relative_attention_bias): Embedding(32, 8)\n",
              "            )\n",
              "            (layer_norm): T5LayerNorm()\n",
              "            (dropout): Dropout(p=0.1, inplace=False)\n",
              "          )\n",
              "          (1): T5LayerFF(\n",
              "            (DenseReluDense): T5DenseActDense(\n",
              "              (wi): Linear(in_features=512, out_features=2048, bias=False)\n",
              "              (wo): Linear(in_features=2048, out_features=512, bias=False)\n",
              "              (dropout): Dropout(p=0.1, inplace=False)\n",
              "              (act): ReLU()\n",
              "            )\n",
              "            (layer_norm): T5LayerNorm()\n",
              "            (dropout): Dropout(p=0.1, inplace=False)\n",
              "          )\n",
              "        )\n",
              "      )\n",
              "      (1-5): 5 x T5Block(\n",
              "        (layer): ModuleList(\n",
              "          (0): T5LayerSelfAttention(\n",
              "            (SelfAttention): T5Attention(\n",
              "              (q): Linear(in_features=512, out_features=512, bias=False)\n",
              "              (k): Linear(in_features=512, out_features=512, bias=False)\n",
              "              (v): Linear(in_features=512, out_features=512, bias=False)\n",
              "              (o): Linear(in_features=512, out_features=512, bias=False)\n",
              "            )\n",
              "            (layer_norm): T5LayerNorm()\n",
              "            (dropout): Dropout(p=0.1, inplace=False)\n",
              "          )\n",
              "          (1): T5LayerFF(\n",
              "            (DenseReluDense): T5DenseActDense(\n",
              "              (wi): Linear(in_features=512, out_features=2048, bias=False)\n",
              "              (wo): Linear(in_features=2048, out_features=512, bias=False)\n",
              "              (dropout): Dropout(p=0.1, inplace=False)\n",
              "              (act): ReLU()\n",
              "            )\n",
              "            (layer_norm): T5LayerNorm()\n",
              "            (dropout): Dropout(p=0.1, inplace=False)\n",
              "          )\n",
              "        )\n",
              "      )\n",
              "    )\n",
              "    (final_layer_norm): T5LayerNorm()\n",
              "    (dropout): Dropout(p=0.1, inplace=False)\n",
              "  )\n",
              "  (decoder): T5Stack(\n",
              "    (embed_tokens): Embedding(32128, 512)\n",
              "    (block): ModuleList(\n",
              "      (0): T5Block(\n",
              "        (layer): ModuleList(\n",
              "          (0): T5LayerSelfAttention(\n",
              "            (SelfAttention): T5Attention(\n",
              "              (q): Linear(in_features=512, out_features=512, bias=False)\n",
              "              (k): Linear(in_features=512, out_features=512, bias=False)\n",
              "              (v): Linear(in_features=512, out_features=512, bias=False)\n",
              "              (o): Linear(in_features=512, out_features=512, bias=False)\n",
              "              (relative_attention_bias): Embedding(32, 8)\n",
              "            )\n",
              "            (layer_norm): T5LayerNorm()\n",
              "            (dropout): Dropout(p=0.1, inplace=False)\n",
              "          )\n",
              "          (1): T5LayerCrossAttention(\n",
              "            (EncDecAttention): T5Attention(\n",
              "              (q): Linear(in_features=512, out_features=512, bias=False)\n",
              "              (k): Linear(in_features=512, out_features=512, bias=False)\n",
              "              (v): Linear(in_features=512, out_features=512, bias=False)\n",
              "              (o): Linear(in_features=512, out_features=512, bias=False)\n",
              "            )\n",
              "            (layer_norm): T5LayerNorm()\n",
              "            (dropout): Dropout(p=0.1, inplace=False)\n",
              "          )\n",
              "          (2): T5LayerFF(\n",
              "            (DenseReluDense): T5DenseActDense(\n",
              "              (wi): Linear(in_features=512, out_features=2048, bias=False)\n",
              "              (wo): Linear(in_features=2048, out_features=512, bias=False)\n",
              "              (dropout): Dropout(p=0.1, inplace=False)\n",
              "              (act): ReLU()\n",
              "            )\n",
              "            (layer_norm): T5LayerNorm()\n",
              "            (dropout): Dropout(p=0.1, inplace=False)\n",
              "          )\n",
              "        )\n",
              "      )\n",
              "      (1-5): 5 x T5Block(\n",
              "        (layer): ModuleList(\n",
              "          (0): T5LayerSelfAttention(\n",
              "            (SelfAttention): T5Attention(\n",
              "              (q): Linear(in_features=512, out_features=512, bias=False)\n",
              "              (k): Linear(in_features=512, out_features=512, bias=False)\n",
              "              (v): Linear(in_features=512, out_features=512, bias=False)\n",
              "              (o): Linear(in_features=512, out_features=512, bias=False)\n",
              "            )\n",
              "            (layer_norm): T5LayerNorm()\n",
              "            (dropout): Dropout(p=0.1, inplace=False)\n",
              "          )\n",
              "          (1): T5LayerCrossAttention(\n",
              "            (EncDecAttention): T5Attention(\n",
              "              (q): Linear(in_features=512, out_features=512, bias=False)\n",
              "              (k): Linear(in_features=512, out_features=512, bias=False)\n",
              "              (v): Linear(in_features=512, out_features=512, bias=False)\n",
              "              (o): Linear(in_features=512, out_features=512, bias=False)\n",
              "            )\n",
              "            (layer_norm): T5LayerNorm()\n",
              "            (dropout): Dropout(p=0.1, inplace=False)\n",
              "          )\n",
              "          (2): T5LayerFF(\n",
              "            (DenseReluDense): T5DenseActDense(\n",
              "              (wi): Linear(in_features=512, out_features=2048, bias=False)\n",
              "              (wo): Linear(in_features=2048, out_features=512, bias=False)\n",
              "              (dropout): Dropout(p=0.1, inplace=False)\n",
              "              (act): ReLU()\n",
              "            )\n",
              "            (layer_norm): T5LayerNorm()\n",
              "            (dropout): Dropout(p=0.1, inplace=False)\n",
              "          )\n",
              "        )\n",
              "      )\n",
              "    )\n",
              "    (final_layer_norm): T5LayerNorm()\n",
              "    (dropout): Dropout(p=0.1, inplace=False)\n",
              "  )\n",
              "  (lm_head): Linear(in_features=512, out_features=32128, bias=False)\n",
              ")"
            ]
          },
          "metadata": {},
          "execution_count": 32
        }
      ]
    },
    {
      "cell_type": "code",
      "execution_count": 84,
      "metadata": {
        "colab": {
          "base_uri": "https://localhost:8080/"
        },
        "id": "OXRuFyFjEFK0",
        "outputId": "c6767c04-1868-4f13-e38f-071106867bbe"
      },
      "outputs": [
        {
          "output_type": "stream",
          "name": "stdout",
          "text": [
            "Tokenized Input IDs: tensor([[21603,    10,    37,  1712,     6,    84,    19, 25155,    11,   872,\n",
            "             6,    19,     3, 22020,     3,     9,   422,  8429,     5,    37,\n",
            "          8429,     6,  1704,    11, 13183,     6,   649,    17,     7,   365,\n",
            "             8,   953,     6,  6055,    12,   253, 14330,     5,     1]],\n",
            "       device='cuda:0')\n",
            "Tokens: ['▁summarize', ':', '▁The', '▁cat', ',', '▁which', '▁is', '▁fluffy', '▁and', '▁white', ',', '▁is', '▁', 'chasing', '▁', 'a', '▁small', '▁mouse', '.', '▁The', '▁mouse', ',', '▁quick', '▁and', '▁clever', ',', '▁dar', 't', 's', '▁under', '▁the', '▁table', ',', '▁hoping', '▁to', '▁find', '▁refuge', '.', '</s>']\n"
          ]
        }
      ],
      "source": [
        "# 要約対象の入力文\n",
        "input_text = \"The cat, which is fluffy and white, is chasing a small mouse. The mouse, quick and clever, darts under the table, hoping to find refuge.\"\n",
        "# エンコーダの処理を理解するために、エンコーダ入力を準備\n",
        "# 解説: エンコーダに渡す入力は「Prefix + 入力文」の形式で与えます。\n",
        "task_prefix = \"summarize: \"\n",
        "input_text_with_prefix = task_prefix + input_text\n",
        "\n",
        "# トークナイズ (テキストをトークンに変換)\n",
        "input_ids = tokenizer(input_text_with_prefix, return_tensors=\"pt\").input_ids\n",
        "input_ids = input_ids.to(device)\n",
        "\n",
        "print(\"Tokenized Input IDs:\", input_ids)\n",
        "print(\"Tokens:\", tokenizer.convert_ids_to_tokens(input_ids[0]))\n"
      ]
    },
    {
      "cell_type": "code",
      "source": [
        "# エンコーダの出力を取得\n",
        "# 解説: エンコーダは入力文を受け取り、トークンの「特徴」を圧縮した表現 (エンコーダの出力) を生成します。\n",
        "with torch.no_grad():\n",
        "    encoder_outputs = model.encoder(input_ids=input_ids)\n",
        "\n",
        "# エンコーダの出力\n",
        "print(\"Encoder Outputs Shape:\", encoder_outputs.last_hidden_state.shape)\n",
        "# 解説: 出力は [バッチサイズ, シーケンス長, 隠れ層の次元数] の形状を持ちます。"
      ],
      "metadata": {
        "colab": {
          "base_uri": "https://localhost:8080/"
        },
        "id": "phVPq2chLYOZ",
        "outputId": "89cf47f5-528e-44b2-c00b-29f3d0c88ff2"
      },
      "execution_count": 85,
      "outputs": [
        {
          "output_type": "stream",
          "name": "stdout",
          "text": [
            "Encoder Outputs Shape: torch.Size([1, 39, 512])\n"
          ]
        }
      ]
    },
    {
      "cell_type": "code",
      "source": [
        "# Query, Key, Value の役割を理解するための解説\n",
        "# Query: 注目したい単語 (またはトークン) の情報を持つベクトル。\n",
        "# Key: 各トークンの「特徴」を表すベクトル。\n",
        "# Value: Key に基づいて取り出される実際の情報を持つベクトル。\n",
        "# Self-Attention の仕組み: Query と Key の内積を計算し、他のトークンへの重要度 (スコア) を取得します。そのスコアを基に Value を重み付けして足し合わせ、各トークンに関連する情報を生成します。\n",
        "\n",
        "# エンコーダの出力が要約作成にどう役立つかを観察する\n",
        "# 解説: エンコーダの出力は各トークンの意味を含む圧縮された特徴表現です。\n",
        "# この特徴表現は文全体の文脈を捉えており、要約を生成する際に役立ちます。\n",
        "# 具体的には、デコーダがエンコーダ出力を利用して重要な情報を抽出し、短い文にまとめます。\n",
        "\n",
        "# トークン間の重みを可視化するためのコード\n",
        "# 特定のトークンに着目し、他のトークンへの重みを可視化します。\n",
        "def visualize_attention_weights(encoder_outputs, tokenizer, input_ids, target_token_index, head_index):\n",
        "    # CUDA対応: エンコーダ出力をCPUに移動し、特定のヘッドのアテンションを見る\n",
        "    attention_scores = encoder_outputs.last_hidden_state[0].cpu().detach().numpy()\n",
        "    tokens = tokenizer.convert_ids_to_tokens(input_ids[0].cpu().numpy())\n",
        "\n",
        "    # マルチヘッドアテンションの各ヘッドを分割\n",
        "    num_heads = attention_scores.shape[-1] // len(tokens)  # ヘッド数を計算\n",
        "    head_dimension = attention_scores.shape[-1] // num_heads\n",
        "\n",
        "    # 指定されたヘッドのスコアを抽出\n",
        "    head_start = head_index * head_dimension\n",
        "    head_end = head_start + head_dimension\n",
        "    target_token_vector = attention_scores[target_token_index, head_start:head_end]\n",
        "\n",
        "    # 内積を計算して重みを得る (指定ヘッド内でのみ計算)\n",
        "    attention_weights = []\n",
        "    for token_index in range(len(tokens)):\n",
        "        token_vector = attention_scores[token_index, head_start:head_end]\n",
        "        score = (token_vector @ target_token_vector).item()\n",
        "        attention_weights.append(score)\n",
        "\n",
        "    # スコアを正規化 (Softmax)\n",
        "    attention_weights = torch.softmax(torch.tensor(attention_weights), dim=0).numpy()\n",
        "\n",
        "    # 可視化\n",
        "    plt.figure(figsize=(10, 5))\n",
        "    plt.bar(range(len(tokens)), attention_weights, tick_label=tokens, color=\"blue\")\n",
        "    plt.xticks(rotation=45, ha=\"right\", fontsize=10)\n",
        "    plt.title(f\"Attention Weights for Token: {tokens[target_token_index]} (Head {head_index})\")\n",
        "    plt.xlabel(\"Tokens\")\n",
        "    plt.ylabel(\"Attention Weight\")\n",
        "    plt.tight_layout()\n",
        "    plt.show()\n",
        "\n",
        "\n",
        "\n",
        "# 特定のトークン (例: 3番目のトークン) に注目\n",
        "visualize_attention_weights(encoder_outputs, tokenizer, input_ids, target_token_index=3, head_index=2)\n",
        "\n"
      ],
      "metadata": {
        "colab": {
          "base_uri": "https://localhost:8080/",
          "height": 527
        },
        "id": "pDERwLljJY-E",
        "outputId": "4369c6b4-c03b-4ce2-a3b4-a52429f29e51"
      },
      "execution_count": 87,
      "outputs": [
        {
          "output_type": "display_data",
          "data": {
            "text/plain": [
              "<Figure size 1000x500 with 1 Axes>"
            ],
            "image/png": "[encoded data removed]"
          },
          "metadata": {}
        }
      ]
    },
    {
      "cell_type": "code",
      "source": [
        "# 解説: モデル全体を使い、要約を生成します。\n",
        "output_ids = model.generate(input_ids, max_length=50, num_beams=4, early_stopping=True)\n",
        "output_text = tokenizer.decode(output_ids[0], skip_special_tokens=True)\n",
        "\n",
        "print(\"\\nInput Text:\", input_text)\n",
        "print(\"\\nGenerated Summary:\", output_text)\n",
        "\n",
        "# **学びのポイント:**\n",
        "# 1. エンコーダが入力文の意味をコンパクトに表現し、デコーダに受け渡す。\n",
        "# 2. Query, Key, Value によるトークン間の重み付けが、どの単語が重要かを決定する。\n",
        "# 3. エンコーダの出力がデコーダでどのように利用されるかを観察する。\n",
        "\n",
        "# **演習:**\n",
        "# 次の課題を試してください。\n",
        "# 1. 入力文を変えて、生成される要約がどのように変わるか確認する。\n",
        "# 2. `max_length` や `num_beams` を調整し、生成結果を観察する。\n",
        "# 3. `encoder_outputs.last_hidden_state` の内容を可視化してみる (例: 特徴のヒートマップを作成)。\n",
        "# 4. エンコーダ出力の特定のトークンに対する影響を観察し、デコーダがどの情報を利用しているかを推測する。\n"
      ],
      "metadata": {
        "colab": {
          "base_uri": "https://localhost:8080/"
        },
        "id": "gEQ_HnaZLvc4",
        "outputId": "07713f84-436d-4c3c-fb09-ad8a9d74d539"
      },
      "execution_count": 80,
      "outputs": [
        {
          "output_type": "stream",
          "name": "stdout",
          "text": [
            "\n",
            "Input Text: The cat, which is fluffy and white, is chasing a small mouse.\n",
            "\n",
            "Generated Summary: the cat, which is fluffy and white, is chasing a small mouse.\n"
          ]
        }
      ]
    }
  ]
}