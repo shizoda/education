{
  "nbformat": 4,
  "nbformat_minor": 0,
  "metadata": {
    "colab": {
      "provenance": []
    },
    "kernelspec": {
      "name": "python3",
      "display_name": "Python 3"
    },
    "language_info": {
      "name": "python"
    }
  },
  "cells": [
    {
      "cell_type": "markdown",
      "source": [
        "# フーリエ変換\n",
        "\n",
        "### 時間領域から周波数領域へ\n",
        "\n",
        "私たちが普段聞いている音は、空気の圧力変動が時間の経過と共にどう変化するかを示した**波形（時間領域の信号）**です。しかし、この波形を見ただけでは、音の高さ（周波数）や音色を理解するのは困難です。\n",
        "\n",
        "フーリエ変換は、この「時間領域」の信号を、「どの周波数の成分がどれくらいの強さで含まれているか」を示す**スペクトル（周波数領域の信号）**に変換する強力な数学的ツールです。これにより、音の特性を分析できます。\n",
        "\n",
        "- __基本周波数__: スペクトルの中で最も低い、強いピーク。音の基本的な高さを決定します。\n",
        "- __倍音__: 基本周波数の整数倍の周波数を持つ成分。倍音の構成バランスが、ピアノやギターといった楽器の音色の違いを生み出します。\n",
        "\n",
        "### 準備：ライブラリのインポート\n",
        "\n",
        "音声ファイルを扱うためのライブラリを追加でインポートします。\n",
        "\n",
        "- requests: インターネット上からファイルをダウンロードします。\n",
        "- scipy.io.wavfile: WAV形式の音声ファイルを読み書きします。\n",
        "- scipy.fft: 高速フーリエ変換（FFT）および逆変換（IFFT）を実行します。"
      ],
      "metadata": {
        "id": "h3vIdtwTEHKf"
      }
    },
    {
      "cell_type": "code",
      "execution_count": null,
      "metadata": {
        "id": "g5aFlcCRECa6"
      },
      "outputs": [],
      "source": [
        "import urllib.request\n",
        "from scipy.io import wavfile\n",
        "from scipy import fft\n",
        "import numpy as np\n",
        "import matplotlib.pyplot as plt"
      ]
    },
    {
      "cell_type": "markdown",
      "source": [
        "### 音声ファイルの読み込みと波形のプロット\n",
        "\n",
        "ダウンロードしたWAVファイルを読み込み、元のRコードと同様に、波形の一部（0.5秒から0.7秒）を切り出してプロットします。\n",
        "\n",
        "ファイルは https://freewavesamples.com にあるものを使います[（ライセンス情報）](https://freewavesamples.com/about-us-license)。"
      ],
      "metadata": {
        "id": "1SaGA24yEcsL"
      }
    },
    {
      "cell_type": "code",
      "source": [
        "# フリーWAVサンプルのURL\n",
        "url_wav = 'https://freewavesamples.com/files/Alesis-Fusion-Steel-String-Guitar-C4.wav'\n",
        "file_name = 'guitar_sound.wav'\n",
        "\n",
        "# ファイルをダウンロード\n",
        "print(f\"Downloading {file_name} from {url_wav}...\")\n",
        "try:\n",
        "    urllib.request.urlretrieve(url_wav, file_name)\n",
        "    print(\"Download complete.\")\n",
        "except Exception as e:\n",
        "    print(f\"An error occurred during download: {e}\")\n"
      ],
      "metadata": {
        "id": "Hb0wpVcPEmZL"
      },
      "execution_count": null,
      "outputs": []
    },
    {
      "cell_type": "code",
      "source": [
        "# WAVファイルを読み込む\n",
        "sampling_rate, data = wavfile.read(file_name)\n",
        "\n",
        "# ステレオかモノラルかを確認し、モノラルに変換\n",
        "if data.ndim > 1:\n",
        "    # 左右の平均をとってモノラル化\n",
        "    audio_data = data.mean(axis=1)\n",
        "else:\n",
        "    audio_data = data\n",
        "\n",
        "print(f\"Sampling Rate: {sampling_rate} Hz\")\n",
        "print(f\"Data Shape: {audio_data.shape}\")\n",
        "print(f\"Duration: {len(audio_data) / sampling_rate:.2f} seconds\")\n",
        "\n",
        "\n",
        "# 対象とする開始時間と終了時間を設定\n",
        "start_time = 0.5  # seconds\n",
        "end_time = 0.51   # seconds\n",
        "\n",
        "# サンプルインデックスに変換\n",
        "start_sample = int(start_time * sampling_rate)\n",
        "end_sample = int(end_time * sampling_rate)\n",
        "\n",
        "# データを切り出す\n",
        "clipped_data = audio_data[start_sample:end_sample]\n",
        "time_axis = np.linspace(start_time, end_time, num=len(clipped_data))\n",
        "\n",
        "# 音の波形（時間関数）を表示\n",
        "plt.figure(figsize=(12, 5))\n",
        "plt.plot(time_axis, clipped_data)\n",
        "plt.title('Audio Waveform (Time Domain)')\n",
        "plt.xlabel('Time [s]')\n",
        "plt.ylabel('Amplitude')\n",
        "plt.show()"
      ],
      "metadata": {
        "id": "5hmXGiZeEuvm"
      },
      "execution_count": null,
      "outputs": []
    },
    {
      "cell_type": "markdown",
      "source": [
        "書き込んでください\n",
        "- 横軸：\n",
        "- 縦軸："
      ],
      "metadata": {
        "id": "DABYLb6Hmf3k"
      }
    },
    {
      "cell_type": "markdown",
      "source": [
        "2.5. フーリエ変換と振幅スペクトルの表示\n",
        "\n",
        "切り出した音声データに**高速フーリエ変換（FFT）**を適用し、周波数スペクトルを計算します。横軸が周波数(Hz)、縦軸がその周波数成分の振幅（強さ）を示すグラフになります。"
      ],
      "metadata": {
        "id": "hRZJuQQAE-LA"
      }
    },
    {
      "cell_type": "code",
      "source": [
        "# 高速フーリエ変換（FFT）を実行\n",
        "N = len(clipped_data)\n",
        "yf = fft.fft(clipped_data)\n",
        "# 周波数軸を生成\n",
        "xf = fft.fftfreq(N, 1 / sampling_rate)\n",
        "\n",
        "# FFTの結果は複素数なので絶対値をとって振幅を求める\n",
        "# 結果は対称なので、正の周波数成分のみ（前半部分）をプロットする\n",
        "positive_freq_indices = np.where(xf >= 0)\n",
        "xf_pos = xf[positive_freq_indices]\n",
        "yf_pos_amp = np.abs(yf[positive_freq_indices])\n",
        "\n",
        "# 振幅スペクトルの表示\n",
        "plt.figure(figsize=(12, 5))\n",
        "# type=\"h\" のような棒グラフで表示\n",
        "plt.vlines(xf_pos, ymin=0, ymax=yf_pos_amp, color='b')\n",
        "plt.title('Amplitude Spectrum (Frequency Domain)')\n",
        "plt.xlabel('Frequency (Hz)')\n",
        "plt.ylabel('Amplitude')\n",
        "plt.xlim(0, 4000) # 見やすくするため、4000Hzまでの範囲を表示\n",
        "plt.show()"
      ],
      "metadata": {
        "id": "GBCISGICE_Sg"
      },
      "execution_count": null,
      "outputs": []
    },
    {
      "cell_type": "markdown",
      "source": [
        "__グラフの読み方__： このグラフに現れるいくつかの大きなピークが、このピアノの音を構成している主要な周波数です。最も左側にある大きなピークが基本周波数で、音の「ド」の高さを決めています。それより右側にあるピークは倍音で、このピアノ独特の豊かな音色を作り出しています。"
      ],
      "metadata": {
        "id": "JufBnHH3FCEP"
      }
    },
    {
      "cell_type": "markdown",
      "source": [
        "書き込んでください\n",
        "- 横軸：\n",
        "- 縦軸："
      ],
      "metadata": {
        "id": "mmmOfob7moU1"
      }
    },
    {
      "cell_type": "markdown",
      "source": [
        "### 逆フーリエ変換による波形の復元\n",
        "\n",
        "最後に、周波数スペクトルから**逆高速フーリエ変換（IFFT）**を行うことで、元の時間領域の波形を完全に復元できることを確認します。これは、フーリエ変換が情報を失うことなく、単に信号の表現形式を変えているだけであることを示しています。"
      ],
      "metadata": {
        "id": "gKImNpVhFKE3"
      }
    },
    {
      "cell_type": "code",
      "source": [
        "# 逆高速フーリエ変換（IFFT）を実行\n",
        "restored_data = fft.ifft(yf)\n",
        "\n",
        "# IFFTの結果は複素数なので実部を取り出す\n",
        "restored_data_real = np.real(restored_data)\n",
        "\n",
        "# 逆フーリエ変換の結果を表示\n",
        "plt.figure(figsize=(12, 5))\n",
        "plt.plot(time_axis, restored_data_real, color='green')\n",
        "plt.title('Restored Audio Waveform via IFFT')\n",
        "plt.xlabel('Time [s]')\n",
        "plt.ylabel('Amplitude')\n",
        "# 元の波形と同じスケールに合わせる\n",
        "plt.ylim(np.min(clipped_data), np.max(clipped_data))\n",
        "plt.show()"
      ],
      "metadata": {
        "id": "dNyesiyTFJMj"
      },
      "execution_count": null,
      "outputs": []
    },
    {
      "cell_type": "markdown",
      "source": [
        "書き込んでください\n",
        "- 横軸：\n",
        "- 縦軸："
      ],
      "metadata": {
        "id": "CwOyh5jvmpkl"
      }
    },
    {
      "cell_type": "markdown",
      "source": [
        "### 📖 課題\n",
        "\n",
        "別のファイル https://freewavesamples.com にある別のファイルを用いて、上記の処理を実行してください。\n",
        "\n",
        "解析する開始時間や終了時間は適宜変更してください。"
      ],
      "metadata": {
        "id": "SRDbVxuxk8o3"
      }
    },
    {
      "cell_type": "markdown",
      "source": [
        "### 📖 総括課題\n",
        "\n",
        "今回扱った\n",
        "\n",
        "- フーリエ係数\n",
        "- フーリエ級数展開\n",
        "- フーリエ変換\n",
        "- 逆フーリエ変換\n",
        "\n",
        "の 4 項目について、自分の言葉でまとめてください。以下の言葉を含めてください。\n",
        "\n",
        "- 近似\n",
        "- 周期 2$\\pi$\n",
        "- 時間\n",
        "- 周波数"
      ],
      "metadata": {
        "id": "jA50RhNXmW88"
      }
    },
    {
      "cell_type": "markdown",
      "source": [
        "（総括課題の回答欄）"
      ],
      "metadata": {
        "id": "kjCnWyF9mCL8"
      }
    }
  ]
}