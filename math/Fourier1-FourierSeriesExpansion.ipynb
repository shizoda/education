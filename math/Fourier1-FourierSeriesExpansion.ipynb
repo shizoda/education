{
  "nbformat": 4,
  "nbformat_minor": 0,
  "metadata": {
    "colab": {
      "provenance": []
    },
    "kernelspec": {
      "name": "python3",
      "display_name": "Python 3"
    },
    "language_info": {
      "name": "python"
    }
  },
  "cells": [
    {
      "cell_type": "markdown",
      "source": [
        "# フーリエ級数展開\n",
        "\n",
        "## 波の合成とフーリエ級数\n",
        "\n",
        "フランスの数学者ジョゼフ・フーリエは、「あらゆる周期的な波（関数）は、単純なサイン波とコサイン波の無限の和として表現できる」ことを発見しました。これをフーリエ級数展開と呼びます。\n",
        "\n",
        "このセクションでは、基本的なサイン波から始めて、それらを足し合わせる（合成する）ことで、より複雑な波形が作られる様子を視覚的に確認します。これはフーリエ級数の考え方を直感的に理解する第一歩です。\n",
        "\n",
        "### ライブラリのインポート\n",
        "\n",
        "まず、数値計算を行うためのnumpyと、グラフを描画するためのmatplotlib.pyplot および simpy をインポートします。"
      ],
      "metadata": {
        "id": "zKmV2xssACek"
      }
    },
    {
      "cell_type": "code",
      "source": [
        "import numpy as np\n",
        "import matplotlib.pyplot as plt\n",
        "\n",
        "# グラフのスタイルやサイズを調整\n",
        "plt.style.use('seaborn-v0_8-whitegrid')\n",
        "plt.rcParams['figure.figsize'] = (10, 4)\n",
        "\n",
        "try:\n",
        "  # 'google.colab'モジュールのインポートを試みる\n",
        "  import google.colab\n",
        "  print(\"環境: Google Colab ('sympy'はプリインストールされています)\")\n",
        "except ImportError:\n",
        "  # インポートに失敗した場合 (Colabではない環境)\n",
        "  print(\"環境: Google Colab ではありません。'sympy'をインストールします。\")\n",
        "  !pip install sympy\n",
        "\n",
        "from sympy import plot, sin, cos, pi\n",
        "from sympy.abc import x"
      ],
      "metadata": {
        "id": "9MbeUUhiASLI"
      },
      "execution_count": null,
      "outputs": []
    },
    {
      "cell_type": "markdown",
      "source": [
        "### 単純なサイン波の描画\n",
        "\n",
        "周波数が異なる2つのサイン波を描画します。\n",
        "\n",
        "sin(x)は基本となる波、sin(2*x) は周波数が2倍（周期が半分）の波です。"
      ],
      "metadata": {
        "id": "Ze06wdmSATaO"
      }
    },
    {
      "cell_type": "code",
      "source": [
        "p1 = plot(sin(x),   (x, -2*pi, 2*pi), ylim=(-1.5, 1.5))\n",
        "p2 = plot(sin(2*x), (x, -2*pi, 2*pi), ylim=(-1.5, 1.5))"
      ],
      "metadata": {
        "id": "24Km8oK-AWxh"
      },
      "execution_count": null,
      "outputs": []
    },
    {
      "cell_type": "markdown",
      "source": [
        "### 課題\n",
        "\n",
        "コードの数式部分を改変し、以下のカーブを描いてください。縦軸の範囲 `ylim` は適切に修正してください。\n",
        "\n",
        "- $ y = \\sin x + \\sin 2x$\n",
        "- $ y = \\sin x + 0.5 \\cos 3x + 0.5 \\sin 3x$"
      ],
      "metadata": {
        "id": "x2pvL5SOeuUp"
      }
    },
    {
      "cell_type": "code",
      "source": [
        "# この２行を書き換えます\n",
        "p1 = plot(sin(x),   (x, -2*pi, 2*pi), ylim=(-1.5, 1.5))\n",
        "p2 = plot(sin(2*x), (x, -2*pi, 2*pi), ylim=(-1.5, 1.5))"
      ],
      "metadata": {
        "id": "O6I586oXfKrH"
      },
      "execution_count": null,
      "outputs": []
    },
    {
      "cell_type": "markdown",
      "source": [
        "### 波の合成\n",
        "\n",
        "次に、上で作成した2つの波 sin(x) と sin(2*x) を足し合わせてみます。新しい、より複雑な波形が生まれるのがわかります。"
      ],
      "metadata": {
        "id": "A23nrkbnAdmZ"
      }
    },
    {
      "cell_type": "code",
      "source": [
        "# 2つの波を合成\n",
        "plot(sin(x) + sin(2*x),  (x, -2*pi, 2*pi), ylim=(-2, 2))"
      ],
      "metadata": {
        "id": "v6_-SxouAZL9"
      },
      "execution_count": null,
      "outputs": []
    },
    {
      "cell_type": "markdown",
      "source": [
        "### 矩形波の近似\n",
        "\n",
        "フーリエ級数の応用例として、奇数倍の周波数のサイン波を足し合わせることで矩形波（四角い波）を近似できます。項の数を増やすほど、より矩形に近づいていきます。\n",
        "\n",
        "$$ f(x)=\\sin(x)+\\cfrac{1}{3}​\\sin(3x)+\\cfrac{1}{5}​\\sin(5x)+\\cfrac{1}{7}\\sin(7x)+… $$"
      ],
      "metadata": {
        "id": "hDFZp2McAhJk"
      }
    },
    {
      "cell_type": "code",
      "source": [
        "from sympy import plot, sin, pi, Sum\n",
        "from sympy.abc import x, i\n",
        "\n",
        "# --- 矩形波の近似 ---\n",
        "\n",
        "# 近似に使う項数を変数で定義 (AとB)\n",
        "num_terms_A = 2\n",
        "num_terms_B = 3  # この数値を変更して、近似の様子を確認できます\n",
        "\n",
        "# 変数を使って近似式を生成 (AとB)\n",
        "y_square_A = Sum((1 / (2*i + 1)) * sin((2*i + 1) * x), (i, 0, num_terms_A - 1)).doit()\n",
        "y_square_B = Sum((1 / (2*i + 1)) * sin((2*i + 1) * x), (i, 0, num_terms_B - 1)).doit()\n",
        "\n",
        "# グラフを描画 (ラベルもA, Bを使用)\n",
        "p_square = plot(\n",
        "    (y_square_A, f'Approximation A ({num_terms_A} terms)'),\n",
        "    (y_square_B, f'Approximation B ({num_terms_B} terms)'),\n",
        "    (x, -2*pi, 2*pi),\n",
        "    title='Approximation of a Square Wave',\n",
        "    xlabel='x',\n",
        "    ylabel='Amplitude',\n",
        "    ylim=(-2, 2),\n",
        "    legend=True,\n",
        "    show=True\n",
        ")"
      ],
      "metadata": {
        "id": "lnm8N3VSAgqw"
      },
      "execution_count": null,
      "outputs": []
    },
    {
      "cell_type": "markdown",
      "source": [
        "### ノコギリ波の近似\n",
        "\n",
        "同様に、サイン波の和の係数を調整することでノコギリ波も近似できます。項の数を増やしてより精度の高い近似もできます。\n",
        "\n",
        "$$ f(x)=\\sin(x)−\\cfrac{1}{2}​\\sin(2x)+\\cfrac{1}{3}\\sin(3x)−\\cfrac{1}{4}\\sin(4x)+…$$"
      ],
      "metadata": {
        "id": "Q6CgH_XYA3mP"
      }
    },
    {
      "cell_type": "code",
      "source": [
        "from sympy import plot, sin, pi, Sum, symbols\n",
        "\n",
        "x, n = symbols('x n')\n",
        "\n",
        "# --- ノコギリ波の近似 ---\n",
        "\n",
        "# 近似に使う項数を変数で定義 (AとB)\n",
        "num_terms_A = 2\n",
        "num_terms_B = 3  # この数値を変更して、近似の様子を確認できます\n",
        "\n",
        "# 変数を使って近似式を生成 (AとB)\n",
        "y_sawtooth_A = (2 * Sum(((-1)**(n+1)) * (1/n) * sin(n*x), (n, 1, num_terms_A))).doit()\n",
        "y_sawtooth_B = (2 * Sum(((-1)**(n+1)) * (1/n) * sin(n*x), (n, 1, num_terms_B))).doit()\n",
        "\n",
        "# グラフを描画 (ラベルもA, Bを使用)\n",
        "p_sawtooth = plot(\n",
        "    (y_sawtooth_A, f'Approximation A ({num_terms_A} terms)'),\n",
        "    (y_sawtooth_B, f'Approximation B ({num_terms_B} terms)'),\n",
        "    (x, -2*pi, 2*pi),\n",
        "    title='Approximation of a Sawtooth Wave',\n",
        "    xlabel='x',\n",
        "    ylabel='Amplitude',\n",
        "    ylim=(-4, 4),\n",
        "    legend=True,\n",
        "    show=True\n",
        ")"
      ],
      "metadata": {
        "id": "hZcgGZPgBk3e"
      },
      "execution_count": null,
      "outputs": []
    },
    {
      "cell_type": "markdown",
      "source": [
        "### 課題\n",
        "\n",
        "矩形波・ノコギリ波それぞれコードを変更して項数を増やし、オレンジ色の線 (`Approximation B`) がより明瞭な矩形波・ノコギリ波になるようにしてください。"
      ],
      "metadata": {
        "id": "0ADNbrT6f78u"
      }
    }
  ]
}